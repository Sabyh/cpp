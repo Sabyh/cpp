{
 "cells": [
  {
   "cell_type": "markdown",
   "metadata": {},
   "source": [
    "# Object-Oriented Programming"
   ]
  },
  {
   "cell_type": "markdown",
   "metadata": {},
   "source": [
    "## Polymorphism and Inheritance\n",
    "Inheritance: One way that classes can relate to each other. Two classes might have a parent-child relationship such that the child inherits members from the parent. \n",
    "* Analogy: Plant -> Fruit -> Apple\n",
    "\n",
    "Polymorphism is a related concept that allows an interface to work with several different types.\n",
    "* Analogy: \n",
    "  * `cut` function that can work with the plant, fruit, or apple. The cut function might accept totally different types of objects, like a rope or paper object.\n",
    "  * `bruise` function that works with fruits and apples, but not with plants. \n",
    "  \n",
    "The fact that a function can work with multiple different types of data is an example of polymorphism."
   ]
  },
  {
   "cell_type": "markdown",
   "metadata": {},
   "source": [
    "## Bjarne on Inheritance\n",
    "Inheritance was a really hot topic in the 60s, 70s, and 80s, and still very cool in the 90s when Java came along. It's the basic idea that you build on top of something else. The first example of the user inheritance was in some modeling of emergency services in Oslo. You want to read or write a simulation that allows you to estimate where you put your emergency services, e.g. here's a fire station, a police station, etc. For that, you have to build a model of the city with streets, and you have to have vehicles moving on them. \n",
    "\n",
    "The idea is that you build a hierarchy of concepts, starting from the most general and then more and more specialized. E.g. a fire engine is a kind of a truck, which is a kind of a car, which is a kind of a vehicle. \n",
    "\n",
    "It's a way of organizing your data. It's now a lot less popular than it used to be, because it turns out that a lot of our ideas aren't all that hierarchical. "
   ]
  },
  {
   "cell_type": "markdown",
   "metadata": {},
   "source": [
    "## Inheritance\n",
    "Inheritance refers to a hierarchical structure of classes where one class inherits from another. We often call the top class the base class or the parent class, and the class that inherits from that is sometimes called the derived class or the child class. "
   ]
  },
  {
   "cell_type": "code",
   "execution_count": 5,
   "metadata": {},
   "outputs": [
    {
     "name": "stdout",
     "output_type": "stream",
     "text": [
      "Talk\n",
      "Hello!\n",
      "I'm walking.\n"
     ]
    }
   ],
   "source": [
    "#include <iostream>\n",
    "\n",
    "class Animal {\n",
    "    public:\n",
    "        void Talk() const { std::cout << \"Talk\\n\"; }\n",
    "};\n",
    "\n",
    "class Human : public Animal {\n",
    "    public:\n",
    "        void Talk() const { std::cout << \"Hello!\\n\"; }\n",
    "        void Walk() const { std::cout << \"I'm walking.\\n\"; }\n",
    "};\n",
    "\n",
    "\n",
    "Animal animal;\n",
    "animal.Talk();\n",
    "Human human;\n",
    "human.Talk();\n",
    "human.Walk();"
   ]
  },
  {
   "cell_type": "markdown",
   "metadata": {},
   "source": [
    "In everyday life, we tend to divide things into groups, based on their shared characteristics. Some groups might be: electronics, tools, vehicles, plants. \n",
    "\n",
    "Sometimes these groups have hierarchies, e.g.: computers & smartphones are both types of electronics, but computers and smartphones are also groups in and of themselves. \n",
    "\n",
    "     Electronics\n",
    "      |       |\n",
    "Computers   Smartphones"
   ]
  },
  {
   "cell_type": "code",
   "execution_count": 6,
   "metadata": {},
   "outputs": [],
   "source": [
    "class Vehicle {\n",
    "public:\n",
    "  int wheels = 0;\n",
    "  std::string color = \"blue\";\n",
    "\n",
    "  void Print() const\n",
    "  {\n",
    "    std::cout << \"This \" << color << \" vehicle has \" << wheels << \" wheels!\\n\";\n",
    "  }\n",
    "};\n",
    "\n",
    "class Car : public Vehicle {\n",
    "public:\n",
    "  bool sunroof = false;\n",
    "};\n",
    "\n",
    "class Bicycle : public Vehicle {\n",
    "public:\n",
    "  bool kickstand = true;\n",
    "};"
   ]
  },
  {
   "cell_type": "markdown",
   "metadata": {},
   "source": [
    "## Access Specifiers\n",
    "The access specifier `public` in the following line mandates how users of class `Car` can access data and methods from class `Vehicle`:\n",
    "```cpp\n",
    "class Car : public Vehicle {...}\n",
    "```\n",
    "\n",
    "Because class `Car` inherits from `public Vehicle`, users of class `Car` can call the member functions and member data of class `Vehicle`.\n",
    "\n",
    "It is possible to create a derived class that inherits from its base class, but doesn't expose the member functions of the base class by using the access specifier `private`. The functions within the derived class can call the member functions from the base class"
   ]
  },
  {
   "cell_type": "code",
   "execution_count": 7,
   "metadata": {},
   "outputs": [
    {
     "name": "stdout",
     "output_type": "stream",
     "text": [
      "Hey there!\n",
      "Whaa!\n"
     ]
    }
   ],
   "source": [
    "#include <iostream>\n",
    "#include <string>\n",
    "\n",
    "class Animal {\n",
    "    public:\n",
    "        void Talk() const {std::cout << \"Talking\\n\";}\n",
    "};\n",
    "\n",
    "class Human : public Animal {\n",
    "    public:\n",
    "        void Talk(std::string content) const {std::cout << content << \"\\n\";}\n",
    "};\n",
    "\n",
    "class Baby : private Human {\n",
    "    public:\n",
    "        void Cry() {Talk(\"Whaa!\");}\n",
    "};\n",
    "\n",
    "Human human;\n",
    "human.Talk(\"Hey there!\");\n",
    "Baby baby;\n",
    "baby.Cry();\n",
    "// Doesn't work: baby.Talk('I am super smart');"
   ]
  },
  {
   "cell_type": "markdown",
   "metadata": {},
   "source": [
    "### Inherited Access Specifiers\n",
    "Just as access specifiers (i.e. `public`, `protected`, `private`) define which class members _users_ can access, the same access modifiers also define which class members _users of a derived classes_ can access.\n",
    "\n",
    "[Public inheritance](https://en.cppreference.com/w/cpp/language/derived_class#Public_inheritance): the public and protected members of the base class listed after the specifier keep their member access in the derived class\n",
    "\n",
    "[Protected inheritance](https://en.cppreference.com/w/cpp/language/derived_class#Protected_inheritance): the public and protected members of the base class listed after the specifier are protected members of the derived class\n",
    "\n",
    "[Private inheritance](https://en.cppreference.com/w/cpp/language/derived_class#Private_inheritance): the public and protected members of the base class listed after the specifier are private members of the derived class\n",
    "\n",
    "Source: [C++ reference](https://en.cppreference.com/w/cpp/language/access)\n",
    "\n",
    "\n",
    "* Public: access to anyone\n",
    "* Private: access only within the class\n",
    "* Protected: access in friend classes"
   ]
  },
  {
   "cell_type": "code",
   "execution_count": 1,
   "metadata": {},
   "outputs": [],
   "source": [
    "// This example demonstrates the privacy levels\n",
    "// between parent and child classes\n",
    "#include <iostream>\n",
    "#include <string>\n",
    "using std::string;\n",
    "\n",
    "class Vehicle {\n",
    "    public:\n",
    "        int wheels = 0;\n",
    "        string color = \"blue\";\n",
    "\n",
    "        void Print() const\n",
    "        {\n",
    "            std::cout << \"This \" << color << \" vehicle has \" << wheels << \" wheels!\\n\";\n",
    "        }\n",
    "};\n",
    "\n",
    "class Car : public Vehicle {\n",
    "    public:\n",
    "        bool sunroof = false;\n",
    "};\n",
    "\n",
    "class Bicycle : protected Vehicle {\n",
    "    public:\n",
    "        bool kickstand = true;\n",
    "        void Wheels(int w) {\n",
    "            wheels = w;\n",
    "        }\n",
    "};\n",
    "\n",
    "class ElectricBike : public Bicycle {\n",
    "    public:\n",
    "        void Print() const {\n",
    "            std::cout << \"Electric bike with \" << wheels << \n",
    "                \" wheels and color \" << color << \"\\n\";\n",
    "        }\n",
    "};\n",
    "\n",
    "class Scooter : private Vehicle {\n",
    "    public:\n",
    "        bool electric = false;\n",
    "        void Wheels(int w) {\n",
    "            wheels = w;\n",
    "        }\n",
    "};\n",
    "\n",
    "class ElectricScooter : public Scooter {\n",
    "    public:\n",
    "        bool electric = true;\n",
    "    \n",
    "        // This won't work because wheels and color are inaccessible\n",
    "        // due to Scooter having inherited from private Vehicle\n",
    "        // void Print() const {\n",
    "        //     std::cout << \"Electric bike with \" << wheels << \n",
    "        //         \" wheels and color \" << color << \"\\n\";\n",
    "        // }\n",
    "    \n",
    "        void Print() const {\n",
    "            std::cout << \"Electric scooter\\n\";\n",
    "        }\n",
    "};"
   ]
  },
  {
   "cell_type": "code",
   "execution_count": 2,
   "metadata": {},
   "outputs": [
    {
     "name": "stdout",
     "output_type": "stream",
     "text": [
      "This blue vehicle has 4 wheels!\n",
      "Electric bike with 0 wheels and color blue\n",
      "Electric scooter\n"
     ]
    }
   ],
   "source": [
    "Car car;\n",
    "car.wheels = 4;\n",
    "car.Print();\n",
    "Bicycle bicycle;\n",
    "bicycle.Wheels(2);\n",
    "// bicycle.Print(); // Error: \"Vehicle is not an accessible base of Bicycle\"\n",
    "Scooter scooter;\n",
    "scooter.Wheels(2);\n",
    "// scooter.Print(); // Error: \"Vehicle is not an accessible base of Bicycle\"\n",
    "ElectricBike ebike;\n",
    "ebike.Print();\n",
    "ElectricScooter escooter;\n",
    "escooter.Print();"
   ]
  },
  {
   "cell_type": "markdown",
   "metadata": {},
   "source": [
    "## Composition\n",
    "Composition is an alternative to inheritance as a way to relate classes to each other.\n",
    "\n",
    "In the following example, we have a class Car, and a car is composed of wheels. By default, a Car object is initialized with a vector of four wheels.\n",
    "\n",
    "In this case, Car is composed of Wheels. Wheels don't inherit from Car, Car doesn't inherit from Wheels. A car isn't a type of wheel, a wheel isn't a type of car. A car simply has (is composed of) wheels. \n",
    "\n",
    "One could add seats or a steering wheel. "
   ]
  },
  {
   "cell_type": "code",
   "execution_count": 1,
   "metadata": {},
   "outputs": [
    {
     "name": "stdout",
     "output_type": "stream",
     "text": [
      "4\n"
     ]
    }
   ],
   "source": [
    "#include <iostream>\n",
    "#include <string>\n",
    "#include <vector>\n",
    "\n",
    "class Wheel {\n",
    "    public:\n",
    "        Wheel() : diameter(50) {}\n",
    "        float diameter;    \n",
    "};\n",
    "\n",
    "class Car {\n",
    "    public:\n",
    "        Car() : wheels(4, Wheel()) {}\n",
    "        std::vector<Wheel> wheels;\n",
    "};\n",
    "\n",
    "Car car;\n",
    "std::cout << car.wheels.size() << \"\\n\";"
   ]
  },
  {
   "cell_type": "markdown",
   "metadata": {},
   "source": [
    "[Composition](https://en.wikipedia.org/wiki/Composition_over_inheritance) is a closely related alternative to inheritance. Composition involves constructing (\"composing\") classes from other classes, instead of inheriting traits from a parent class. \n",
    "\n",
    "A common way to distinguish \"composition\" from \"inheritance\" is to think about what an object can do, rather than what it is. This is often expressed as [\"has a\"](https://en.wikipedia.org/wiki/Has-a) vs. [\"is a\"](https://en.wikipedia.org/wiki/Is-a).\n",
    "\n",
    "From the standpoint of composition, a cat \"has a\" head and \"has a\" set of paws and \"has a\" tail.\n",
    "\n",
    "From the standpoint of inheritance, a cat \"is a\" mammal.\n",
    "\n",
    "There are no hard rules about when to prefer composition over inheritance. In general, if a class needs only extend a small amount of functionality beyond what is already offered by another class, it makes sense to **inherit** from that other class. However, if a class needs to contain functionality from a variety of otherwise unrelated classes, it makes sense to **compose** the class from those other classes."
   ]
  },
  {
   "cell_type": "code",
   "execution_count": 2,
   "metadata": {},
   "outputs": [
    {
     "name": "stdout",
     "output_type": "stream",
     "text": [
      "3.14159, 28.2743\n"
     ]
    }
   ],
   "source": [
    "#include <iostream>\n",
    "#include <cmath>\n",
    "#include <assert.h>\n",
    "\n",
    "#define PI M_PI\n",
    "\n",
    "struct LineSegment {\n",
    "    public:\n",
    "        float length;       \n",
    "};\n",
    "\n",
    "class Circle {\n",
    "    public:\n",
    "        Circle(LineSegment& r) : radius(r) {}\n",
    "    \n",
    "        float Area() {\n",
    "            return PI * pow(radius.length,2);\n",
    "        }\n",
    "    private:\n",
    "        LineSegment& radius;\n",
    "};\n",
    "    \n",
    "LineSegment radius {3};\n",
    "Circle circle(radius);\n",
    "std::cout << PI << \", \" << circle.Area() << \"\\n\";\n",
    "assert(int(circle.Area()) == 28);"
   ]
  },
  {
   "cell_type": "markdown",
   "metadata": {},
   "source": [
    "## Macros\n",
    "[Macros](http://www.cplusplus.com/doc/tutorial/preprocessor/)"
   ]
  },
  {
   "cell_type": "code",
   "execution_count": 3,
   "metadata": {},
   "outputs": [
    {
     "name": "stdout",
     "output_type": "stream",
     "text": [
      "100\n",
      "5\n"
     ]
    }
   ],
   "source": [
    "#define TABLE_SIZE 100\n",
    "int table[TABLE_SIZE];\n",
    "std::cout << TABLE_SIZE << \"\\n\";\n",
    "\n",
    "#define getmax(a,b) ((a)>(b)?(a):(b))\n",
    "int x=5, y;\n",
    "y = getmax(x,2);\n",
    "std::cout << y << \"\\n\";"
   ]
  },
  {
   "cell_type": "markdown",
   "metadata": {},
   "source": [
    "## Class Hierarchy\n",
    "Multi-level inheritance is a term used for chained classes in an inheritance tree. This example shows multi-level inheritance."
   ]
  },
  {
   "cell_type": "code",
   "execution_count": 4,
   "metadata": {},
   "outputs": [],
   "source": [
    "#include <iostream>\n",
    "\n",
    "class Vehicle {\n",
    "    public:\n",
    "        int wheels;\n",
    "        std::string color;\n",
    "};\n",
    "\n",
    "class Car : public Vehicle {\n",
    "    public:\n",
    "        std::string brand;\n",
    "        int seats;\n",
    "        \n",
    "};\n",
    "\n",
    "class Sedan : public Car {\n",
    "    public:\n",
    "        int wheels = 4;\n",
    "        int seats = 4;\n",
    "        bool trunk = true;\n",
    "        std::string brand = \"Sedan\";\n",
    "};\n",
    "\n",
    "\n",
    "Sedan sedan;\n",
    "assert(sedan.trunk == true);\n",
    "assert(sedan.seats == 4);\n",
    "assert(sedan.wheels == 4);"
   ]
  },
  {
   "cell_type": "markdown",
   "metadata": {},
   "source": [
    "## Friends\n",
    "The `friend` keyword grants access to the private members of a class. It provides an alternative inheritance mechanism to derived classes. A `friend` class can access private members of the base class, which isn't the case for classical inheritance. In classical inheritance, a derived class can only access public and protected members of the base class."
   ]
  },
  {
   "cell_type": "code",
   "execution_count": 5,
   "metadata": {},
   "outputs": [
    {
     "name": "stdout",
     "output_type": "stream",
     "text": [
      "80\n",
      "150\n"
     ]
    }
   ],
   "source": [
    "// Note: friend classes don't work in Jupyter Notebook as of now\n",
    "class Human;\n",
    "\n",
    "class Heart {\n",
    "    private:\n",
    "        int rate{80};\n",
    "        friend class Human;\n",
    "};\n",
    "\n",
    "class Human {\n",
    "    public:\n",
    "        Heart heart;\n",
    "        void Exercise() {heart.rate = 150;}\n",
    "        int HeartRate() {return heart.rate;}\n",
    "};\n",
    "\n",
    "Human human;\n",
    "std::cout << human.HeartRate() << \"\\n\";\n",
    "human.Exercise();\n",
    "std::cout << human.HeartRate() << \"\\n\";"
   ]
  },
  {
   "cell_type": "markdown",
   "metadata": {},
   "source": [
    "## Polymorphism: Overloading\n",
    "Overloading is a type of polymorphism that allows us to pass different arguments to the same function name and have different implementations of that function that respond to the different arguments. "
   ]
  },
  {
   "cell_type": "code",
   "execution_count": 6,
   "metadata": {},
   "outputs": [
    {
     "name": "stdout",
     "output_type": "stream",
     "text": [
      "happy\n",
      "hydrated\n",
      "impaired\n",
      "alert\n",
      "cavities\n"
     ]
    }
   ],
   "source": [
    "#include <string>\n",
    "#include <iostream>\n",
    "\n",
    "class Water {};\n",
    "class Alcohol {};\n",
    "class Coffee {};\n",
    "class Soda {};\n",
    "\n",
    "class Human {\n",
    "    public:\n",
    "        std::string condition{\"happy\"};\n",
    "    \n",
    "        void Drink(Water water) {\n",
    "            condition = \"hydrated\";\n",
    "        }\n",
    "        void Drink(Alcohol alcohol) {\n",
    "            condition = \"impaired\";\n",
    "        }\n",
    "        void Drink(Coffee coffee) {\n",
    "            condition = \"alert\";\n",
    "        }\n",
    "        void Drink(Soda soda) {\n",
    "            condition = \"cavities\";\n",
    "        }\n",
    "};\n",
    "\n",
    "Human david;\n",
    "std::cout << david.condition << \"\\n\";\n",
    "david.Drink(Water());\n",
    "std::cout << david.condition << \"\\n\";\n",
    "david.Drink(Alcohol());\n",
    "std::cout << david.condition << \"\\n\";\n",
    "david.Drink(Coffee());\n",
    "std::cout << david.condition << \"\\n\";\n",
    "david.Drink(Soda());\n",
    "std::cout << david.condition << \"\\n\";"
   ]
  },
  {
   "cell_type": "markdown",
   "metadata": {},
   "source": [
    "[Polymorphism](https://www.merriam-webster.com/dictionary/polymorphism) means \"assuming many forms\".\n",
    "\n",
    "In the context of OOP, [polymorphism](https://en.wikipedia.org/wiki/Polymorphism_(computer_science) describes a paradigm in which a function may behave differently depending on how it is called, i.e. depending on its inputs.\n",
    "\n",
    "Polymorphism can be achieved in two ways in C++:\n",
    "* overloading\n",
    "* overriding\n",
    "\n",
    "### Overloading\n",
    "[Function overloading](https://en.wikipedia.org/wiki/Function_overloading) means writing several versions of a function with the same name. The function name stays the same while the function signature is changed. \n",
    "\n",
    "```cpp\n",
    "#include <ctime>\n",
    "\n",
    "class Date {\n",
    "public:\n",
    "    Date(int day, int month, int year) : day_(day), month_(month), year_(year) {}\n",
    "    Date(int day, int month) : day_(day), month_(month)  // automatically sets the Date to the current year\n",
    "    {\n",
    "        time_t t = time(NULL);\n",
    "        tm* timePtr = localtime(&t);\n",
    "        year_ = timePtr->tm_year;\n",
    "    }\n",
    "\n",
    "private:\n",
    "    int day_;\n",
    "    int month_;\n",
    "    int year_;\n",
    "};\n",
    "```"
   ]
  },
  {
   "cell_type": "markdown",
   "metadata": {},
   "source": [
    "## Polymorphism: Operator Overloading\n",
    "\n",
    "Operator overloading allows us to assign our own logic to operators so that we can do things like add two classes together, or multiply them, or apply braces, or parantheses, or brackets to them. \n",
    "\n",
    "Libraries that implement matrices and tools for linear algebra: [Eigen](https://www.google.com/search?q=eigen+cpp&rlz=1C5CHFA_enDE776NO779&oq=eigen+cpp&aqs=chrome..69i57j69i64j69i60.2000j0j7&sourceid=chrome&ie=UTF-8)\n",
    "\n",
    "Achieve polymorphism with [operator overloading](https://en.cppreference.com/w/cpp/language/operators). Choose any operator from the ASCII table and give it rules.\n",
    "\n",
    "In order to overload an operator, use the `operator` keyword in the function signature:\n",
    "```cpp\n",
    "Complex operator+(const Complex& addend) {\n",
    "  //...logic to add complex numbers\n",
    "}\n",
    "```\n",
    "\n",
    "Imagine vector addition. Perform vector addition on a pair of points to add their x & y components. The compiler won't recognize this type of operation on its own, because the data is user defined. This can be changed by overloading the `+` operator, though."
   ]
  },
  {
   "cell_type": "code",
   "execution_count": 7,
   "metadata": {},
   "outputs": [
    {
     "name": "stdout",
     "output_type": "stream",
     "text": [
      "4\n",
      "9\n",
      "0: 9\n",
      "1: 0\n",
      "2: 0\n",
      "3: 0\n",
      "Matrix3\n",
      "9\n",
      "0\n",
      "0\n",
      "0\n"
     ]
    }
   ],
   "source": [
    "#include <iostream>\n",
    "#include <vector>\n",
    "\n",
    "class Matrix {\n",
    "    public:\n",
    "        Matrix(int rows, int columns) : \n",
    "            rows_(rows), \n",
    "            columns_(columns), \n",
    "            values_(rows * columns) {}\n",
    "        // Writeable function\n",
    "        int& operator()(int row, int column) {\n",
    "            return values_[row*columns_ + column];\n",
    "        }\n",
    "        // Accessor function\n",
    "        int operator()(int row, int column) const {\n",
    "            return values_[row*columns_ + column];\n",
    "        }\n",
    "    \n",
    "        int Rows() const {return rows_;}\n",
    "        int Columns() const {return columns_;}\n",
    "        Matrix operator+(const Matrix& m) {\n",
    "            if (rows_ != m.Rows() || columns_ != m.Columns()) {\n",
    "                throw std::invalid_argument(\"Number of rows and columns must be the same.\\n\");\n",
    "            }\n",
    "            Matrix result(rows_, columns_);\n",
    "            for(int i = 0; i < values_.size(); i++) {\n",
    "                result(i/rows_, i%columns_) = values_[i] + m(i/rows_, i%columns_);\n",
    "                std::cout << i << \": \" << result(i/rows_, i%columns_) << \"\\n\";\n",
    "            }\n",
    "            \n",
    "            return result;\n",
    "        }\n",
    "    private:\n",
    "        int rows_;\n",
    "        int columns_;\n",
    "        std::vector<int> values_;\n",
    "};\n",
    "\n",
    "Matrix matrix1(2, 2);\n",
    "matrix1(0, 0) = 4;\n",
    "std::cout << matrix1(0, 0) << \"\\n\";\n",
    "matrix1(0, 0) = 9;\n",
    "std::cout << matrix1(0, 0) << \"\\n\";\n",
    "Matrix matrix2(2, 2);\n",
    "Matrix matrix3 = matrix1 + matrix2;\n",
    "std::cout << \"Matrix3\\n\";\n",
    "std::cout << matrix3(0, 0) << \"\\n\";\n",
    "std::cout << matrix3(0, 1) << \"\\n\";\n",
    "std::cout << matrix3(1, 0) << \"\\n\";\n",
    "std::cout << matrix3(1, 1) << \"\\n\";\n"
   ]
  },
  {
   "cell_type": "markdown",
   "metadata": {},
   "source": [
    "How to set and access the data:\n",
    "* In order to set the data, we need to overload the parantheses operator, and we'll pass in a row and column\n",
    "  * `int& operator()(int row, int column) {...}`\n",
    "  * We're returning the reference to an int. This has to do with memory management. By returning the reference to the int in the matrix, we can overwrite the value. "
   ]
  },
  {
   "cell_type": "markdown",
   "metadata": {},
   "source": [
    "## Virtual Functions\n",
    "Virtual functions allows us to define an abstract class that can function as an interface from which other classes can be derived. \n",
    "\n",
    "In the example below, we can make `Talk()` a virtual function, since it is not clear how animals talk. By setting the virtual `Talk()` function to `0`, it is being declared as a pure virtual function.\n",
    "\n",
    "A virtual function can be overridden by the derived class. What the equal zero means is that we're not even going to define how an animal talks. We're never going to be able to create an object of type animal. We're simply creating an interface and other classes that inherit from the base class animal are going to have to implement the talk method. "
   ]
  },
  {
   "cell_type": "code",
   "execution_count": 8,
   "metadata": {},
   "outputs": [
    {
     "name": "stdout",
     "output_type": "stream",
     "text": [
      "Hello\n"
     ]
    }
   ],
   "source": [
    "#include <iostream>\n",
    "\n",
    "class Animal {\n",
    "    virtual void Talk() const = 0;\n",
    "};\n",
    "\n",
    "class Human : public Animal {\n",
    "  public:\n",
    "    void Talk() const {\n",
    "        std::cout << \"Hello\\n\";\n",
    "    }\n",
    "};\n",
    "\n",
    "// Animal animal; // Cannot declare an object of an abstract class\n",
    "Human me;\n",
    "me.Talk();"
   ]
  },
  {
   "cell_type": "markdown",
   "metadata": {},
   "source": [
    "Virtual functions are a polymorphic feature. These functions are declared (and possibly defined) in a base class, and can be overriden by derived classes.\n",
    "\n",
    "This approach declares an interface at the base level, but delegates the implementation of the interface to the derived class. \n",
    "\n",
    "A pure virtual function is a virtual function that the base class declares but does not define.\n",
    "\n",
    "A pure virtual function has the side effect of making its class abstract. This means that the class can not be instantiated. Only classes that derive from the abstract class and override the pure virtual function can be instantiated.\n",
    "\n",
    "Check the [C++ glossary](http://isocpp.github.io/CppCoreGuidelines/CppCoreGuidelines#S-glossary) for definitions of all the terms (e.g. interface, pure virtual function, virtual function, declaration, definition, abstract).\n",
    "\n",
    "```cpp\n",
    "class Shape {\n",
    "    public:\n",
    "        Shape() {}\n",
    "        virtual double Area() const = 0;\n",
    "        virtual double Perimeter() const = 0;\n",
    "};\n",
    "```\n",
    "\n",
    "Using the keyword `override` is best practice to let the compiler and other programmers know that these functions are meant to override the functions in the base class."
   ]
  },
  {
   "cell_type": "code",
   "execution_count": 9,
   "metadata": {},
   "outputs": [
    {
     "name": "stdout",
     "output_type": "stream",
     "text": [
      "77.346\n",
      "476.065\n",
      "32\n",
      "60\n"
     ]
    }
   ],
   "source": [
    "// Example solution for Shape inheritance\n",
    "#include <assert.h>\n",
    "#include <cmath>\n",
    "#include <iostream>\n",
    "\n",
    "#define PI M_PI\n",
    "\n",
    "class Shape {\n",
    "    public:\n",
    "        virtual double Area() const = 0;\n",
    "        virtual double Perimeter() const = 0;\n",
    "};\n",
    "\n",
    "class Rectangle : public Shape {\n",
    "  public:\n",
    "    Rectangle(double width, double height) : width(width), height(height) {}\n",
    "    double Area() const override {return width * height;}\n",
    "    double Perimeter() const override {return 2*width + 2*height;}\n",
    "  private:\n",
    "    double width;\n",
    "    double height;\n",
    "};\n",
    "\n",
    "class Circle : public Shape {\n",
    "  public:\n",
    "    Circle(double radius) : radius(radius) {}\n",
    "    double Area() const override {return PI * radius * radius;}\n",
    "    double Perimeter() const override {return 2 * PI * radius;}\n",
    "  private:\n",
    "    double radius;\n",
    "};\n",
    "\n",
    "\n",
    "double epsilon = 0.1; // useful for floating point equality\n",
    "\n",
    "// Test circle\n",
    "Circle circle(12.31);\n",
    "assert(abs(circle.Perimeter() - 77.35) < epsilon);\n",
    "std::cout << circle.Perimeter() << \"\\n\";\n",
    "assert(abs(circle.Area() - 476.06) < epsilon);\n",
    "std::cout << circle.Area() << \"\\n\";\n",
    "\n",
    "// Test rectangle\n",
    "Rectangle rectangle(10, 6);\n",
    "assert(rectangle.Perimeter() == 32);\n",
    "std::cout << rectangle.Perimeter() << \"\\n\";\n",
    "assert(rectangle.Area() == 60);\n",
    "std::cout << rectangle.Area() << \"\\n\";\n"
   ]
  },
  {
   "cell_type": "markdown",
   "metadata": {},
   "source": [
    "## Polymorphism: Overriding\n",
    "Overriding a function occurs when:\n",
    "1. A base class declares a `virtual` function.\n",
    "2. A derived class _overrides_ that virtual function by defining its own implementation with an identical function signature (i.e. the same function name and argument types).\n",
    "\n",
    "```cpp\n",
    "class Animal {\n",
    "public:\n",
    "  virtual std::string Talk() const = 0;\n",
    "};\n",
    "\n",
    "class Cat : public Animal{\n",
    "public:\n",
    "  std::string Talk() const { return std::string(\"Meow\"); }\n",
    "};\n",
    "```\n",
    "\n",
    "### Function Hiding\n",
    "Function hiding is a [closely related, but distinct form](https://stackoverflow.com/questions/19736281/what-are-the-differences-between-overriding-virtual-functions-and-hiding-non-vir) of overriding.\n",
    "\n",
    "A derived class hides a base class function, as opposed to overriding it, if the base class function is not specified to be `virtual`. \n",
    "\n",
    "In the following example, `Lion` is derived from `Cat`. Both classes have a `Talk()` member function. When an object of type `Lion` calls `Talk()`, the object will run `Lion::Talk()`, not `Cat::Talk()`. \n",
    "\n",
    "In this situation, `Lion::Talk()` is _hiding_ `Cat::Talk()`. If `Cat::Talk()` were `virtual`, then `Lion::Talk()` would _override_ `Cat::Talk()`, instead of _hiding_ it. _Overriding_ requires a `virtual` function in the base class.\n",
    "\n",
    "```cpp\n",
    "class Cat { // Here, Cat does not derive from a base class\n",
    "public:\n",
    "  std::string Talk() const { return std::string(\"Meow\"); }\n",
    "};\n",
    "\n",
    "class Lion : public Cat {\n",
    "public:\n",
    "  std::string Talk() const { return std::string(\"Roar\"); }\n",
    "};\n",
    "```\n",
    "The distinction between overriding and hiding is subtle and not terribly significant, but in certain situations `hiding` can [lead to bizarre errors](https://isocpp.org/wiki/faq/strange-inheritance), particularly when the two functions have slightly different function signatures."
   ]
  },
  {
   "cell_type": "markdown",
   "metadata": {},
   "source": [
    "## Override\n",
    "The `override` keyword can help catch errors when working with inheritance. It is [best practice](http://isocpp.github.io/CppCoreGuidelines/CppCoreGuidelines#Rh-override) to use it, as it empowers the compiler to verify the code, and communicates the intention of the code to future users.\n",
    "\n",
    "```cpp\n",
    "class Shape {\n",
    "public:\n",
    "  virtual double Area() const = 0;\n",
    "  virtual double Perimeter() const = 0;\n",
    "};\n",
    "\n",
    "class Circle : public Shape {\n",
    "public:\n",
    "  Circle(double radius) : radius_(radius) {}\n",
    "  double Area() const override { return pow(radius_, 2) * PI; } // specified as an override function\n",
    "  double Perimeter() const override { return 2 * radius_ * PI; } // specified as an override function\n",
    "\n",
    "private:\n",
    "  double radius_;\n",
    "};\n",
    "```\n",
    "\n",
    "### Exercise: Build Vehicle Motion Models\n",
    "Build two [vehicle model](http://www.cs.cmu.edu/~motionplanning/reading/PlanningforDynamicVeh-1.pdf).\n",
    "\n",
    "The robot moves in a configuration space $X$. A\n",
    "configuration is given by $(x, y, \\theta)$ where $x$ and $y$ represent the coordinates of the characteristic point located midway of the rear wheels. $\\theta$ represents the\n",
    "orientation of the mobile.\n",
    "The classical car-like model represented on figure 1\n",
    "uses a kinematic based differential system\n",
    "\n",
    "$$ \\begin{equation} \\begin{split}\n",
    "\\dot{x} &= v \\cos \\theta \\\\\n",
    "\\dot{y} &= v \\sin \\theta \\\\\n",
    "\\dot{\\theta} &= \\frac{v}{L} \\tan \\delta\n",
    "\\end{split} \\end{equation}\n",
    "$$\n",
    "\n",
    "This leads to two vehile motion models:\n",
    "\n",
    "* `class ParticleModel`\n",
    "  * states: `x`, `y`, `theta` (heading)\n",
    "  * `Move(double v, double delta)` includes instantaneous steering:\n",
    "    * `theta += delta`\n",
    "    * `x += v * cos(theta)`\n",
    "    * `y += v * sin(theta)`\n",
    "* `class BicycleModel`\n",
    "  * states: `x`, `y`, `theta` (heading), `L` (length of vehicle)\n",
    "  * `Move(double v, double delta)` is affected by the length of the vehicle:\n",
    "    * `theta += v / L * tan(delta)`\n",
    "    * `x += v * cos(theta)`\n",
    "    * `y += v * sin(theta)`"
   ]
  },
  {
   "cell_type": "code",
   "execution_count": 10,
   "metadata": {},
   "outputs": [
    {
     "name": "stdout",
     "output_type": "stream",
     "text": [
      "0, 0, 0\n",
      "0, 0, 0\n",
      "9.39693, 3.4202, 0.349066\n",
      "-8.78487, -4.77766, 3.6397\n"
     ]
    }
   ],
   "source": [
    "#include <assert.h>\n",
    "#include <cmath>\n",
    "#include <iostream>\n",
    "\n",
    "#define PI M_PI\n",
    "\n",
    "\n",
    "class VehicleModel {\n",
    "    public:\n",
    "        virtual void Move(double v, double delta) = 0;\n",
    "};\n",
    "\n",
    "\n",
    "class ParticleModel : public VehicleModel {\n",
    "    public:\n",
    "        ParticleModel() : x(0), y(0), theta(0) {}\n",
    "        ParticleModel(double x, double y, double theta) : x(x), y(y), theta(theta) {}\n",
    "    \n",
    "        void Move(double v, double delta) override {\n",
    "            this->theta += delta;\n",
    "            this->x += v * cos(this->theta);\n",
    "            this->y += v * sin(this->theta);\n",
    "        }\n",
    "    \n",
    "        double x, y, theta;     \n",
    "};\n",
    "\n",
    "class BicycleModel : public ParticleModel {\n",
    "    public:\n",
    "        BicycleModel() : ParticleModel(0, 0, 0), L(1) {}\n",
    "    \n",
    "        void Move(double v, double delta) override {\n",
    "            this->theta += v / this->L * tan(delta);\n",
    "            this->x += v * cos(this->theta);\n",
    "            this->y += v * sin(this->theta);\n",
    "        }\n",
    "    \n",
    "        double L;\n",
    "};\n",
    "\n",
    "\n",
    "// Test function overriding\n",
    "ParticleModel particle;\n",
    "BicycleModel bicycle;\n",
    "std::cout << particle.x << \", \" << particle.y << \", \" << particle.theta << \"\\n\";\n",
    "std::cout << bicycle.x << \", \" << bicycle.y << \", \" << bicycle.theta << \"\\n\";\n",
    "particle.Move(10, PI / 9);\n",
    "bicycle.Move(10, PI / 9);\n",
    "assert(particle.x != bicycle.x);\n",
    "assert(particle.y != bicycle.y);\n",
    "assert(particle.theta != bicycle.theta);\n",
    "std::cout << particle.x << \", \" << particle.y << \", \" << particle.theta << \"\\n\";\n",
    "std::cout << bicycle.x << \", \" << bicycle.y << \", \" << bicycle.theta << \"\\n\";"
   ]
  },
  {
   "cell_type": "markdown",
   "metadata": {},
   "source": [
    "## Multiple Inheritance\n",
    "Multiple inheritance allows us to create a derived class from two different base classes."
   ]
  },
  {
   "cell_type": "code",
   "execution_count": 1,
   "metadata": {},
   "outputs": [
    {
     "name": "stdout",
     "output_type": "stream",
     "text": [
      "I'm driving!\n",
      "I'm cruising!\n",
      "I'm driving!\n",
      "I'm cruising!\n"
     ]
    }
   ],
   "source": [
    "#include <cassert>\n",
    "#include <iostream>\n",
    "\n",
    "class Car {\n",
    "    public:\n",
    "        std::string Drive() { return \"I'm driving!\";}\n",
    "};\n",
    "\n",
    "class Boat {\n",
    "    public:\n",
    "        std::string Cruise() { return \"I'm cruising!\";}\n",
    "};\n",
    "\n",
    "class AmphibiousCar : public Boat, public Car {};\n",
    "\n",
    "Car car;\n",
    "Boat boat;\n",
    "AmphibiousCar duck;\n",
    "assert(duck.Drive() == car.Drive());\n",
    "assert(duck.Cruise() == boat.Cruise());\n",
    "\n",
    "std::cout << car.Drive() << std::endl;\n",
    "std::cout << boat.Cruise() << std::endl;\n",
    "std::cout << duck.Drive() << std::endl;\n",
    "std::cout << duck.Cruise() << std::endl;"
   ]
  },
  {
   "cell_type": "markdown",
   "metadata": {},
   "source": [
    "Read the Core Guidelines to find out how and when to use multiple inheritance:\n",
    "* [Use multiple inheritance to represent multiple distinct interfaces](http://isocpp.github.io/CppCoreGuidelines/CppCoreGuidelines#c135-use-multiple-inheritance-to-represent-multiple-distinct-interfaces)\n",
    "* [Use multiple inheritance to represent the union of implementation attributes](http://isocpp.github.io/CppCoreGuidelines/CppCoreGuidelines#c136-use-multiple-inheritance-to-represent-the-union-of-implementation-attributes)"
   ]
  },
  {
   "attachments": {
    "Screen%20Shot%202020-11-24%20at%207.17.35%20PM.png": {
     "image/png": "[encoded data removed]"
    }
   },
   "cell_type": "markdown",
   "metadata": {},
   "source": [
    "Multiple inheritance is tricky and can present an issue known as the diamond problem. \n",
    "\n",
    "The Diamond Problem:\n",
    "* If a class inherits from two base classes, both of which themselves inherit from the same abstract class, a conflict can emerge. If both classes implement a method differently, it is not clear which of the inherited functions should be executed.\n",
    "\n",
    "![Screen%20Shot%202020-11-24%20at%207.17.35%20PM.png](attachment:Screen%20Shot%202020-11-24%20at%207.17.35%20PM.png)"
   ]
  },
  {
   "cell_type": "markdown",
   "metadata": {},
   "source": [
    "## Generic Programming\n",
    "Generic programming is an example of polymorphism that generalizes the parameters of classes and functions. By using a C++ facility called a template, you can build classes and functions that work with many different types of data.\n",
    "\n",
    "The vector class from the standard library is an example of generic programming. Next: Learn about templates and how to use them in generic programming to make your code more generalizable. That way you can reuse the code in many different situations. "
   ]
  },
  {
   "cell_type": "markdown",
   "metadata": {},
   "source": [
    "## Bjarne on Generic Programming\n",
    "### Is there an alternative to inheritance?\n",
    "That's where generic programming comes in. You have a bunch of classes, and you don't want to organize them in a hierarchy. \n",
    "\n",
    "What you want to say is e.g. \"this algorithm works for anything that you can draw\". You don't want to build a hierarchy so you can have in the interface a draw function. You just say that anything that you can draw you can use with this algorithm, and so you get parameterization. You have an algorithm that's parameterized with the element types, and it will work provided the element type has the required properties, like draw and rotate. So the hierarchy disappears, the inheritance disappears, but the ability to operate on anything that has the right interface stays. \n",
    "\n",
    "That's where the C++ language has moved to a more generic style of coding. "
   ]
  },
  {
   "cell_type": "markdown",
   "metadata": {},
   "source": [
    "## Templates\n",
    "Templates are a tool for generic programming in C++. They allow us to specify a generic type, in this example we'll call that type T, and then use that generic type for the function signature and even within the function. "
   ]
  },
  {
   "cell_type": "code",
   "execution_count": 2,
   "metadata": {},
   "outputs": [],
   "source": [
    "#include <cassert>\n",
    "#include <string>\n",
    "#include <iostream>\n",
    "\n",
    "template <typename T>\n",
    "T Max(T a, T b) {\n",
    "    return a > b ? a : b;\n",
    "}"
   ]
  },
  {
   "cell_type": "code",
   "execution_count": 3,
   "metadata": {},
   "outputs": [
    {
     "name": "stdout",
     "output_type": "stream",
     "text": [
      "4\n",
      "-1\n",
      "b\n"
     ]
    }
   ],
   "source": [
    "std::cout << Max<int>(2, 4) << std::endl;\n",
    "std::cout << Max<double>(-1.0, -2.3) << std::endl;\n",
    "std::cout << Max<char>('a', 'b') << std::endl;"
   ]
  },
  {
   "cell_type": "markdown",
   "metadata": {},
   "source": [
    "Templates enable generic programming by generalizing a function to apply to any class. Specifically, templates use _types_ as parameters so that the same implementation can operate on different data types.\n",
    "\n",
    "For example, you might need a function to accept many different data types. The function acts on those arguments, perhaps dividing them or sorting them or something else. Rather than writing and maintaining the multiple function declarations, each accepting slightly different arguments, you can write one function and pass the argument types as parameters. At compile time, the compiler then expands the code using the types that are passed as parameters."
   ]
  },
  {
   "cell_type": "code",
   "execution_count": 4,
   "metadata": {},
   "outputs": [],
   "source": [
    "template <typename Type>\n",
    "Type Sum(Type a, Type b) {\n",
    "    return a + b; \n",
    "}"
   ]
  },
  {
   "cell_type": "code",
   "execution_count": 5,
   "metadata": {},
   "outputs": [],
   "source": [
    "#include <iostream>\n",
    "\n",
    "std::cout << Sum<double>(20.0, 13.4) << \"\\n\"; \n",
    "std::cout << Sum<char>('Z', 'j') << \"\\n\";"
   ]
  },
  {
   "cell_type": "markdown",
   "metadata": {},
   "source": [
    "The keyword `template` is used to specify which function is generic. It is mandatory to put the `template<>` tag before the function signature, to specify and mark that the declaration is generic. \n",
    "\n",
    "Besides `template`, the keyword `typename` (or, alternatively, `class`) specifies the generic type in the function prototype. The parameters that follow `typename` (or `class`) represent generic types in the function declaration.\n",
    "\n",
    "In order to instantiate a templatized class, use a templatized constructor, e.g. `Sum<double>(20.0, 13.7)`. "
   ]
  },
  {
   "cell_type": "markdown",
   "metadata": {},
   "source": [
    "## Bjarne on Templates\n",
    "### What benefits do templates provide?\n",
    "Templates in C++ is support for generic programming. A template is something you can parameterize with types or values. Classical example: Start with a vector of element types. These days we can have a vector and an allocator, which is an operation that parameterizes with this, so how it can get memory, and then once you have parameterized types, you need parameterized algorithms, because you want sort to work with various types of vectors, and the find function to work for both a vector of strings and a list of integers.\n",
    "\n",
    "There's actually two parts of the support for generic programming in C++ now: \n",
    "* Templates\n",
    "  * give us the ability to express just about anything and to manipulate things at compile-time and to do it really efficiently but it has had lousy interfaces: I could not actually say what are the requirements of the elements of a vector. It at least have to be copied - otherwise you can't do it in C++.\n",
    "  * what is the requirement of something you can draw? That it has a draw operation. If you want to manipulate a shape, and it has a draw and rotate operation, we weren't able to express that. It's always been the idea that we'd like to be able to express it, but we haven't been able to until now. \n",
    "* C++20 will have something called concepts that allows you to precisely specify a template's requirements on its arguments. "
   ]
  },
  {
   "cell_type": "markdown",
   "metadata": {},
   "source": [
    "## Comparison Operation\n",
    "```cpp\n",
    "#include <assert.h>\n",
    "\n",
    "template <typename T>\n",
    "T Max(T a, T b) {\n",
    "    return a > b ? a : b;\n",
    "}\n",
    "\n",
    "int main() { \n",
    "  assert(Max(10, 50) == 50);\n",
    "  assert(Max(5.7, 1.436246) == 5.7);\n",
    "}\n",
    "```"
   ]
  },
  {
   "cell_type": "markdown",
   "metadata": {},
   "source": [
    "## Deduction\n",
    "Template deduction is when the compiler determines the type for a template automatically without us having to specify it. \n",
    "\n",
    "\n",
    "See the difference between total and partial [deduction](https://isocpp.github.io/CppCoreGuidelines/CppCoreGuidelines#Rt-deduce). \n",
    "\n",
    "Deduction occurs when you instantiate an object without explicitly identifying the types. Instead, the compiler \"deduces\" the types. This can be helpful for writing code that is generic and can handle a variety of inputs. \n",
    "\n",
    "e.g. in the `Max` function as defined above, it is possible to explicitly state the type when calling it, or using type deduction by omitting the type:\n",
    "```cpp\n",
    "assert(Max<int>(2, 4) == 4);\n",
    "assert(Max<double>(-1.0, -2.3) == -1.0);\n",
    "assert(Max<char>('a', 'b') == 'b');\n",
    "\n",
    "assert(Max(2, 4) == 4);\n",
    "assert(Max(-1.0, -2.3) == -1.0);\n",
    "assert(Max('a', 'b') == 'b');\n",
    "```\n",
    "\n",
    "When it comes to using vectors, C++17 can deduce the type used in vectors. Before that, the compiler would throw an error. So, this works in C++17:\n",
    "```cpp\n",
    "std::vector v{1, 2, 3};\n",
    "assert(v.size() == 3);\n",
    "\n",
    "// This is necessary in older C++ versions:\n",
    "std::vector<int> v{1, 2, 3};\n",
    "```"
   ]
  },
  {
   "cell_type": "markdown",
   "metadata": {},
   "source": [
    "## Class Template\n",
    "Classes are the building blocks of OOP in C++. Templates support the creation of generic classes!\n",
    "\n",
    "Class templates can declare and implement generic attributes for use by generic methods. These templates can be very useful when building classes that will serve multiple purposes. "
   ]
  },
  {
   "cell_type": "code",
   "execution_count": 6,
   "metadata": {},
   "outputs": [],
   "source": [
    "#include <assert.h>\n",
    "#include <string>\n",
    "#include <sstream>\n",
    "#include <iostream>\n",
    "\n",
    "template <typename KeyType, typename ValueType>\n",
    "class Mapping {\n",
    "public:\n",
    "  Mapping(KeyType key, ValueType value) : key(key), value(value) {}\n",
    "  std::string Print() const {\n",
    "    std::ostringstream stream;\n",
    "    stream << key << \": \" << value;\n",
    "    return stream.str();\n",
    "  }\n",
    "  KeyType key;\n",
    "  ValueType value;\n",
    "};"
   ]
  },
  {
   "cell_type": "code",
   "execution_count": 7,
   "metadata": {},
   "outputs": [],
   "source": [
    "// Test\n",
    "Mapping<std::string, int> mapping(\"age\", 20);\n",
    "assert(mapping.Print() == \"age: 20\");\n",
    "std::cout << mapping.Print() << std::endl;"
   ]
  },
  {
   "cell_type": "markdown",
   "metadata": {},
   "source": [
    "## Summary\n",
    "* Classes are how C++ groups information\n",
    "* Members of those classes store data and provide functions\n",
    "* Constructors instantiate objects of the class\n",
    "* Classes encapsulate data and abstract how that data is used\n",
    "* Users of the class only need to know about its interface, not about the details of how the data is stored or how the functions are implemented\n",
    "* Inheritance hierarchies define how classes are related to each other and any members they might inherit\n",
    "* Generic programming and polymorphism in particular, allow the same code to work with multiple different system-defined and user-defined types. This makes the code more reusable and saves repetition"
   ]
  },
  {
   "cell_type": "markdown",
   "metadata": {},
   "source": [
    "## Bjarne on Best Practices with Classes\n",
    "Map to the users concepts. Listen to them and have them explain their problems and solutions on a white board is an excellent way of learning that. \n",
    "\n",
    "Reading some sort of simplified book about a topic. If you're helping historians it would be a good idea to read a little bit of art history. If you're helping a biologist, you probably want to learn something about the kind of biology you're doing (e.g. genes, protein folding, cells, etc.). So you have to learn a bit so that you get the fundamental concepts. \n",
    "\n",
    "Now, once you've gotten that, start simple. A lot of people try to build the perfect model of the users/customers world. That never works. What you have to do is to build the simplest version of a few cases that you think you understand and then see if they work. They won't work. Not the first time. \n",
    "\n",
    "What you then do is you learn from this experience. You have the customers, users, whatever you call them, tell you what you got slightly wrong and then you extend them a little bit with the right facilities or fix them if they were wrong. \n",
    "\n",
    "This is basic engineering. You build something, you try it out, you rely on feedback, and then you evolve the system based on that. "
   ]
  }
 ],
 "metadata": {
  "kernelspec": {
   "display_name": "C++17",
   "language": "C++17",
   "name": "xcpp17"
  },
  "language_info": {
   "codemirror_mode": "text/x-c++src",
   "file_extension": ".cpp",
   "mimetype": "text/x-c++src",
   "name": "c++",
   "version": "17"
  }
 },
 "nbformat": 4,
 "nbformat_minor": 4
}
