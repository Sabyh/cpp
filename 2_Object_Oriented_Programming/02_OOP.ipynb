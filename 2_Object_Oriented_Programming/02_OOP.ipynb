{
 "cells": [
  {
   "cell_type": "markdown",
   "metadata": {},
   "source": [
    "# Object-Oriented Programming"
   ]
  },
  {
   "cell_type": "markdown",
   "metadata": {},
   "source": [
    "## Polymorphism and Inheritance\n",
    "Inheritance: One way that classes can relate to each other. Two classes might have a parent-child relationship such that the child inherits members from the parent. \n",
    "* Analogy: Plant -> Fruit -> Apple\n",
    "\n",
    "Polymorphism is a related concept that allows an interface to work with several different types.\n",
    "* Analogy: \n",
    "  * `cut` function that can work with the plant, fruit, or apple. The cut function might accept totally different types of objects, like a rope or paper object.\n",
    "  * `bruise` function that works with fruits and apples, but not with plants. \n",
    "  \n",
    "The fact that a function can work with multiple different types of data is an example of polymorphism."
   ]
  },
  {
   "cell_type": "markdown",
   "metadata": {},
   "source": [
    "## Bjarne on Inheritance\n",
    "Inheritance was a really hot topic in the 60s, 70s, and 80s, and still very cool in the 90s when Java came along. It's the basic idea that you build on top of something else. The first example of the user inheritance was in some modeling of emergency services in Oslo. You want to read or write a simulation that allows you to estimate where you put your emergency services, e.g. here's a fire station, a police station, etc. For that, you have to build a model of the city with streets, and you have to have vehicles moving on them. \n",
    "\n",
    "The idea is that you build a hierarchy of concepts, starting from the most general and then more and more specialized. E.g. a fire engine is a kind of a truck, which is a kind of a car, which is a kind of a vehicle. \n",
    "\n",
    "It's a way of organizing your data. It's now a lot less popular than it used to be, because it turns out that a lot of our ideas aren't all that hierarchical. "
   ]
  },
  {
   "cell_type": "markdown",
   "metadata": {},
   "source": [
    "## Inheritance\n",
    "Inheritance refers to a hierarchical structure of classes where one class inherits from another. We often call the top class the base class or the parent class, and the class that inherits from that is sometimes called the derived class or the child class. "
   ]
  },
  {
   "cell_type": "code",
   "execution_count": 1,
   "metadata": {},
   "outputs": [
    {
     "name": "stdout",
     "output_type": "stream",
     "text": [
      "Talk\n",
      "Hello!\n",
      "I'm walking.\n"
     ]
    }
   ],
   "source": [
    "#include <iostream>\n",
    "\n",
    "class Animal {\n",
    "    public:\n",
    "        void Talk() const { std::cout << \"Talk\\n\"; }\n",
    "};\n",
    "\n",
    "class Human : public Animal {\n",
    "    public:\n",
    "        void Talk() const { std::cout << \"Hello!\\n\"; }\n",
    "        void Walk() const { std::cout << \"I'm walking.\\n\"; }\n",
    "};\n",
    "\n",
    "\n",
    "Animal animal;\n",
    "animal.Talk();\n",
    "Human human;\n",
    "human.Talk();\n",
    "human.Walk();"
   ]
  },
  {
   "cell_type": "markdown",
   "metadata": {},
   "source": [
    "In everyday life, we tend to divide things into groups, based on their shared characteristics. Some groups might be: electronics, tools, vehicles, plants. \n",
    "\n",
    "Sometimes these groups have hierarchies, e.g.: computers & smartphones are both types of electronics, but computers and smartphones are also groups in and of themselves. \n",
    "\n",
    "     Electronics\n",
    "      |       |\n",
    "Computers   Smartphones"
   ]
  },
  {
   "cell_type": "code",
   "execution_count": 2,
   "metadata": {},
   "outputs": [],
   "source": [
    "class Vehicle {\n",
    "public:\n",
    "  int wheels = 0;\n",
    "  std::string color = \"blue\";\n",
    "\n",
    "  void Print() const\n",
    "  {\n",
    "    std::cout << \"This \" << color << \" vehicle has \" << wheels << \" wheels!\\n\";\n",
    "  }\n",
    "};\n",
    "\n",
    "class Car : public Vehicle {\n",
    "public:\n",
    "  bool sunroof = false;\n",
    "};\n",
    "\n",
    "class Bicycle : public Vehicle {\n",
    "public:\n",
    "  bool kickstand = true;\n",
    "};"
   ]
  },
  {
   "cell_type": "markdown",
   "metadata": {},
   "source": [
    "## Access Specifiers\n",
    "The access specifier `public` in the following line mandates how users of class `Car` can access data and methods from class `Vehicle`:\n",
    "```cpp\n",
    "class Car : public Vehicle {...}\n",
    "```\n",
    "\n",
    "Because class `Car` inherits from `public Vehicle`, users of class `Car` can call the member functions and member data of class `Vehicle`.\n",
    "\n",
    "It is possible to create a derived class that inherits from its base class, but doesn't expose the member functions of the base class by using the access specifier `private`. The functions within the derived class can call the member functions from the base class"
   ]
  },
  {
   "cell_type": "code",
   "execution_count": 3,
   "metadata": {},
   "outputs": [
    {
     "name": "stdout",
     "output_type": "stream",
     "text": [
      "Hey there!\n",
      "Whaa!\n"
     ]
    }
   ],
   "source": [
    "#include <iostream>\n",
    "#include <string>\n",
    "\n",
    "class Animal {\n",
    "    public:\n",
    "        void Talk() const {std::cout << \"Talking\\n\";}\n",
    "};\n",
    "\n",
    "class Human : public Animal {\n",
    "    public:\n",
    "        void Talk(std::string content) const {std::cout << content << \"\\n\";}\n",
    "};\n",
    "\n",
    "class Baby : private Human {\n",
    "    public:\n",
    "        void Cry() {Talk(\"Whaa!\");}\n",
    "};\n",
    "\n",
    "Human human;\n",
    "human.Talk(\"Hey there!\");\n",
    "Baby baby;\n",
    "baby.Cry();\n",
    "// Doesn't work: baby.Talk('I am super smart');"
   ]
  },
  {
   "cell_type": "markdown",
   "metadata": {},
   "source": [
    "### Inherited Access Specifiers\n",
    "Just as access specifiers (i.e. `public`, `protected`, `private`) define which class members _users_ can access, the same access modifiers also define which class members _users of a derived classes_ can access.\n",
    "\n",
    "[Public inheritance](https://en.cppreference.com/w/cpp/language/derived_class#Public_inheritance): the public and protected members of the base class listed after the specifier keep their member access in the derived class\n",
    "\n",
    "[Protected inheritance](https://en.cppreference.com/w/cpp/language/derived_class#Protected_inheritance): the public and protected members of the base class listed after the specifier are protected members of the derived class\n",
    "\n",
    "[Private inheritance](https://en.cppreference.com/w/cpp/language/derived_class#Private_inheritance): the public and protected members of the base class listed after the specifier are private members of the derived class\n",
    "\n",
    "Source: [C++ reference](https://en.cppreference.com/w/cpp/language/access)\n",
    "\n",
    "\n",
    "* Public: access to anyone\n",
    "* Private: access only within the class\n",
    "* Protected: access in friend classes"
   ]
  },
  {
   "cell_type": "code",
   "execution_count": 1,
   "metadata": {},
   "outputs": [],
   "source": [
    "// This example demonstrates the privacy levels\n",
    "// between parent and child classes\n",
    "#include <iostream>\n",
    "#include <string>\n",
    "using std::string;\n",
    "\n",
    "class Vehicle {\n",
    "    public:\n",
    "        int wheels = 0;\n",
    "        string color = \"blue\";\n",
    "\n",
    "        void Print() const\n",
    "        {\n",
    "            std::cout << \"This \" << color << \" vehicle has \" << wheels << \" wheels!\\n\";\n",
    "        }\n",
    "};\n",
    "\n",
    "class Car : public Vehicle {\n",
    "    public:\n",
    "        bool sunroof = false;\n",
    "};\n",
    "\n",
    "class Bicycle : protected Vehicle {\n",
    "    public:\n",
    "        bool kickstand = true;\n",
    "        void Wheels(int w) {\n",
    "            wheels = w;\n",
    "        }\n",
    "};\n",
    "\n",
    "class ElectricBike : public Bicycle {\n",
    "    public:\n",
    "        void Print() const {\n",
    "            std::cout << \"Electric bike with \" << wheels << \n",
    "                \" wheels and color \" << color << \"\\n\";\n",
    "        }\n",
    "};\n",
    "\n",
    "class Scooter : private Vehicle {\n",
    "    public:\n",
    "        bool electric = false;\n",
    "        void Wheels(int w) {\n",
    "            wheels = w;\n",
    "        }\n",
    "};\n",
    "\n",
    "class ElectricScooter : public Scooter {\n",
    "    public:\n",
    "        bool electric = true;\n",
    "    \n",
    "        // This won't work because wheels and color are inaccessible\n",
    "        // due to Scooter having inherited from private Vehicle\n",
    "        // void Print() const {\n",
    "        //     std::cout << \"Electric bike with \" << wheels << \n",
    "        //         \" wheels and color \" << color << \"\\n\";\n",
    "        // }\n",
    "    \n",
    "        void Print() const {\n",
    "            std::cout << \"Electric scooter\\n\";\n",
    "        }\n",
    "};"
   ]
  },
  {
   "cell_type": "code",
   "execution_count": 2,
   "metadata": {},
   "outputs": [
    {
     "name": "stdout",
     "output_type": "stream",
     "text": [
      "This blue vehicle has 4 wheels!\n",
      "Electric bike with 0 wheels and color blue\n",
      "Electric scooter\n"
     ]
    }
   ],
   "source": [
    "Car car;\n",
    "car.wheels = 4;\n",
    "car.Print();\n",
    "Bicycle bicycle;\n",
    "bicycle.Wheels(2);\n",
    "// bicycle.Print(); // Error: \"Vehicle is not an accessible base of Bicycle\"\n",
    "Scooter scooter;\n",
    "scooter.Wheels(2);\n",
    "// scooter.Print(); // Error: \"Vehicle is not an accessible base of Bicycle\"\n",
    "ElectricBike ebike;\n",
    "ebike.Print();\n",
    "ElectricScooter escooter;\n",
    "escooter.Print();"
   ]
  },
  {
   "cell_type": "markdown",
   "metadata": {},
   "source": [
    "## Composition\n",
    "Composition is an alternative to inheritance as a way to relate classes to each other.\n",
    "\n",
    "In the following example, we have a class Car, and a car is composed of wheels. By default, a Car object is initialized with a vector of four wheels.\n",
    "\n",
    "In this case, Car is composed of Wheels. Wheels don't inherit from Car, Car doesn't inherit from Wheels. A car isn't a type of wheel, a wheel isn't a type of car. A car simply has (is composed of) wheels. \n",
    "\n",
    "One could add seats or a steering wheel. "
   ]
  },
  {
   "cell_type": "code",
   "execution_count": 1,
   "metadata": {},
   "outputs": [
    {
     "name": "stdout",
     "output_type": "stream",
     "text": [
      "4\n"
     ]
    }
   ],
   "source": [
    "#include <iostream>\n",
    "#include <string>\n",
    "#include <vector>\n",
    "\n",
    "class Wheel {\n",
    "    public:\n",
    "        Wheel() : diameter(50) {}\n",
    "        float diameter;    \n",
    "};\n",
    "\n",
    "class Car {\n",
    "    public:\n",
    "        Car() : wheels(4, Wheel()) {}\n",
    "        std::vector<Wheel> wheels;\n",
    "};\n",
    "\n",
    "Car car;\n",
    "std::cout << car.wheels.size() << \"\\n\";"
   ]
  },
  {
   "cell_type": "markdown",
   "metadata": {},
   "source": [
    "[Composition](https://en.wikipedia.org/wiki/Composition_over_inheritance) is a closely related alternative to inheritance. Composition involves constructing (\"composing\") classes from other classes, instead of inheriting traits from a parent class. \n",
    "\n",
    "A common way to distinguish \"composition\" from \"inheritance\" is to think about what an object can do, rather than what it is. This is often expressed as [\"has a\"](https://en.wikipedia.org/wiki/Has-a) vs. [\"is a\"](https://en.wikipedia.org/wiki/Is-a).\n",
    "\n",
    "From the standpoint of composition, a cat \"has a\" head and \"has a\" set of paws and \"has a\" tail.\n",
    "\n",
    "From the standpoint of inheritance, a cat \"is a\" mammal.\n",
    "\n",
    "There are no hard rules about when to prefer composition over inheritance. In general, if a class needs only extend a small amount of functionality beyond what is already offered by another class, it makes sense to **inherit** from that other class. However, if a class needs to contain functionality from a variety of otherwise unrelated classes, it makes sense to **compose** the class from those other classes."
   ]
  },
  {
   "cell_type": "code",
   "execution_count": 1,
   "metadata": {},
   "outputs": [
    {
     "name": "stdout",
     "output_type": "stream",
     "text": [
      "3.14159, 28.2743\n"
     ]
    }
   ],
   "source": [
    "#include <iostream>\n",
    "#include <cmath>\n",
    "#include <assert.h>\n",
    "\n",
    "#define PI M_PI\n",
    "\n",
    "struct LineSegment {\n",
    "    public:\n",
    "        float length;       \n",
    "};\n",
    "\n",
    "class Circle {\n",
    "    public:\n",
    "        Circle(LineSegment& r) : radius(r) {}\n",
    "    \n",
    "        float Area() {\n",
    "            return PI * pow(radius.length,2);\n",
    "        }\n",
    "    private:\n",
    "        LineSegment& radius;\n",
    "};\n",
    "    \n",
    "LineSegment radius {3};\n",
    "Circle circle(radius);\n",
    "std::cout << PI << \", \" << circle.Area() << \"\\n\";\n",
    "assert(int(circle.Area()) == 28);"
   ]
  },
  {
   "cell_type": "markdown",
   "metadata": {},
   "source": [
    "## Macros\n",
    "[Macros](http://www.cplusplus.com/doc/tutorial/preprocessor/)"
   ]
  },
  {
   "cell_type": "code",
   "execution_count": 2,
   "metadata": {},
   "outputs": [
    {
     "name": "stdout",
     "output_type": "stream",
     "text": [
      "100\n",
      "5\n"
     ]
    }
   ],
   "source": [
    "#define TABLE_SIZE 100\n",
    "int table[TABLE_SIZE];\n",
    "std::cout << TABLE_SIZE << \"\\n\";\n",
    "\n",
    "#define getmax(a,b) ((a)>(b)?(a):(b))\n",
    "int x=5, y;\n",
    "y = getmax(x,2);\n",
    "std::cout << y << \"\\n\";"
   ]
  },
  {
   "cell_type": "markdown",
   "metadata": {},
   "source": [
    "## Class Hierarchy"
   ]
  },
  {
   "cell_type": "markdown",
   "metadata": {},
   "source": [
    "## Polymorphism: Overloading"
   ]
  },
  {
   "cell_type": "markdown",
   "metadata": {},
   "source": [
    "## Polymorphism: Operator Overloading"
   ]
  },
  {
   "cell_type": "markdown",
   "metadata": {},
   "source": [
    "## Virtual Functions"
   ]
  },
  {
   "cell_type": "markdown",
   "metadata": {},
   "source": [
    "## Polymorphism: Overriding"
   ]
  },
  {
   "cell_type": "markdown",
   "metadata": {},
   "source": [
    "## Override"
   ]
  },
  {
   "cell_type": "markdown",
   "metadata": {},
   "source": [
    "## Multiple Inheritance"
   ]
  },
  {
   "cell_type": "markdown",
   "metadata": {},
   "source": [
    "## Generic Programming"
   ]
  },
  {
   "cell_type": "markdown",
   "metadata": {},
   "source": [
    "## Bjarne on Generic Programming"
   ]
  },
  {
   "cell_type": "markdown",
   "metadata": {},
   "source": [
    "## Templates"
   ]
  },
  {
   "cell_type": "markdown",
   "metadata": {},
   "source": [
    "## Bjarne on Templates"
   ]
  },
  {
   "cell_type": "markdown",
   "metadata": {},
   "source": [
    "## Comparison Operation"
   ]
  },
  {
   "cell_type": "markdown",
   "metadata": {},
   "source": [
    "## Deduction"
   ]
  },
  {
   "cell_type": "markdown",
   "metadata": {},
   "source": [
    "## Class Template"
   ]
  },
  {
   "cell_type": "markdown",
   "metadata": {},
   "source": [
    "## Summary"
   ]
  },
  {
   "cell_type": "markdown",
   "metadata": {},
   "source": [
    "## Bjarne on Best Practices with Classes"
   ]
  },
  {
   "cell_type": "code",
   "execution_count": null,
   "metadata": {},
   "outputs": [],
   "source": []
  }
 ],
 "metadata": {
  "kernelspec": {
   "display_name": "C++17",
   "language": "C++17",
   "name": "xcpp17"
  },
  "language_info": {
   "codemirror_mode": "text/x-c++src",
   "file_extension": ".cpp",
   "mimetype": "text/x-c++src",
   "name": "c++",
   "version": "17"
  }
 },
 "nbformat": 4,
 "nbformat_minor": 4
}
