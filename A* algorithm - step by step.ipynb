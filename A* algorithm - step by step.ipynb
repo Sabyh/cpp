{
 "cells": [
  {
   "cell_type": "markdown",
   "metadata": {},
   "source": [
    "# A* algorithm - step by step\n",
    "In the following, we develop the necessary code to implement the A* algorithm in C++."
   ]
  },
  {
   "cell_type": "markdown",
   "metadata": {},
   "source": [
    "## Store a grid in your program\n",
    "In order to write the A* search algorithm, I'll need a grid to search through. \n",
    "\n",
    "Let's start with a hard-coded grid."
   ]
  },
  {
   "cell_type": "code",
   "execution_count": 1,
   "metadata": {},
   "outputs": [
    {
     "name": "stdout",
     "output_type": "stream",
     "text": [
      "0 1 0 0 0 0 \n",
      "0 1 0 0 0 0 \n",
      "0 1 0 0 0 0 \n",
      "0 1 0 0 0 0 \n",
      "0 0 0 0 1 0 \n"
     ]
    }
   ],
   "source": [
    "#include <iostream>\n",
    "#include <vector>\n",
    "using std::cout;\n",
    "using std::vector;\n",
    "\n",
    "vector<vector<int>> board = {\n",
    "    {0, 1, 0, 0, 0, 0},\n",
    "    {0, 1, 0, 0, 0, 0},\n",
    "    {0, 1, 0, 0, 0, 0},\n",
    "    {0, 1, 0, 0, 0, 0},\n",
    "    {0, 0, 0, 0, 1, 0}\n",
    "};\n",
    "\n",
    "for (vector row : board) {\n",
    "    for (int value : row) {\n",
    "        cout << value << \" \";\n",
    "    }\n",
    "    cout << \"\\n\";\n",
    "}"
   ]
  },
  {
   "cell_type": "markdown",
   "metadata": {},
   "source": [
    "Let's put the printing of the board into a function."
   ]
  },
  {
   "cell_type": "code",
   "execution_count": 13,
   "metadata": {},
   "outputs": [],
   "source": [
    "#include <iostream>\n",
    "#include <vector>\n",
    "using std::cout;\n",
    "using std::vector;"
   ]
  },
  {
   "cell_type": "code",
   "execution_count": 17,
   "metadata": {},
   "outputs": [],
   "source": [
    "// When I try using vector instead of std::vector, the\n",
    "// compiler complains about that.\n",
    "// TODO: Look into this in more detail and potentially raise an issue\n",
    "// at: https://github.com/jupyter-xeus/xeus-cling/issues\n",
    "void PrintBoard(const std::vector<std::vector<int>> board) {\n",
    "    for (std::vector row : board) {\n",
    "        for (int value : row) {\n",
    "            cout << value << \" \";\n",
    "        }\n",
    "        cout << \"\\n\";\n",
    "    }\n",
    "}"
   ]
  },
  {
   "cell_type": "code",
   "execution_count": 18,
   "metadata": {},
   "outputs": [
    {
     "name": "stdout",
     "output_type": "stream",
     "text": [
      "0 1 0 0 0 0 \n",
      "0 1 0 0 0 0 \n",
      "0 1 0 0 0 0 \n",
      "0 1 0 0 0 0 \n",
      "0 0 0 0 1 0 \n"
     ]
    }
   ],
   "source": [
    "PrintBoard(board)"
   ]
  },
  {
   "cell_type": "code",
   "execution_count": null,
   "metadata": {},
   "outputs": [],
   "source": []
  }
 ],
 "metadata": {
  "kernelspec": {
   "display_name": "C++17",
   "language": "C++17",
   "name": "xcpp17"
  },
  "language_info": {
   "codemirror_mode": "text/x-c++src",
   "file_extension": ".cpp",
   "mimetype": "text/x-c++src",
   "name": "c++",
   "version": "17"
  }
 },
 "nbformat": 4,
 "nbformat_minor": 4
}
