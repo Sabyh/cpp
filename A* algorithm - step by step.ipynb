{
 "cells": [
  {
   "cell_type": "markdown",
   "metadata": {},
   "source": [
    "# A* algorithm - step by step\n",
    "In the following, we develop the necessary code to implement the A* algorithm in C++."
   ]
  },
  {
   "cell_type": "markdown",
   "metadata": {},
   "source": [
    "## Store a grid in your program\n",
    "In order to write the A* search algorithm, I'll need a grid to search through. \n",
    "\n",
    "Let's start with a hard-coded grid."
   ]
  },
  {
   "cell_type": "code",
   "execution_count": 1,
   "metadata": {},
   "outputs": [
    {
     "name": "stdout",
     "output_type": "stream",
     "text": [
      "0 1 0 0 0 0 \n",
      "0 1 0 0 0 0 \n",
      "0 1 0 0 0 0 \n",
      "0 1 0 0 0 0 \n",
      "0 0 0 0 1 0 \n"
     ]
    }
   ],
   "source": [
    "#include <iostream>\n",
    "#include <vector>\n",
    "using std::cout;\n",
    "using std::vector;\n",
    "\n",
    "vector<vector<int>> board = {\n",
    "    {0, 1, 0, 0, 0, 0},\n",
    "    {0, 1, 0, 0, 0, 0},\n",
    "    {0, 1, 0, 0, 0, 0},\n",
    "    {0, 1, 0, 0, 0, 0},\n",
    "    {0, 0, 0, 0, 1, 0}\n",
    "};\n",
    "\n",
    "for (vector row : board) {\n",
    "    for (int value : row) {\n",
    "        cout << value << \" \";\n",
    "    }\n",
    "    cout << \"\\n\";\n",
    "}"
   ]
  },
  {
   "cell_type": "markdown",
   "metadata": {},
   "source": [
    "## Create a function to print the board: PrintBoard\n",
    "Let's put the printing of the board into a function."
   ]
  },
  {
   "cell_type": "code",
   "execution_count": 2,
   "metadata": {},
   "outputs": [],
   "source": [
    "#include <iostream>\n",
    "#include <vector>\n",
    "using std::cout;\n",
    "using std::vector;"
   ]
  },
  {
   "cell_type": "code",
   "execution_count": 3,
   "metadata": {},
   "outputs": [],
   "source": [
    "// When I try using vector instead of std::vector, the\n",
    "// compiler complains about that.\n",
    "// TODO: Look into this in more detail and potentially raise an issue\n",
    "// at: https://github.com/jupyter-xeus/xeus-cling/issues\n",
    "void PrintBoard(const std::vector<std::vector<int>> board) {\n",
    "    for (std::vector row : board) {\n",
    "        for (int value : row) {\n",
    "            cout << value << \" \";\n",
    "        }\n",
    "        cout << \"\\n\";\n",
    "    }\n",
    "}"
   ]
  },
  {
   "cell_type": "code",
   "execution_count": 4,
   "metadata": {},
   "outputs": [
    {
     "name": "stdout",
     "output_type": "stream",
     "text": [
      "0 1 0 0 0 0 \n",
      "0 1 0 0 0 0 \n",
      "0 1 0 0 0 0 \n",
      "0 1 0 0 0 0 \n",
      "0 0 0 0 1 0 \n"
     ]
    }
   ],
   "source": [
    "PrintBoard(board)"
   ]
  },
  {
   "cell_type": "markdown",
   "metadata": {},
   "source": [
    "## Create a function to read the board from a file: ReadBoardFile"
   ]
  },
  {
   "cell_type": "code",
   "execution_count": 5,
   "metadata": {},
   "outputs": [],
   "source": [
    "#include <iostream>\n",
    "#include <fstream>"
   ]
  },
  {
   "cell_type": "code",
   "execution_count": 6,
   "metadata": {},
   "outputs": [],
   "source": [
    "void ReadBoardFile(const std::string &path) {\n",
    "    std::ifstream board_file(path);\n",
    "    if (board_file) {\n",
    "        std::string line;\n",
    "        while (getline(board_file, line)) {\n",
    "            std::cout << line << \"\\n\";\n",
    "        }\n",
    "    }\n",
    "}"
   ]
  },
  {
   "cell_type": "code",
   "execution_count": 7,
   "metadata": {},
   "outputs": [
    {
     "name": "stdout",
     "output_type": "stream",
     "text": [
      "0,1,0,0,0,0,\n",
      "0,1,0,0,0,0,\n",
      "0,1,0,0,0,0,\n",
      "0,1,0,0,0,0,\n",
      "0,0,0,0,1,0,\n"
     ]
    }
   ],
   "source": [
    "ReadBoardFile(\"files/1.board\")"
   ]
  },
  {
   "cell_type": "markdown",
   "metadata": {},
   "source": [
    "## Create a function to parse lines into vectors: ParseLine"
   ]
  },
  {
   "cell_type": "code",
   "execution_count": 8,
   "metadata": {},
   "outputs": [],
   "source": [
    "#include <sstream>"
   ]
  },
  {
   "cell_type": "code",
   "execution_count": 9,
   "metadata": {},
   "outputs": [],
   "source": [
    "std::vector<int> ParseLine(const std::string &line) {\n",
    "    // Assumption: Each line of the baord looks like this: 1, 0, 0, 0,\n",
    "    std::vector<int> v;\n",
    "    std::istringstream str_stream(line);\n",
    "    \n",
    "    char comma;\n",
    "    int number;\n",
    "    \n",
    "    while (str_stream >> number >> comma && comma == ',') {\n",
    "        v.push_back(number);\n",
    "    }\n",
    "    return v;\n",
    "}"
   ]
  },
  {
   "cell_type": "markdown",
   "metadata": {},
   "source": [
    "Let's update `ReadBoardFile` to use the `ParseLine` function."
   ]
  },
  {
   "cell_type": "code",
   "execution_count": 10,
   "metadata": {},
   "outputs": [],
   "source": [
    "using std::string;\n",
    "using std::vector;\n",
    "using std::ifstream;"
   ]
  },
  {
   "cell_type": "markdown",
   "metadata": {},
   "source": [
    "In the following we need to use `auto` instead of `<vector<vector<int>>` because xeus-cling throws an error for the latter case. ([source](https://github.com/jupyter-xeus/xeus-cling/issues/40))"
   ]
  },
  {
   "cell_type": "code",
   "execution_count": 11,
   "metadata": {},
   "outputs": [],
   "source": [
    "auto ReadBoardFile(const string &path) {\n",
    "    std::ifstream board_file(path);\n",
    "    std::vector<std::vector<int>> board;\n",
    "    if (board_file) {\n",
    "        std::string line;\n",
    "        while (getline(board_file, line)) {\n",
    "            board.push_back(ParseLine(line));\n",
    "        }\n",
    "    }\n",
    "    return board;\n",
    "}"
   ]
  },
  {
   "cell_type": "code",
   "execution_count": 12,
   "metadata": {},
   "outputs": [
    {
     "name": "stdout",
     "output_type": "stream",
     "text": [
      "0 1 0 0 0 0 \n",
      "0 1 0 0 0 0 \n",
      "0 1 0 0 0 0 \n",
      "0 1 0 0 0 0 \n",
      "0 0 0 0 1 0 \n"
     ]
    }
   ],
   "source": [
    "std::vector<std::vector<int>> board = ReadBoardFile(\"files/1.board\");\n",
    "PrintBoard(board);"
   ]
  },
  {
   "cell_type": "code",
   "execution_count": null,
   "metadata": {},
   "outputs": [],
   "source": []
  }
 ],
 "metadata": {
  "kernelspec": {
   "display_name": "C++17",
   "language": "C++17",
   "name": "xcpp17"
  },
  "language_info": {
   "codemirror_mode": "text/x-c++src",
   "file_extension": ".cpp",
   "mimetype": "text/x-c++src",
   "name": "c++",
   "version": "17"
  }
 },
 "nbformat": 4,
 "nbformat_minor": 4
}
