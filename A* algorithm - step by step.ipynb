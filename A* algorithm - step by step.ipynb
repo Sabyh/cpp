{
 "cells": [
  {
   "cell_type": "markdown",
   "metadata": {},
   "source": [
    "# A* algorithm - step by step\n",
    "In the following, we develop the necessary code to implement the A* algorithm in C++."
   ]
  },
  {
   "cell_type": "markdown",
   "metadata": {},
   "source": [
    "## Store a grid in your program\n",
    "In order to write the A* search algorithm, I'll need a grid to search through. \n",
    "\n",
    "Let's start with a hard-coded grid."
   ]
  },
  {
   "cell_type": "code",
   "execution_count": 1,
   "metadata": {},
   "outputs": [
    {
     "name": "stdout",
     "output_type": "stream",
     "text": [
      "0 1 0 0 0 0 \n",
      "0 1 0 0 0 0 \n",
      "0 1 0 0 0 0 \n",
      "0 1 0 0 0 0 \n",
      "0 0 0 0 1 0 \n"
     ]
    }
   ],
   "source": [
    "#include <iostream>\n",
    "#include <vector>\n",
    "using std::cout;\n",
    "using std::vector;\n",
    "\n",
    "vector<vector<int>> board = {\n",
    "    {0, 1, 0, 0, 0, 0},\n",
    "    {0, 1, 0, 0, 0, 0},\n",
    "    {0, 1, 0, 0, 0, 0},\n",
    "    {0, 1, 0, 0, 0, 0},\n",
    "    {0, 0, 0, 0, 1, 0}\n",
    "};\n",
    "\n",
    "for (vector row : board) {\n",
    "    for (int value : row) {\n",
    "        cout << value << \" \";\n",
    "    }\n",
    "    cout << \"\\n\";\n",
    "}"
   ]
  },
  {
   "cell_type": "markdown",
   "metadata": {},
   "source": [
    "## Create a function to print the board: PrintBoard\n",
    "Let's put the printing of the board into a function."
   ]
  },
  {
   "cell_type": "code",
   "execution_count": 2,
   "metadata": {},
   "outputs": [],
   "source": [
    "#include <iostream>\n",
    "#include <vector>\n",
    "using std::cout;\n",
    "using std::vector;"
   ]
  },
  {
   "cell_type": "code",
   "execution_count": 3,
   "metadata": {},
   "outputs": [],
   "source": [
    "// When I try using vector instead of std::vector, the\n",
    "// compiler complains about that.\n",
    "// TODO: Look into this in more detail and potentially raise an issue\n",
    "// at: https://github.com/jupyter-xeus/xeus-cling/issues\n",
    "void PrintBoard(const std::vector<std::vector<int>> board) {\n",
    "    for (std::vector row : board) {\n",
    "        for (int value : row) {\n",
    "            cout << value << \" \";\n",
    "        }\n",
    "        cout << \"\\n\";\n",
    "    }\n",
    "}"
   ]
  },
  {
   "cell_type": "code",
   "execution_count": 4,
   "metadata": {},
   "outputs": [
    {
     "name": "stdout",
     "output_type": "stream",
     "text": [
      "0 1 0 0 0 0 \n",
      "0 1 0 0 0 0 \n",
      "0 1 0 0 0 0 \n",
      "0 1 0 0 0 0 \n",
      "0 0 0 0 1 0 \n"
     ]
    }
   ],
   "source": [
    "PrintBoard(board)"
   ]
  },
  {
   "cell_type": "markdown",
   "metadata": {},
   "source": [
    "## Create a function to read the board from a file: ReadBoardFile"
   ]
  },
  {
   "cell_type": "code",
   "execution_count": 5,
   "metadata": {},
   "outputs": [],
   "source": [
    "#include <iostream>\n",
    "#include <fstream>"
   ]
  },
  {
   "cell_type": "code",
   "execution_count": 6,
   "metadata": {},
   "outputs": [],
   "source": [
    "void ReadBoardFile(const std::string &path) {\n",
    "    std::ifstream board_file(path);\n",
    "    if (board_file) {\n",
    "        std::string line;\n",
    "        while (getline(board_file, line)) {\n",
    "            std::cout << line << \"\\n\";\n",
    "        }\n",
    "    }\n",
    "}"
   ]
  },
  {
   "cell_type": "code",
   "execution_count": 7,
   "metadata": {},
   "outputs": [
    {
     "name": "stdout",
     "output_type": "stream",
     "text": [
      "0,1,0,0,0,0,\n",
      "0,1,0,0,0,0,\n",
      "0,1,0,0,0,0,\n",
      "0,1,0,0,0,0,\n",
      "0,0,0,0,1,0,\n"
     ]
    }
   ],
   "source": [
    "ReadBoardFile(\"files/1.board\")"
   ]
  },
  {
   "cell_type": "markdown",
   "metadata": {},
   "source": [
    "## Create a function to parse lines into vectors: ParseLine"
   ]
  },
  {
   "cell_type": "code",
   "execution_count": 8,
   "metadata": {},
   "outputs": [],
   "source": [
    "#include <sstream>"
   ]
  },
  {
   "cell_type": "code",
   "execution_count": 9,
   "metadata": {},
   "outputs": [],
   "source": [
    "std::vector<int> ParseLine(const std::string &line) {\n",
    "    // Assumption: Each line of the baord looks like this: 1, 0, 0, 0,\n",
    "    std::vector<int> v;\n",
    "    std::istringstream str_stream(line);\n",
    "    \n",
    "    char comma;\n",
    "    int number;\n",
    "    \n",
    "    while (str_stream >> number >> comma && comma == ',') {\n",
    "        v.push_back(number);\n",
    "    }\n",
    "    return v;\n",
    "}"
   ]
  },
  {
   "cell_type": "markdown",
   "metadata": {},
   "source": [
    "Let's update `ReadBoardFile` to use the `ParseLine` function."
   ]
  },
  {
   "cell_type": "code",
   "execution_count": 10,
   "metadata": {},
   "outputs": [],
   "source": [
    "using std::string;\n",
    "using std::vector;\n",
    "using std::ifstream;"
   ]
  },
  {
   "cell_type": "markdown",
   "metadata": {},
   "source": [
    "In the following we need to use `auto` instead of `<vector<vector<int>>` because xeus-cling throws an error for the latter case. ([source](https://github.com/jupyter-xeus/xeus-cling/issues/40))"
   ]
  },
  {
   "cell_type": "code",
   "execution_count": 11,
   "metadata": {},
   "outputs": [],
   "source": [
    "auto ReadBoardFile(const string &path) {\n",
    "    std::ifstream board_file(path);\n",
    "    std::vector<std::vector<int>> board;\n",
    "    if (board_file) {\n",
    "        std::string line;\n",
    "        while (getline(board_file, line)) {\n",
    "            board.push_back(ParseLine(line));\n",
    "        }\n",
    "    }\n",
    "    return board;\n",
    "}"
   ]
  },
  {
   "cell_type": "code",
   "execution_count": 12,
   "metadata": {},
   "outputs": [
    {
     "name": "stdout",
     "output_type": "stream",
     "text": [
      "0 1 0 0 0 0 \n",
      "0 1 0 0 0 0 \n",
      "0 1 0 0 0 0 \n",
      "0 1 0 0 0 0 \n",
      "0 0 0 0 1 0 \n"
     ]
    }
   ],
   "source": [
    "std::vector<std::vector<int>> board = ReadBoardFile(\"files/1.board\");\n",
    "PrintBoard(board);"
   ]
  },
  {
   "cell_type": "markdown",
   "metadata": {},
   "source": [
    "## Formatting the Printed Board\n",
    "The board will eventually have more than two cell states as the program becomes more complicated. Let's add formatting to improve the readability. We'll use formatting moving forward.\n",
    "\n",
    "Let's print the board this way:\n",
    "```\n",
    "0   ⛰️   0   0   0   0\n",
    "0   ⛰️   0   0   0   0\n",
    "0   ⛰️   0   0   0   0\n",
    "0   ⛰️   0   0   0   0\n",
    "0   0    0   0  ⛰️   0\n",
    "```"
   ]
  },
  {
   "cell_type": "code",
   "execution_count": 13,
   "metadata": {},
   "outputs": [],
   "source": [
    "enum class State {kEmpty, kObstacle, kClosed, kPath};"
   ]
  },
  {
   "cell_type": "code",
   "execution_count": 14,
   "metadata": {},
   "outputs": [],
   "source": [
    "string CellString(const State &state) {\n",
    "    switch (state) {\n",
    "        case State::kEmpty :\n",
    "            return \"0 \";\n",
    "            break;\n",
    "        case State::kObstacle:\n",
    "            return \"⛰️ \";\n",
    "            break;\n",
    "        case State::kClosed:\n",
    "            return \"x \";\n",
    "            break;\n",
    "        case State::kPath:\n",
    "            return \"🚗\";\n",
    "            break;\n",
    "        default:\n",
    "            std::cout << \"Unknown State\\n\";\n",
    "            throw std::runtime_error(\"Unknown State\");\n",
    "    }\n",
    "}"
   ]
  },
  {
   "cell_type": "code",
   "execution_count": 15,
   "metadata": {},
   "outputs": [],
   "source": [
    "void PrintBoard(const std::vector<std::vector<int>> board) {\n",
    "    for (auto row : board) {\n",
    "        for (int value : row) {\n",
    "            cout << CellString(State(value));\n",
    "        }\n",
    "        cout << \"\\n\";\n",
    "    }\n",
    "}"
   ]
  },
  {
   "cell_type": "code",
   "execution_count": 16,
   "metadata": {},
   "outputs": [
    {
     "name": "stdout",
     "output_type": "stream",
     "text": [
      "0 ⛰️ 0 0 0 0 \n",
      "0 ⛰️ 0 0 0 0 \n",
      "0 ⛰️ 0 0 0 0 \n",
      "0 ⛰️ 0 0 0 0 \n",
      "0 0 0 0 ⛰️ 0 \n"
     ]
    }
   ],
   "source": [
    "std::vector<std::vector<int>> board = ReadBoardFile(\"files/1.board\");\n",
    "PrintBoard(board);"
   ]
  },
  {
   "cell_type": "markdown",
   "metadata": {},
   "source": [
    "# Putting it all together\n",
    "Next, we're going to refactor all the functions to use `State` exclusively. Here is an overview over the API:\n",
    "\n",
    "```Cpp\n",
    "enum class State {kEmpty, kObstacle};\n",
    "\n",
    "// Transform a state into a string\n",
    "std::string CellString(const State &state) {...}\n",
    "\n",
    "// Print the board to the standard output stream\n",
    "void PrintBoard(const std::vector<std::vector<State>> board) {...}\n",
    "\n",
    "// Transforms a line into a State vector\n",
    "std::vector<State> ParseLine(const std::string &line) {...}\n",
    "\n",
    "// Open the file containing the board, read the file line by line,\n",
    "// transform 0 & 1 values to State values, return a 2D vector containing\n",
    "// the board.\n",
    "std::vector<std::vector<State>> ReadBoardFile(const std::string &path) {...}\n",
    "```"
   ]
  },
  {
   "cell_type": "code",
   "execution_count": 17,
   "metadata": {},
   "outputs": [],
   "source": [
    "#include <fstream>\n",
    "#include <iostream>\n",
    "#include <sstream>\n",
    "#include <string>\n",
    "#include <vector>\n",
    "using std::cout;\n",
    "using std::ifstream;\n",
    "using std::istringstream;\n",
    "using std::string;\n",
    "using std::vector;\n",
    "\n",
    "// Defined above, can't define it again else it throws an error\n",
    "// enum class State {kEmpty, kObstacle, kClosed};"
   ]
  },
  {
   "cell_type": "code",
   "execution_count": 18,
   "metadata": {},
   "outputs": [],
   "source": [
    "std::string CellString(const State &state) {\n",
    "    switch (state) {\n",
    "        case State::kEmpty :\n",
    "            return \"0 \";\n",
    "            break;\n",
    "        case State::kObstacle:\n",
    "            return \"⛰️ \";\n",
    "            break;\n",
    "        case State::kClosed:\n",
    "            return \"x \";\n",
    "            break;\n",
    "        case State::kPath:\n",
    "            return \"🚗\";\n",
    "            break;\n",
    "        default:\n",
    "            std::cout << \"Unknown State\\n\";\n",
    "            throw std::runtime_error(\"Unknown State\");\n",
    "    }\n",
    "}"
   ]
  },
  {
   "cell_type": "code",
   "execution_count": 19,
   "metadata": {},
   "outputs": [],
   "source": [
    "void PrintBoard(const std::vector<std::vector<State>> board) {\n",
    "    for (std::vector<State> row : board) {\n",
    "        for (State state : row) {\n",
    "            std::cout << CellString(state) << \" \";\n",
    "        }\n",
    "        std::cout << \"\\n\";\n",
    "    }\n",
    "}"
   ]
  },
  {
   "cell_type": "code",
   "execution_count": 20,
   "metadata": {},
   "outputs": [],
   "source": [
    "std::vector<State> ParseLine(const std::string &line) {\n",
    "    std::vector<State> v;\n",
    "    std::istringstream str_stream(line);\n",
    "    \n",
    "    int num;\n",
    "    char comma;\n",
    "    while(str_stream >> num >> comma && comma == ',') {\n",
    "        v.push_back(State(num));\n",
    "    }\n",
    "    return v;\n",
    "}"
   ]
  },
  {
   "cell_type": "code",
   "execution_count": 21,
   "metadata": {},
   "outputs": [],
   "source": [
    "// auto refers to std::vector<std::vector<State>>\n",
    "// have to use auto, else an error is thrown due to xeus-cling\n",
    "auto ReadBoardFile(const std::string &path) {\n",
    "    std::ifstream board_file(path);\n",
    "    std::vector<std::vector<State>> board;\n",
    "    if (board_file) {\n",
    "        std::string line;\n",
    "        while (getline(board_file, line)) {\n",
    "            board.push_back(ParseLine(line));\n",
    "        }\n",
    "        return board;\n",
    "    } else {\n",
    "        throw std::runtime_error(\"File stream failed.\");\n",
    "    }\n",
    "}"
   ]
  },
  {
   "cell_type": "code",
   "execution_count": 22,
   "metadata": {},
   "outputs": [
    {
     "name": "stdout",
     "output_type": "stream",
     "text": [
      "0  ⛰️  0  0  0  0  \n",
      "0  ⛰️  0  0  0  0  \n",
      "0  ⛰️  0  0  0  0  \n",
      "0  ⛰️  0  0  0  0  \n",
      "0  0  0  0  ⛰️  0  \n"
     ]
    }
   ],
   "source": [
    "PrintBoard(ReadBoardFile(\"files/1.board\"));"
   ]
  },
  {
   "cell_type": "markdown",
   "metadata": {},
   "source": [
    "## Summary\n",
    "Content:\n",
    "* Sending output to the terminal\n",
    "* Variables & containers\n",
    "  * Variable types\n",
    "  * Vectors\n",
    "  * auto\n",
    "  * Define own types with enums\n",
    "* Functions and control structures\n",
    "  * Conditionals\n",
    "  * Loops\n",
    "  * Functions\n",
    "* Data Input\n",
    "  * Read data from a file\n",
    "  * Parse data and process strings\n",
    "\n",
    "Wrote a program that:\n",
    "* Reads an input text file (board data)\n",
    "* Parses, formats, and stores the data locally\n",
    "  * Defined enum type to add ascii charachter formatting to the output\n",
    "* Prints the output"
   ]
  },
  {
   "cell_type": "markdown",
   "metadata": {},
   "source": [
    "# A* algorithms"
   ]
  },
  {
   "cell_type": "markdown",
   "metadata": {},
   "source": [
    "Finds efficiently the path between two points in a grid.\n",
    "\n",
    "The A* algorithms is an algorithm that's frequently used for path finding when working with graphs.\n",
    "\n",
    "So far, we've developed code that reads board data from an input text file, parses, formats, and stores the data locally, and prints the board to the output.\n",
    "\n",
    "In the following, we'll add a step between storing the data and printing the board:\n",
    "* Reads an input text file (board data)\n",
    "* Parses, formats, and stores the data locally\n",
    "  * Defined enum type to add ascii charachter formatting to the output\n",
    "* Find a path using A* search\n",
    "* Prints the output\n",
    "\n",
    "The A* algorithms is a discrete method for planning.\n",
    "\n",
    "### General Discrete Path Search Algorithm\n",
    "**Given:**\n",
    "* Map\n",
    "* Staring location\n",
    "* Goal location\n",
    "* Cost function\n",
    "\n",
    "**Goal:**\n",
    "* Find minimum cost path\n",
    "\n",
    "**Method:**\n",
    "* Keep a list of nodes to investigate further (expand)\n",
    "* Keep track of which nodes were visited\n",
    "* Keep track of the g-value (the number of steps taken so far)\n",
    "* We always expand the node with the smallest g-value\n",
    "\n",
    "### A* Algorithm\n",
    "The difference between the A* algorithm and the general discrete path search algorithm is that A* uses a heuristic function that returns the number of steps it takes to get to the goal if there was no obstacle.\n",
    "\n",
    "The heuristic function is therefore an optimistic guess of how far we are from the goal (because it assumes that there are no obstacles):\n",
    "\n",
    "$$h(x,y) \\leq \\text{distance to goal from } x, y$$\n",
    "\n",
    "The heuristic function is an underestimate or at best equal to the true distance from start to goal. It is an _admissible_ heuristic, meaning it never overestimates the cost of reaching the goal.\n",
    "\n",
    "There are many valid functions for the heuristic functions, including setting everything to $0$, but that's not really useful here. The _Euclidean distance_ can be used to calculate $h(x, y)$.\n",
    "\n",
    "#### Modifying the general discrete path search to the A* search\n",
    "**Given:**\n",
    "* Map\n",
    "* Staring location\n",
    "* Goal location\n",
    "* Cost function\n",
    "* Heuristic function $h(x, y)$\n",
    "\n",
    "**Goal:**\n",
    "* Find minimum cost path\n",
    "\n",
    "**Method:**\n",
    "* Keep a list of nodes to investigate further (expand)\n",
    "* Keep track of which nodes were visited\n",
    "* Keep track of the g-value (the number of steps taken so far)\n",
    "* Keep track of the f-value: $f = g + h(x, y)$\n",
    "* We always expand the node with the smallest f-value\n",
    "\n",
    "#### A* Pseudocode\n",
    "```\n",
    "Search(grid, start_point, goal_point):\n",
    "  1. Initialize an empty list of open nodes\n",
    "  2. Initialize a starting node with the following:\n",
    "    * x, y values given by start_point\n",
    "    * g = 0 (cost for each move)\n",
    "    * h (heuristic function, a function of the current coordinates and the goal)\n",
    "  3. Add the new node to the list of open nodes.\n",
    "  4. WHILE the list of open nodes is nonempty:\n",
    "    1. Sort the open list by f-value\n",
    "    2. Pop the optimal cell (called the current cell)\n",
    "    3. Mark the cell's coordinates in the grid as part of the path\n",
    "    4. IF the current cell is the goal cell:\n",
    "      * return the grid\n",
    "    5. ELSE expand the search to the currend node's neighbors:\n",
    "      * Check each neighbor cell in the grid to ensure that the cell is empty: It has not been closed and is not an obstacle.\n",
    "      * If the cell is empty, compute the cost (g value) and the heuristic, and add to the list of open nodes.\n",
    "      * Mark the cell as closed.\n",
    "  5. If the while loop exits because the list of open nodes is empty, then there are no new nodes to explore and there doesn't exist a path.\n",
    "```\n",
    "\n",
    "#### Summary\n",
    "The A* algorithm finds a path from start node to end node by: \n",
    "* checking for open neighbors of the current node\n",
    "* computing a heuristic for each of the neighbors\n",
    "* adding those neighbors to the list of open nodes to explore next\n",
    "* choosing the next node to explore with `min(g + h)`\n",
    "Repeat the process until the goal is found, or until there are no open nodes to explore (meaning there is no path from start to end node)."
   ]
  },
  {
   "cell_type": "markdown",
   "metadata": {},
   "source": [
    "### A* API description\n",
    "* `main()`\n",
    "  * `ReadBoardFile()` - Read the board data from a file\n",
    "  * `Search()` - A* search function\n",
    "    * WHILE open list not empty and next node not end goal:\n",
    "      * `CellSort()` - Sort open list according to $h+g$ value\n",
    "      * `ExpandNeighbors()` - Loop through the current node's neighbors and add valid neighbors to the open list. For each neighbor:\n",
    "        * `CheckValidCell()` - Make sure the node coordinates are on the grid and that the grid cell is empty\n",
    "        * `Heuristic()` - The [manhattan distance](https://en.wikipedia.org/wiki/Taxicab_geometry) to the goal\n",
    "        * `AddToOpen()` - Add node to open list and mark grid cell as closed\n",
    "  * `PrintSolution()` - Print the solution to the terminal with formatting\n",
    "  \n",
    "```cpp\n",
    "std::string CellString(const State &state) { ... };\n",
    "void PrintBoard(const std::vector<std::vector<State>> board) { ... };\n",
    "std::vector<State> ParseLine(const std::string &line) { ... };\n",
    "std::vector<std::vector<State>> ReadBoardFile(const std::string &path) { ... };\n",
    "\n",
    "std::vector<std::vector<State>> Search(std::vector<std::vector<State>> board,\n",
    "                                       int start[2], \n",
    "                                       int goal[2]) {...};\n",
    "int Heuristic(const int x1,\n",
    "              const int x2,\n",
    "              const int y1,\n",
    "              const int y2) { ... };\n",
    "              \n",
    "// Helper function for CellSort\n",
    "bool Compare(std::vector<int> node1, std::vector<int> node2) { ... };\n",
    "\n",
    "void CellSort(std::vector<std::vector<int>> &openlist) { ... };\n",
    "void ExpandNeighbors(std::vector<std::vector<int>> &openlist,\n",
    "                     int node[2]) { ... };\n",
    "// Could make a copy of the board and change the values of visited nodes\n",
    "// (e.g. to -1) to indicate that they've been already visited.\n",
    "bool CheckValidCell(std::vector<std::vector<State>> board,\n",
    "                    int node[2]) { ... };\n",
    "void AddToOpen(const int x,\n",
    "               const int y,\n",
    "               const int g,\n",
    "               const int h,\n",
    "               std::vector<std::vector<int>> &openlist,\n",
    "               std::vector<std::vector<State>> &board) { ... };\n",
    "\n",
    "```\n",
    "  \n",
    "  \n",
    "Let's get started! Taking the code we derived above and paste it in here:"
   ]
  },
  {
   "cell_type": "code",
   "execution_count": 23,
   "metadata": {},
   "outputs": [],
   "source": [
    "#include <iostream>    // std::cout\n",
    "#include <fstream>     // std::ifstream\n",
    "#include <sstream>     // std::istringstream\n",
    "#include <string>      // std::string\n",
    "#include <vector>      // std::vector\n",
    "#include <algorithm>   // std::sort\n",
    "using std::cout;\n",
    "using std::ifstream;\n",
    "using std::istringstream;\n",
    "using std::string;\n",
    "using std::vector;\n",
    "\n",
    "\n",
    "// Defined above, can't define it again else it throws an error\n",
    "// enum class State {kEmpty, kObstacle, kClosed};"
   ]
  },
  {
   "cell_type": "code",
   "execution_count": 24,
   "metadata": {},
   "outputs": [],
   "source": [
    "std::string CellString(const State &state) {\n",
    "    switch (state) {\n",
    "        case State::kEmpty :\n",
    "            return \"0 \";\n",
    "            break;\n",
    "        case State::kObstacle:\n",
    "            return \"⛰️ \";\n",
    "            break;\n",
    "        case State::kClosed:\n",
    "            return \"x \";\n",
    "            break;\n",
    "        case State::kPath:\n",
    "            return \"🚗\";\n",
    "            break;\n",
    "        default:\n",
    "            std::cout << \"Unknown State\\n\";\n",
    "            throw std::runtime_error(\"Unknown State\");\n",
    "    }\n",
    "}"
   ]
  },
  {
   "cell_type": "code",
   "execution_count": 25,
   "metadata": {},
   "outputs": [],
   "source": [
    "void PrintBoard(const std::vector<std::vector<State>> board) {\n",
    "    for (std::vector<State> row : board) {\n",
    "        for (State state : row) {\n",
    "            std::cout << CellString(state) << \" \";\n",
    "        }\n",
    "        std::cout << \"\\n\";\n",
    "    }\n",
    "}"
   ]
  },
  {
   "cell_type": "code",
   "execution_count": 26,
   "metadata": {},
   "outputs": [],
   "source": [
    "std::vector<State> ParseLine(const std::string &line) {\n",
    "    std::vector<State> v;\n",
    "    std::istringstream str_stream(line);\n",
    "    \n",
    "    int num;\n",
    "    char comma;\n",
    "    while(str_stream >> num >> comma && comma == ',') {\n",
    "        v.push_back(State(num));\n",
    "    }\n",
    "    return v;\n",
    "}"
   ]
  },
  {
   "cell_type": "code",
   "execution_count": 27,
   "metadata": {},
   "outputs": [],
   "source": [
    "// auto refers to std::vector<std::vector<State>>\n",
    "// have to use auto, else an error is thrown due to xeus-cling\n",
    "auto ReadBoardFile(const std::string &path) {\n",
    "    std::ifstream board_file(path);\n",
    "    std::vector<std::vector<State>> board;\n",
    "    if (board_file) {\n",
    "        std::string line;\n",
    "        while (getline(board_file, line)) {\n",
    "            board.push_back(ParseLine(line));\n",
    "        }\n",
    "        return board;\n",
    "    } else {\n",
    "        throw std::runtime_error(\"File stream failed.\");\n",
    "    }\n",
    "}"
   ]
  },
  {
   "cell_type": "code",
   "execution_count": 28,
   "metadata": {},
   "outputs": [],
   "source": [
    "int Heuristic(const int p_x,\n",
    "              const int p_y,\n",
    "              const int q_x,\n",
    "              const int q_y) {\n",
    "    // Calculate the manhattan distance\n",
    "    return abs(p_x - q_x) + abs(p_y - q_y);\n",
    "}"
   ]
  },
  {
   "cell_type": "code",
   "execution_count": 29,
   "metadata": {},
   "outputs": [],
   "source": [
    "void AddToOpen(int x,\n",
    "               int y,\n",
    "               int g,\n",
    "               int h,\n",
    "               std::vector<std::vector<int>> &openlist,\n",
    "               std::vector<std::vector<State>> &board) {\n",
    "    std::vector<int> node = {x, y, g, h};\n",
    "    openlist.push_back(node);\n",
    "    board[x][y] = State::kClosed;\n",
    "}"
   ]
  },
  {
   "cell_type": "code",
   "execution_count": 30,
   "metadata": {},
   "outputs": [],
   "source": [
    "// Helper function for CellSort\n",
    "bool Compare(std::vector<int> node1, std::vector<int> node2) {\n",
    "    // A node has these values: {x, y, g, h}\n",
    "    int f1 = node1[2] + node1[3];\n",
    "    int f2 = node2[2] + node2[3];\n",
    "    return f1 > f2;\n",
    "}"
   ]
  },
  {
   "cell_type": "code",
   "execution_count": 31,
   "metadata": {},
   "outputs": [],
   "source": [
    "void CellSort(std::vector<std::vector<int>> &openlist) {\n",
    "    std::sort (openlist.begin(), openlist.end(), Compare);\n",
    "}"
   ]
  },
  {
   "cell_type": "markdown",
   "metadata": {},
   "source": [
    "So, in the solution, CellSort is implemented this way:\n",
    "\n",
    "```cpp\n",
    "void CellSort(std::vector<std::vector<int>> *openlist) {\n",
    "    std::sort (openlist->begin(), openlist->end(), Compare);\n",
    "}\n",
    "```\n",
    "\n",
    "And then in Search called this way:\n",
    "```cpp\n",
    "CellSort(&openlist);\n",
    "```\n",
    "\n",
    "I understand that this version uses pointers as opposed to the reference to the `openlist`. But I don't understand the difference, nor why I would use one over the other."
   ]
  },
  {
   "cell_type": "code",
   "execution_count": 32,
   "metadata": {},
   "outputs": [],
   "source": [
    "bool CheckValidCell(std::vector<std::vector<State>> board,\n",
    "                    int node[2]) {\n",
    "    int x = node[0];\n",
    "    int y = node[1];\n",
    "    if (x < 0 || x > board.size() || \n",
    "        y < 0 || y > board[0].size() ||\n",
    "        board[x][y] != State::kEmpty) {\n",
    "        return false;\n",
    "    }\n",
    "    return true;\n",
    "}"
   ]
  },
  {
   "cell_type": "markdown",
   "metadata": {},
   "source": [
    "**Note:** This is where I stopped using xeus-cling exclusively to run my code. Calling `AddToOpen` in `ExpandNeighbors` kills the kernel, even though this code runs in a regular C++ file.\n",
    "\n",
    "Maybe a todo for later, when I'm more comfortable with C++ and debugging it. The problem is also that xeus-cling doesn't give useful error messages, so it's hard to figure out what's going on."
   ]
  },
  {
   "cell_type": "code",
   "execution_count": 33,
   "metadata": {},
   "outputs": [],
   "source": [
    "void ExpandNeighbors(int x, int y, int g, const int goal[2],\n",
    "                     std::vector<std::vector<int>> &openlist,\n",
    "                     std::vector<std::vector<State>> &board) {\n",
    "  g = g + 1;\n",
    "  int h;\n",
    "\n",
    "  // Four vectors for getting the nodes that are up, left, right,\n",
    "  // and below current node\n",
    "  std::vector<std::vector<int>> delta = {{0, 1}, {0, -1}, {1, 0}, {-1, 0}};\n",
    "\n",
    "  int node[2];\n",
    "\n",
    "  for (std::vector<int> d : delta) {\n",
    "    node[0] = x + d[0];\n",
    "    node[1] = y + d[1];\n",
    "    h = Heuristic(node[0], node[1], goal[0], goal[1]);\n",
    "    if (CheckValidCell(board, node)) {\n",
    "      AddToOpen(node[0], node[1], g, h, openlist, board);\n",
    "    }\n",
    "  }\n",
    "}"
   ]
  },
  {
   "cell_type": "code",
   "execution_count": 34,
   "metadata": {},
   "outputs": [],
   "source": [
    "// auto refers to std::vector<std::vector<State>>\n",
    "// have to use auto, else an error is thrown due to xeus-cling\n",
    "auto Search(std::vector<std::vector<State>> &board, \n",
    "            int start[2], \n",
    "            int goal[2]) {\n",
    "    std::vector<std::vector<int>> openlist {};\n",
    "    int x = start[0];\n",
    "    int y = start[1];\n",
    "    int g = 0;\n",
    "    int h = Heuristic(x, y, goal[0], goal[1]);\n",
    "    AddToOpen(x, y, g, h, openlist, board);\n",
    "    \n",
    "    std::vector<int> current_node; \n",
    "    int jk = 0;\n",
    "    while (!openlist.empty() && jk < 5) {\n",
    "        jk += 1;\n",
    "        std::cout << \"-----\\n\";\n",
    "        CellSort(openlist);\n",
    "        current_node = openlist.back();\n",
    "        openlist.pop_back();\n",
    "        \n",
    "        x = current_node[0];\n",
    "        y = current_node[1];\n",
    "        g = current_node[2];\n",
    "        board[x][y] = State::kPath;\n",
    "\n",
    "        if (x == goal[0] && y == goal[1]) {\n",
    "            return board;\n",
    "        }\n",
    "        ExpandNeighbors(x, y, g, goal, openlist, board); \n",
    "    }\n",
    "    return board;\n",
    "}"
   ]
  },
  {
   "cell_type": "code",
   "execution_count": 35,
   "metadata": {},
   "outputs": [
    {
     "name": "stdout",
     "output_type": "stream",
     "text": [
      "0  ⛰️  0  0  0  0  \n",
      "0  ⛰️  0  0  0  0  \n",
      "0  ⛰️  0  0  0  0  \n",
      "0  ⛰️  0  0  0  0  \n",
      "0  0  0  0  ⛰️  0  \n"
     ]
    }
   ],
   "source": [
    "PrintBoard(ReadBoardFile(\"files/1.board\"));"
   ]
  },
  {
   "cell_type": "code",
   "execution_count": 36,
   "metadata": {},
   "outputs": [],
   "source": [
    "int start[2] {0, 0};\n",
    "int goal[2] {4, 5};\n",
    "std::vector<std::vector<State>> board = ReadBoardFile(\"files/1.board\");"
   ]
  },
  {
   "cell_type": "code",
   "execution_count": null,
   "metadata": {},
   "outputs": [],
   "source": [
    "std::vector<std::vector<State>> solution = Search(board, start, goal);"
   ]
  },
  {
   "cell_type": "code",
   "execution_count": null,
   "metadata": {},
   "outputs": [],
   "source": [
    "PrintBoard(board);\n",
    "cout << '\\n';"
   ]
  },
  {
   "cell_type": "markdown",
   "metadata": {},
   "source": [
    "# Working A* implementation\n",
    "\n",
    "Since the last step of my implementation in Jupyter Notebook using xeus-cling doesn't work, I decided to go back to working in regular files. The working implementation is implemented in the file `astar.cpp`."
   ]
  }
 ],
 "metadata": {
  "kernelspec": {
   "display_name": "C++17",
   "language": "C++17",
   "name": "xcpp17"
  },
  "language_info": {
   "codemirror_mode": "text/x-c++src",
   "file_extension": ".cpp",
   "mimetype": "text/x-c++src",
   "name": "c++",
   "version": "17"
  }
 },
 "nbformat": 4,
 "nbformat_minor": 4
}
