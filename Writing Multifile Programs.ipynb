{
 "cells": [
  {
   "cell_type": "markdown",
   "metadata": {},
   "source": [
    "# Writing Multifile Programs\n",
    "\n",
    "Contents:\n",
    "* Header Files\n",
    "  * Using headers to break a single file into multiple files\n",
    "* Build systems\n",
    "  * CMake and Make\n",
    "* Tools for writing larger programs:\n",
    "  * References\n",
    "  * Pointers\n",
    "  * Maps\n",
    "  * Classes and OOP in C++"
   ]
  },
  {
   "cell_type": "markdown",
   "metadata": {},
   "source": [
    "## Header Files\n",
    "* Header `.h` files hold related functions, methods, and class declarations.\n",
    "* The corresponding definitions are placed in `.cpp` files.\n",
    "\n",
    "The compiler considers a header declaration as a \"promise\" that the definition will be found later in the code. This means that when the compiler reaches a function athat hasn't been defined yet, it can continue on compiling until the definition is found.\n",
    "\n",
    "This allows functions to be defined & declared in arbitrary order."
   ]
  },
  {
   "cell_type": "markdown",
   "metadata": {},
   "source": [
    "In order to obtain being able to use functions in arbitrary order, they would have to be declared at the top of a file. To avoid a single file from becomming cluttered with declarations and definitions for every function, it is customary to declare the functions in another file, called the header file. "
   ]
  },
  {
   "cell_type": "code",
   "execution_count": 1,
   "metadata": {},
   "outputs": [],
   "source": [
    "// Header file: header+example.h\n",
    "#ifndef HEADER_EXAMPLE_H\n",
    "#define HEADER_EXAMPLE_H\n",
    "\n",
    "void OuterFunction(int);\n",
    "void InnerFunction(int);\n",
    "\n",
    "#endif"
   ]
  },
  {
   "cell_type": "code",
   "execution_count": 2,
   "metadata": {},
   "outputs": [
    {
     "name": "stderr",
     "output_type": "stream",
     "text": [
      "\u001b[1minput_line_9:1:10: \u001b[0m\u001b[0;1;31mfatal error: \u001b[0m\u001b[1m'header_example.h' file not found\u001b[0m\n",
      "#include \"header_example.h\"\n",
      "\u001b[0;1;32m         ^~~~~~~~~~~~~~~~~~\n",
      "\u001b[0m"
     ]
    },
    {
     "ename": "Interpreter Error",
     "evalue": "",
     "output_type": "error",
     "traceback": [
      "Interpreter Error: "
     ]
    }
   ],
   "source": [
    "// Include the contents of header_example.h using quotes:\n",
    "#include \"header_example.h\"\n",
    "\n",
    "#include <iostream>\n",
    "using std::cout;\n",
    "\n",
    "void OuterFunction(int i) {\n",
    "    InnerFunction(i);\n",
    "}\n",
    "\n",
    "void InnerFunction(int i) {\n",
    "    cout << \"The value of the integer is: \" << i << \"\\n\";\n",
    "}\n",
    "\n",
    "int a = 5;\n",
    "OuterFunction(a);"
   ]
  },
  {
   "cell_type": "markdown",
   "metadata": {},
   "source": [
    "* The #include statement for the header used quotes \" \" around the file name, and not angle brackets <>. We have stored the header in the same directory as the .cpp file, and the quotes tell the preprocessor to look for the file in the same directory as the current file - not in the usual set of directories where libraries are typically stored.\n",
    "\n",
    "\n",
    "This is a preprocessor directive:\n",
    "```cpp\n",
    "#ifndef HEADER_EXAMPLE_H\n",
    "#define HEADER_EXAMPLE_H\n",
    "```\n",
    "This is called an \"include guard\". Since the header will be included into another file, and #include just pastes contents into a file, the include guard prevents the same file from being pasted multiple times into another file.\n",
    "\n",
    "**Note:** There are other ways to do this. Another common way is to use an [#pragma once preprocessor](https://en.wikipedia.org/wiki/Pragma_once) directive, but we won't cover that in detail here."
   ]
  },
  {
   "cell_type": "markdown",
   "metadata": {},
   "source": [
    "## Using Headers with Mulitple Files"
   ]
  },
  {
   "cell_type": "markdown",
   "metadata": {},
   "source": [
    "`vect_add_one.h` and `vect_add_one.cpp`"
   ]
  },
  {
   "cell_type": "code",
   "execution_count": null,
   "metadata": {},
   "outputs": [],
   "source": [
    "#ifndef VECT_ADD_ONE_H\n",
    "#define VECT_ADD_ONE_H\n",
    "\n",
    "#include <vector>\n",
    "using std::vector;\n",
    "\n",
    "// AddOneToEach method declaration.\n",
    "void AddOneToEach(vector<int> &v);\n",
    "\n",
    "#endif"
   ]
  },
  {
   "cell_type": "code",
   "execution_count": null,
   "metadata": {},
   "outputs": [],
   "source": [
    "#include \"vect_add_one.h\"\n",
    "\n",
    "void AddOneToEach(vector<int> &v) \n",
    "{\n",
    "    for (auto& i: v) {\n",
    "        i++;\n",
    "    }\n",
    "}"
   ]
  },
  {
   "cell_type": "markdown",
   "metadata": {},
   "source": [
    "`increment_and_sum.h` and `increment_and_sum.cpp`"
   ]
  },
  {
   "cell_type": "code",
   "execution_count": 3,
   "metadata": {},
   "outputs": [
    {
     "ename": "Interpreter Error",
     "evalue": "",
     "output_type": "error",
     "traceback": [
      "Interpreter Error: "
     ]
    }
   ],
   "source": [
    "#ifndef INCREMENT_AND_SUM_H\n",
    "#define INCREMENT_AND_SUM_H\n",
    "\n",
    "#include <vector>\n",
    "using std::vector;\n",
    "\n",
    "// IncrementAndComputeVectorSum method declaration.\n",
    "int IncrementAndComputeVectorSum(vector<int> v);\n",
    "\n",
    "#endif"
   ]
  },
  {
   "cell_type": "code",
   "execution_count": null,
   "metadata": {},
   "outputs": [],
   "source": [
    "#include \"vect_add_one.h\"\n",
    "\n",
    "int IncrementAndComputeVectorSum(vector<int> v) {\n",
    "    int total = 0;\n",
    "    AddOneToEach(v);\n",
    "\n",
    "    for (auto i: v) {\n",
    "        total += i;\n",
    "    }\n",
    "    return total;\n",
    "}"
   ]
  },
  {
   "cell_type": "markdown",
   "metadata": {},
   "source": [
    "`main.cpp`"
   ]
  },
  {
   "cell_type": "code",
   "execution_count": 4,
   "metadata": {},
   "outputs": [
    {
     "name": "stderr",
     "output_type": "stream",
     "text": [
      "\u001b[1minput_line_10:3:10: \u001b[0m\u001b[0;1;31mfatal error: \u001b[0m\u001b[1m'increment_and_sum.h' file not found\u001b[0m\n",
      "#include \"increment_and_sum.h\"\n",
      "\u001b[0;1;32m         ^~~~~~~~~~~~~~~~~~~~~\n",
      "\u001b[0m"
     ]
    },
    {
     "ename": "Interpreter Error",
     "evalue": "",
     "output_type": "error",
     "traceback": [
      "Interpreter Error: "
     ]
    }
   ],
   "source": [
    "#include <iostream>\n",
    "#include <vector>\n",
    "#include \"increment_and_sum.h\"\n",
    "using std::vector;\n",
    "using std::cout;\n",
    "\n",
    "int main() \n",
    "{\n",
    "    vector<int> v{1, 2, 3, 4};\n",
    "    int total = IncrementAndComputeVectorSum(v);\n",
    "    cout << \"The total is: \" << total << \"\\n\";\n",
    "}"
   ]
  },
  {
   "cell_type": "markdown",
   "metadata": {},
   "source": [
    "**Notes:**\n",
    "* Some libraries, like `<vector>` are included in multiple files.\n",
    "  * Each file is compiled alone and must have all the declarations and libraries necessary to compile, so the necessary libraries must be included. This is another reason why include guards are important - if multiple headers were included in main, each with the same #include `<vector>` statement, you wouldn't want the vector header pasted multiple times into the code.\n",
    "* The g++ compile command from the \"Run Code\" button is:\n",
    "```bash\n",
    "g++ -std=c++17 ./code/main.cpp ./code/increment_and_sum.cpp ./code/vect_add_one.cpp && ./a.out\n",
    "```\n",
    "  * When compiling, each of the relevant .cpp files must be included in the compile command. The -std=c++17 specifies that we are using the C++ 17 standard (which happens automatically in the terminal)."
   ]
  },
  {
   "cell_type": "code",
   "execution_count": null,
   "metadata": {},
   "outputs": [],
   "source": []
  }
 ],
 "metadata": {
  "kernelspec": {
   "display_name": "C++17",
   "language": "C++17",
   "name": "xcpp17"
  },
  "language_info": {
   "codemirror_mode": "text/x-c++src",
   "file_extension": ".cpp",
   "mimetype": "text/x-c++src",
   "name": "c++",
   "version": "17"
  }
 },
 "nbformat": 4,
 "nbformat_minor": 4
}
