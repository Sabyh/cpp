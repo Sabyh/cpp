{
 "cells": [
  {
   "cell_type": "markdown",
   "metadata": {},
   "source": [
    "# Writing Multifile Programs\n",
    "\n",
    "Contents:\n",
    "* Header Files\n",
    "  * Using headers to break a single file into multiple files\n",
    "* Build systems\n",
    "  * CMake and Make\n",
    "* Tools for writing larger programs:\n",
    "  * References\n",
    "  * Pointers\n",
    "  * Maps\n",
    "  * Classes and OOP in C++"
   ]
  },
  {
   "cell_type": "markdown",
   "metadata": {},
   "source": [
    "## Header Files\n",
    "* Header `.h` files hold related functions, methods, and class declarations.\n",
    "* The corresponding definitions are placed in `.cpp` files.\n",
    "\n",
    "The compiler considers a header declaration as a \"promise\" that the definition will be found later in the code. This means that when the compiler reaches a function athat hasn't been defined yet, it can continue on compiling until the definition is found.\n",
    "\n",
    "This allows functions to be defined & declared in arbitrary order."
   ]
  },
  {
   "cell_type": "markdown",
   "metadata": {},
   "source": [
    "In order to obtain being able to use functions in arbitrary order, they would have to be declared at the top of a file. To avoid a single file from becomming cluttered with declarations and definitions for every function, it is customary to declare the functions in another file, called the header file. "
   ]
  },
  {
   "cell_type": "code",
   "execution_count": null,
   "metadata": {},
   "outputs": [],
   "source": [
    "// Header file: header+example.h\n",
    "#ifndef HEADER_EXAMPLE_H\n",
    "#define HEADER_EXAMPLE_H\n",
    "\n",
    "void OuterFunction(int);\n",
    "void InnerFunction(int);\n",
    "\n",
    "#endif"
   ]
  },
  {
   "cell_type": "code",
   "execution_count": null,
   "metadata": {},
   "outputs": [],
   "source": [
    "// Include the contents of header_example.h using quotes:\n",
    "#include \"header_example.h\"\n",
    "\n",
    "#include <iostream>\n",
    "using std::cout;\n",
    "\n",
    "void OuterFunction(int i) {\n",
    "    InnerFunction(i);\n",
    "}\n",
    "\n",
    "void InnerFunction(int i) {\n",
    "    cout << \"The value of the integer is: \" << i << \"\\n\";\n",
    "}\n",
    "\n",
    "int a = 5;\n",
    "OuterFunction(a);"
   ]
  },
  {
   "cell_type": "markdown",
   "metadata": {},
   "source": [
    "* The #include statement for the header used quotes \" \" around the file name, and not angle brackets <>. We have stored the header in the same directory as the .cpp file, and the quotes tell the preprocessor to look for the file in the same directory as the current file - not in the usual set of directories where libraries are typically stored.\n",
    "\n",
    "\n",
    "This is a preprocessor directive:\n",
    "```cpp\n",
    "#ifndef HEADER_EXAMPLE_H\n",
    "#define HEADER_EXAMPLE_H\n",
    "```\n",
    "This is called an \"include guard\". Since the header will be included into another file, and #include just pastes contents into a file, the include guard prevents the same file from being pasted multiple times into another file.\n",
    "\n",
    "**Note:** There are other ways to do this. Another common way is to use an [#pragma once preprocessor](https://en.wikipedia.org/wiki/Pragma_once) directive, but we won't cover that in detail here."
   ]
  },
  {
   "cell_type": "markdown",
   "metadata": {},
   "source": [
    "## Using Headers with Mulitple Files"
   ]
  },
  {
   "cell_type": "markdown",
   "metadata": {},
   "source": [
    "`vect_add_one.h` and `vect_add_one.cpp`"
   ]
  },
  {
   "cell_type": "code",
   "execution_count": null,
   "metadata": {},
   "outputs": [],
   "source": [
    "#ifndef VECT_ADD_ONE_H\n",
    "#define VECT_ADD_ONE_H\n",
    "\n",
    "#include <vector>\n",
    "using std::vector;\n",
    "\n",
    "// AddOneToEach method declaration.\n",
    "void AddOneToEach(vector<int> &v);\n",
    "\n",
    "#endif"
   ]
  },
  {
   "cell_type": "code",
   "execution_count": null,
   "metadata": {},
   "outputs": [],
   "source": [
    "#include \"vect_add_one.h\"\n",
    "\n",
    "void AddOneToEach(vector<int> &v) \n",
    "{\n",
    "    for (auto& i: v) {\n",
    "        i++;\n",
    "    }\n",
    "}"
   ]
  },
  {
   "cell_type": "markdown",
   "metadata": {},
   "source": [
    "`increment_and_sum.h` and `increment_and_sum.cpp`"
   ]
  },
  {
   "cell_type": "code",
   "execution_count": null,
   "metadata": {},
   "outputs": [],
   "source": [
    "#ifndef INCREMENT_AND_SUM_H\n",
    "#define INCREMENT_AND_SUM_H\n",
    "\n",
    "#include <vector>\n",
    "using std::vector;\n",
    "\n",
    "// IncrementAndComputeVectorSum method declaration.\n",
    "int IncrementAndComputeVectorSum(vector<int> v);\n",
    "\n",
    "#endif"
   ]
  },
  {
   "cell_type": "code",
   "execution_count": null,
   "metadata": {},
   "outputs": [],
   "source": [
    "#include \"vect_add_one.h\"\n",
    "\n",
    "int IncrementAndComputeVectorSum(vector<int> v) {\n",
    "    int total = 0;\n",
    "    AddOneToEach(v);\n",
    "\n",
    "    for (auto i: v) {\n",
    "        total += i;\n",
    "    }\n",
    "    return total;\n",
    "}"
   ]
  },
  {
   "cell_type": "markdown",
   "metadata": {},
   "source": [
    "`main.cpp`"
   ]
  },
  {
   "cell_type": "code",
   "execution_count": null,
   "metadata": {},
   "outputs": [],
   "source": [
    "#include <iostream>\n",
    "#include <vector>\n",
    "#include \"increment_and_sum.h\"\n",
    "using std::vector;\n",
    "using std::cout;\n",
    "\n",
    "int main() \n",
    "{\n",
    "    vector<int> v{1, 2, 3, 4};\n",
    "    int total = IncrementAndComputeVectorSum(v);\n",
    "    cout << \"The total is: \" << total << \"\\n\";\n",
    "}"
   ]
  },
  {
   "cell_type": "markdown",
   "metadata": {},
   "source": [
    "**Notes:**\n",
    "* Some libraries, like `<vector>` are included in multiple files.\n",
    "  * Each file is compiled alone and must have all the declarations and libraries necessary to compile, so the necessary libraries must be included. This is another reason why include guards are important - if multiple headers were included in main, each with the same #include `<vector>` statement, you wouldn't want the vector header pasted multiple times into the code.\n",
    "* The g++ compile command from the \"Run Code\" button is:\n",
    "```bash\n",
    "g++ -std=c++17 ./code/main.cpp ./code/increment_and_sum.cpp ./code/vect_add_one.cpp && ./a.out\n",
    "```\n",
    "  * When compiling, each of the relevant .cpp files must be included in the compile command. The -std=c++17 specifies that we are using the C++ 17 standard (which happens automatically in the terminal)."
   ]
  },
  {
   "cell_type": "markdown",
   "metadata": {},
   "source": [
    "# Build Systems"
   ]
  },
  {
   "cell_type": "markdown",
   "metadata": {},
   "source": [
    "## Bjarne on Build Systems\n",
    "* Different organizations have big & elaborate build processes to get their software produced consistently, coherently, and repetetively. \n",
    "* Start with CMake, and then go to more specific build systems. They are somewhat different and you have to learn a few."
   ]
  },
  {
   "cell_type": "markdown",
   "metadata": {},
   "source": [
    "## CMake and Make\n",
    "So far, we've seen how to split code into multiple `.h` and `.cpp` files, and how to build them together using `g++`.\n",
    "\n",
    "[Build systems](https://en.wikipedia.org/wiki/List_of_build_automation_software) are useful for large C++ projects with many files. They help to manage all files during the build process and allows large projects to be compiled with a few commands. \n",
    "\n",
    "Build systems are able to build projects efficiently by only recompiling files that have been changed.\n",
    "\n",
    "Questions:\n",
    "* What happens when you run `g++`?\n",
    "* How does one use object files to compile only a single file at a time?\n",
    "  * This can be used to compile only files that have changed and need to be re-compiled, as opposed to recompiling everything.\n",
    "* How does one use `cmake` and `make`?\n",
    "  * `cmake` is a [build system](https://cmake.org/success/) which is popular in large C++ projects. It simplifies the process of building projects and recompiling only the changed files.\n",
    "  \n",
    "### Object Files\n",
    "When a project is compiled with `g++`, several distinct tasks are performed:\n",
    "1. The preprocessor runs and executes any statement beginning with a hash symbol, e.g. `#include`.\n",
    "  * This ensures all code is in the correct location and ready to compile.\n",
    "2. Each file in the source code is compiled into an object file `.o`.\n",
    "  * Object files are platform-specific machine code that will be used to create an executable.\n",
    "3. Object files are _linked together_ ot make a single executable (e.g. `a.out`).\n",
    "\n",
    "It is possible to have `g++` perform each of the steps separately by using the `-c` flag. \n",
    "\n",
    "1. Produce the `main.o` file:\n",
    "```bash\n",
    "g++ -c main.cpp\n",
    "```\n",
    "2. Convert the object file into an executable:\n",
    "```bash\n",
    "g++ main.o\n",
    "```\n",
    "\n",
    "Performing it on multiple `.cpp` files:\n",
    "```bash\n",
    "g++ -c *.cpp && g++ *.o\n",
    "./a.out\n",
    "```\n",
    "\n",
    "The `*` operator is a wildcard, any matching file is selected."
   ]
  },
  {
   "cell_type": "markdown",
   "metadata": {},
   "source": [
    "### CMake and and Make\n",
    "* CMake\n",
    "  * open-source, platform-independent build system\n",
    "  * uses text documents (`CMakeLists.txt` files) to manage build environments, like [make](https://en.wikipedia.org/wiki/Make_(software))\n",
    "  \n",
    "`CMakeLists.txt`\n",
    "* Simple text configuration files that tell CMake how to build your project.\n",
    "* There can be multiple `CMakeLists.txt` files in a project, often one file per directory that indicates how the files in that directory should be built.\n",
    "* The files can be used to:\n",
    "  * specify locations of necessary packages\n",
    "  * set build flags\n",
    "  * set environment variables\n",
    "  * specify build target names and locations\n",
    "  * and more.\n",
    "  \n",
    "  \n",
    "#### Example\n",
    "Directory:\n",
    "* `CMakeLists.txt`\n",
    "* `src`\n",
    "  * `file1.cpp`\n",
    "  * `file1.h`\n",
    "  * `file2.cpp`\n",
    "  * `file2.h`\n",
    "  * `main.cpp`\n",
    "* `build` (after creating this directory and building the project, we have):\n",
    "  * Various files like: `CmakeCache.txt`, `Makefile`, `cmake_install.cmake`\n",
    "  * Directories: `CMakeFiles`, `my_project`\n",
    "\n",
    "1. Edit the `CMakeLists.txt` file:\n",
    "```cmake\n",
    "# Specify the minimum versions of cmake & C++ that are required to biuld the project\n",
    "cmake_minimum_required(VERSION 3.5.1)\n",
    "set(CMAKE_CXX_STANDARD 17) #  require C++17\n",
    "# Name of the project (required)\n",
    "project(my_project_name)\n",
    "# NOTE: CMake has the ability to automatically find source files in a directory - but for now let's do it manually as an exercise:\n",
    "# Add an executable to the project. Specify the executable name, and give the locations of all the source files that are needed.\n",
    "add_executable(my_executable_name src/main.cpp src/increment_and_sum.cpp src/vect_add_one.cpp)\n",
    "```\n",
    "2. Create the `build` directory, navigate into it and run:\n",
    "  1. `cmake ..`\n",
    "    * This command uses the `CMakeLists.txt` file to configure the project and create a `Makefile` in the `build` directory.\n",
    "  2. `make`\n",
    "    * `make` finds the `Makefile` and uses the instructions there to build the project.\n",
    "3. Run the executable:\n",
    "  * `./my_project_name`\n",
    "  \n",
    "Whenever a file is changed, only the `make` command has to be run from the build folder. In general, CMake only needs to be run once for a project, unless the build options are being changed (e.g. using different buil flags, or changing where files are stored).\n",
    "\n",
    "Make keeps track of which files have changed and compiles only those that need to be compiled before building.\n",
    "\n",
    "**Note:** In case that CMake has to re-run, it can be helpful to delete the build directory and start from scratch. Otherwise, some environment variables may not be reset correctly."
   ]
  },
  {
   "cell_type": "code",
   "execution_count": null,
   "metadata": {},
   "outputs": [],
   "source": []
  }
 ],
 "metadata": {
  "kernelspec": {
   "display_name": "C++17",
   "language": "C++17",
   "name": "xcpp17"
  },
  "language_info": {
   "codemirror_mode": "text/x-c++src",
   "file_extension": ".cpp",
   "mimetype": "text/x-c++src",
   "name": "c++",
   "version": "17"
  }
 },
 "nbformat": 4,
 "nbformat_minor": 4
}
