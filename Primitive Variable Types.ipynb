{
 "cells": [
  {
   "cell_type": "markdown",
   "metadata": {},
   "source": [
    "# Primitive Variable Types\n",
    "In C++, once a variable has been declared, it can not be redeclared in the same scope."
   ]
  },
  {
   "cell_type": "code",
   "execution_count": 2,
   "metadata": {},
   "outputs": [
    {
     "name": "stdout",
     "output_type": "stream",
     "text": [
      "9\n",
      "9\n"
     ]
    }
   ],
   "source": [
    "#include <iostream>\n",
    "#include <string>\n",
    "using std::cout;\n",
    "\n",
    "// Declaring and initializing an int variable\n",
    "int a = 9;\n",
    "\n",
    "// Declaring a string variable\n",
    "std::string b;\n",
    "\n",
    "// Initializing b\n",
    "b = \"Hello World!\";\n",
    "\n",
    "cout << a << \"\\n\";\n",
    "cout << a << \"\\n\";\n"
   ]
  },
  {
   "cell_type": "code",
   "execution_count": null,
   "metadata": {},
   "outputs": [],
   "source": []
  }
 ],
 "metadata": {
  "kernelspec": {
   "display_name": "C++17",
   "language": "C++17",
   "name": "xcpp17"
  },
  "language_info": {
   "codemirror_mode": "text/x-c++src",
   "file_extension": ".cpp",
   "mimetype": "text/x-c++src",
   "name": "c++",
   "version": "17"
  }
 },
 "nbformat": 4,
 "nbformat_minor": 4
}
