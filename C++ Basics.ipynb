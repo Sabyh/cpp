{
 "cells": [
  {
   "cell_type": "markdown",
   "metadata": {},
   "source": [
    "# C++ Basics\n",
    "### Table of Contents\n",
    "\n",
    "* [Data Types and Data Structures](#topic_1)\n",
    "  * [Primitive Variable Types](#subtopic_1_1)\n",
    "  * [Vectors](#subtopic_1_2)\n",
    "    * [1D Vectors]\n",
    "    * [1D Vector Access]\n",
    "    * [Getting a Vector's length]\n",
    "    * [2D Vectors]\n",
    "  * [Auto]\n",
    "* [Functions]\n",
    "  * [Void Return Type]\n",
    "* [File Input Streams]\n",
    "  * [Creating an Input Stream Object]\n",
    "  * [Reading Data from the Stream]\n",
    "  * [Recap]\n",
    "* [Processing Strings]\n",
    "  * [Streaming `int`s from a `string` with `istringstream`]\n",
    "  * [Strings with Mixed Types]"
   ]
  },
  {
   "cell_type": "markdown",
   "metadata": {},
   "source": [
    "# Data Types and Data Structures <a class=\"anchor\" id=\"topic_1\"></a>"
   ]
  },
  {
   "cell_type": "markdown",
   "metadata": {},
   "source": [
    "## Primitive Variable Types <a class=\"anchor\" id=\"subtopic_1_1\"></a>\n",
    "In C++, once a variable has been declared, it can not be redeclared in the same scope.\n",
    "\n",
    "Common types are:\n",
    "* int\n",
    "* string\n",
    "* boolean"
   ]
  },
  {
   "cell_type": "code",
   "execution_count": 1,
   "metadata": {},
   "outputs": [
    {
     "name": "stdout",
     "output_type": "stream",
     "text": [
      "9\n",
      "Hello World!\n"
     ]
    }
   ],
   "source": [
    "#include <iostream>\n",
    "#include <string>\n",
    "using std::cout;\n",
    "\n",
    "// Declaring and initializing an int variable\n",
    "int a = 9;\n",
    "\n",
    "// Declaring a string variable\n",
    "std::string b;\n",
    "\n",
    "// Initializing b\n",
    "b = \"Hello World!\";\n",
    "\n",
    "cout << a << \"\\n\";\n",
    "cout << b << \"\\n\";\n"
   ]
  },
  {
   "cell_type": "markdown",
   "metadata": {},
   "source": [
    "## Arrays\n",
    "Fixed size arrays. Require careful memory management."
   ]
  },
  {
   "cell_type": "code",
   "execution_count": 2,
   "metadata": {},
   "outputs": [],
   "source": [
    "const int delta[4][2]{{-1, 0}, {0, -1}, {1, 0}, {0, 1}};"
   ]
  },
  {
   "cell_type": "markdown",
   "metadata": {},
   "source": [
    "## Vectors <a class=\"anchor\" id=\"subtopic_1_2\"></a>\n",
    "A vector is a linear sequence of contiguously allocated memory. The elements in the vector have to be of the same type."
   ]
  },
  {
   "cell_type": "markdown",
   "metadata": {},
   "source": [
    "### 1D Vectors"
   ]
  },
  {
   "cell_type": "code",
   "execution_count": 3,
   "metadata": {},
   "outputs": [
    {
     "name": "stdout",
     "output_type": "stream",
     "text": [
      "0 1 2 \n",
      "6 \n"
     ]
    }
   ],
   "source": [
    "#include <iostream>\n",
    "#include <vector>\n",
    "using std::vector;\n",
    "using std::cout;\n",
    "\n",
    "vector<int> v_1{0, 1, 2};\n",
    "vector<int> v_2;\n",
    "v_2 = {6};\n",
    "\n",
    "// Print out the values of v_1\n",
    "for (int i : v_1)\n",
    "    cout << i << \" \";\n",
    "cout << '\\n';\n",
    "\n",
    "// Print out the values of v_2\n",
    "for (int i : v_2)\n",
    "    cout << i << \" \";\n",
    "cout << '\\n';"
   ]
  },
  {
   "cell_type": "markdown",
   "metadata": {},
   "source": [
    "### 1D Vector Access"
   ]
  },
  {
   "cell_type": "code",
   "execution_count": 4,
   "metadata": {},
   "outputs": [
    {
     "name": "stdout",
     "output_type": "stream",
     "text": [
      "0 1\n"
     ]
    }
   ],
   "source": [
    "vector<int> a = {0, 1, 2, 3, 4};\n",
    "cout << a[0] << \" \" << a[1] << \"\\n\"; "
   ]
  },
  {
   "cell_type": "markdown",
   "metadata": {},
   "source": [
    "**Note about out-of-bounds access:** If you try to access the elements of a using an out-of-bound index, there is no error or exception thrown."
   ]
  },
  {
   "cell_type": "code",
   "execution_count": 5,
   "metadata": {},
   "outputs": [
    {
     "name": "stdout",
     "output_type": "stream",
     "text": [
      "0 0\n"
     ]
    }
   ],
   "source": [
    "cout << a[1000] << \" \" << a[348] << \"\\n\";"
   ]
  },
  {
   "cell_type": "markdown",
   "metadata": {},
   "source": [
    "In this case, the behavior is undefined. We'll learn later how to access vector elements that don't fail silently with out-of-range indices."
   ]
  },
  {
   "cell_type": "markdown",
   "metadata": {},
   "source": [
    "### Getting a Vector's length\n",
    "To get the Vector's length, use the `.size()` method."
   ]
  },
  {
   "cell_type": "code",
   "execution_count": 6,
   "metadata": {},
   "outputs": [
    {
     "name": "stdout",
     "output_type": "stream",
     "text": [
      "5\n"
     ]
    }
   ],
   "source": [
    "cout << a.size() << \"\\n\";"
   ]
  },
  {
   "cell_type": "markdown",
   "metadata": {},
   "source": [
    "### 2D Vectors"
   ]
  },
  {
   "cell_type": "code",
   "execution_count": 7,
   "metadata": {},
   "outputs": [
    {
     "name": "stdout",
     "output_type": "stream",
     "text": [
      "1 2 \n",
      "3 4 \n",
      "\n"
     ]
    }
   ],
   "source": [
    "vector<vector<int>> v_3 {{1, 2}, {3, 4}};\n",
    "\n",
    "// Print out the values of v_1\n",
    "for (vector v : v_3) {\n",
    "    for (int i : v) {\n",
    "        cout << i << \" \";\n",
    "    }\n",
    "    cout << '\\n';\n",
    "}\n",
    "cout << '\\n';"
   ]
  },
  {
   "cell_type": "markdown",
   "metadata": {},
   "source": [
    "The loop that's used above to loop over the elements of the 2D vector is a [range-based for loop](https://en.cppreference.com/w/cpp/language/range-for)."
   ]
  },
  {
   "cell_type": "markdown",
   "metadata": {},
   "source": [
    "### Vector push_back\n",
    "To add elements to vectors, use the `vector` method `push_back`."
   ]
  },
  {
   "cell_type": "code",
   "execution_count": 8,
   "metadata": {},
   "outputs": [
    {
     "name": "stdout",
     "output_type": "stream",
     "text": [
      "1 2 3 \n",
      "1 2 3 5 \n"
     ]
    }
   ],
   "source": [
    "vector v_4 {1, 2, 3};\n",
    "\n",
    "for (int i=0; i < v_4.size(); i++) {\n",
    "    cout << v_4[i] << \" \";\n",
    "}\n",
    "cout << \"\\n\";\n",
    "\n",
    "v_4.push_back(5);\n",
    "\n",
    "for (int i=0; i < v_4.size(); i++) {\n",
    "    cout << v_4[i] << \" \";\n",
    "}\n",
    "cout << \"\\n\";"
   ]
  },
  {
   "cell_type": "markdown",
   "metadata": {},
   "source": [
    "## Auto\n",
    "The `auto` keyword infers the type of the variable automatically. The compiler determines the type based on the value being assigned. "
   ]
  },
  {
   "cell_type": "code",
   "execution_count": 9,
   "metadata": {},
   "outputs": [],
   "source": [
    "auto i = 5;\n",
    "auto v_4 = {1, 2, 3};"
   ]
  },
  {
   "cell_type": "markdown",
   "metadata": {},
   "source": [
    "It is more clear for the reader if variable types are declared. It is also useful to declare the variable type if you want to be explicit about the number precision being used."
   ]
  },
  {
   "cell_type": "code",
   "execution_count": 10,
   "metadata": {},
   "outputs": [
    {
     "name": "stdout",
     "output_type": "stream",
     "text": [
      "7 8 9 10 \n"
     ]
    }
   ],
   "source": [
    "auto v_4 = {7, 8, 9, 10};\n",
    "for (auto i : v_4)\n",
    "    cout << i << \" \";\n",
    "cout << \"\\n\";"
   ]
  },
  {
   "cell_type": "markdown",
   "metadata": {},
   "source": [
    "## Constants\n",
    "\n",
    "* `const`\n",
    "  * \"I promise not to change this value\"\n",
    "  * The compiler enforces the promise made by `const`\n",
    "  * Commonly used when a variable is passed-by-reference as a function argument\n",
    "* `constexpr`\n",
    "  * \"to be evaluated at compile time\"\n",
    "  * this is used primarily to specify constants"
   ]
  },
  {
   "cell_type": "code",
   "execution_count": 11,
   "metadata": {},
   "outputs": [
    {
     "name": "stdout",
     "output_type": "stream",
     "text": [
      "Enter an integer value for i: 5\n",
      "j = 10\n",
      "k = 3\n"
     ]
    }
   ],
   "source": [
    "int i;\n",
    "\n",
    "std::cout << \"Enter an integer value for i: \";\n",
    "std::cin >> i;\n",
    "\n",
    "// j can only be evaluated at run time\n",
    "// but it is promised not to be changed after\n",
    "// it is initalized\n",
    "const int j = i * 2;\n",
    "\n",
    "// k can be evaluated at compile time\n",
    "constexpr int k = 3;\n",
    "\n",
    "std::cout << \"j = \" << j << \"\\n\";\n",
    "std::cout << \"k = \" << k << \"\\n\";"
   ]
  },
  {
   "cell_type": "markdown",
   "metadata": {},
   "source": [
    "The major difference between `const` and `constexpr` is that `constexpr` must be evaluated at compile time.\n",
    "\n",
    "The compiler will catch a `constexpr` variable that cannot be evaluated at compile time."
   ]
  },
  {
   "cell_type": "code",
   "execution_count": 12,
   "metadata": {},
   "outputs": [
    {
     "name": "stdout",
     "output_type": "stream",
     "text": [
      "Enter an integer value for i: 5\n"
     ]
    }
   ],
   "source": [
    "int i;\n",
    "std::cout << \"Enter an integer value for i: \";\n",
    "std::cin >> i;\n",
    "\n",
    "// j can only be evaluated at run time, but\n",
    "// constexpr must be evaluted at compile time!\n",
    "\n",
    "// This code produces an error:\n",
    "// constexpr int j = i * 2; "
   ]
  },
  {
   "cell_type": "code",
   "execution_count": 13,
   "metadata": {},
   "outputs": [],
   "source": [
    "int sum(const std::vector<int> &v) {\n",
    "    int sum = 0;\n",
    "    for (int i : v) {\n",
    "        sum += i;\n",
    "    }\n",
    "    return sum;\n",
    "}"
   ]
  },
  {
   "cell_type": "code",
   "execution_count": 14,
   "metadata": {},
   "outputs": [
    {
     "name": "stdout",
     "output_type": "stream",
     "text": [
      "6\n"
     ]
    }
   ],
   "source": [
    "std::vector<int> v {0, 1, 2, 3};\n",
    "std::cout << sum(v) << \"\\n\";"
   ]
  },
  {
   "cell_type": "markdown",
   "metadata": {},
   "source": [
    "## Enums\n",
    "`enum` is an enumerator. It is used to define a custom type which has values limited to a specific range."
   ]
  },
  {
   "cell_type": "code",
   "execution_count": 15,
   "metadata": {},
   "outputs": [
    {
     "name": "stdout",
     "output_type": "stream",
     "text": [
      "The color is blue.\n"
     ]
    }
   ],
   "source": [
    "#include <iostream>\n",
    "using std::cout;\n",
    "\n",
    "enum class Color {white, black, blue, red};\n",
    "\n",
    "Color my_color = Color::blue;\n",
    "\n",
    "switch (my_color) {\n",
    "    case Color::white :\n",
    "        cout << \"The color is white.\" << \"\\n\";\n",
    "        break;\n",
    "    case Color::black :\n",
    "        cout << \"The color is black.\" << \"\\n\";\n",
    "        break;\n",
    "    case Color::blue :\n",
    "        cout << \"The color is blue.\" << \"\\n\";\n",
    "        break;\n",
    "    case Color::red :\n",
    "        cout << \"The color is red.\" << \"\\n\";\n",
    "        break;\n",
    "    default :\n",
    "        cout << \"The color is unknown.\" << \"\\n\";\n",
    "}"
   ]
  },
  {
   "cell_type": "markdown",
   "metadata": {},
   "source": [
    "**Note:** In the example above, the keyword `enum` is followed by the keyword `class` and then the class name `Color`. This creates what are called \"scoped\" `enum`s. It is also possible, but not [advisable](https://github.com/isocpp/CppCoreGuidelines/blob/master/CppCoreGuidelines.md#Renum-class), to omit the class keyword and thus create \"unscoped\" enums. [More information is available at cppreference.com](https://en.cppreference.com/w/cpp/language/enum)."
   ]
  },
  {
   "cell_type": "markdown",
   "metadata": {},
   "source": [
    "# Maps\n",
    "\n",
    "* Container data structures: \n",
    "  * `vector`, `array`\n",
    "  * great for storing ordered data\n",
    "* Classes\n",
    "  * Useful for grouping related data and functions together\n",
    "* Maps\n",
    "  * Storing associated data\n",
    "  * Also known as dictionaries, hash tables, hash maps\n",
    "  \n",
    "## `unordered_map`\n",
    "`unordered_map` is the C++ standard library implementation of a map. "
   ]
  },
  {
   "cell_type": "code",
   "execution_count": 16,
   "metadata": {},
   "outputs": [
    {
     "name": "stdout",
     "output_type": "stream",
     "text": [
      "1\n",
      "2\n",
      "3\n"
     ]
    }
   ],
   "source": [
    "#include <iostream>\n",
    "#include <unordered_map>\n",
    "using std::cout;\n",
    "using std::unordered_map;\n",
    "\n",
    "unordered_map <int, vector<int>> dict;\n",
    "int key = 1;\n",
    "vector<int> values = {1, 2, 3};\n",
    "\n",
    "// Check if key is in the hash table.\n",
    "if (dict.find(key) == dict.end()) {\n",
    "    // The key is not in the dictionary.\n",
    "    dict[key] = values;\n",
    "}\n",
    "\n",
    "for (int value : dict[key]) {\n",
    "    cout << value << \"\\n\";\n",
    "}"
   ]
  },
  {
   "cell_type": "markdown",
   "metadata": {},
   "source": [
    "# Functions\n",
    "The basic syntax to create functions in C++ is:\n",
    "```cpp\n",
    "return_type FunctionName(parameter_list) {\n",
    "  // Body of function here.\n",
    "}\n",
    "```"
   ]
  },
  {
   "cell_type": "code",
   "execution_count": 17,
   "metadata": {},
   "outputs": [
    {
     "name": "stdout",
     "output_type": "stream",
     "text": [
      "10\n"
     ]
    }
   ],
   "source": [
    "int Add(int a, int b) {\n",
    "    return a + b;\n",
    "}\n",
    "\n",
    "int n1 = 3, n2 = 7;\n",
    "cout << Add(n1, n2) << \"\\n\";"
   ]
  },
  {
   "cell_type": "code",
   "execution_count": 18,
   "metadata": {},
   "outputs": [
    {
     "name": "stdout",
     "output_type": "stream",
     "text": [
      "6\n"
     ]
    }
   ],
   "source": [
    "int Sum(vector<int> v) {\n",
    "    int sum = 0;\n",
    "    for (int num : v) {\n",
    "        sum += num;\n",
    "    }\n",
    "    return sum;\n",
    "}\n",
    "\n",
    "vector<int> v {1, 2, 3};\n",
    "cout << Sum(v) << \"\\n\";"
   ]
  },
  {
   "cell_type": "markdown",
   "metadata": {},
   "source": [
    "## Void Return Type\n",
    "If a function doesn't return a value, the void type can be used for the return type. "
   ]
  },
  {
   "cell_type": "code",
   "execution_count": 19,
   "metadata": {},
   "outputs": [],
   "source": [
    "#include <string>\n",
    "using std::string;"
   ]
  },
  {
   "cell_type": "code",
   "execution_count": 20,
   "metadata": {},
   "outputs": [
    {
     "name": "stdout",
     "output_type": "stream",
     "text": [
      "Hello Kat\n"
     ]
    }
   ],
   "source": [
    "void PrintStrings(string a, string b) {\n",
    "    cout << a << \" \" << b << \"\\n\";\n",
    "}\n",
    "\n",
    "string s1 = \"Hello\";\n",
    "string s2 = \"Kat\";\n",
    "\n",
    "PrintStrings(s1, s2);"
   ]
  },
  {
   "cell_type": "markdown",
   "metadata": {},
   "source": [
    "# File Input Streams\n",
    "## Creating an Input Stream Object\n",
    "\n",
    "The `std::ifstream` object is used to handle input file streams. \n",
    "\n",
    "```cpp\n",
    "#include <fstream>\n",
    "// declare a new input stream object and initialize it using the file path `path`\n",
    "std::ifstream my_file;\n",
    "my_file.open(path);\n",
    "```\n",
    "\n",
    "The declaration and initialization can also be done in a single line:\n",
    "```cpp\n",
    "std::ifstream my_file(path);\n",
    "```\n",
    "\n",
    "The `ifstream` object can be used as a boolean to check if the stream has been created successfully. "
   ]
  },
  {
   "cell_type": "code",
   "execution_count": 21,
   "metadata": {},
   "outputs": [
    {
     "name": "stdout",
     "output_type": "stream",
     "text": [
      "The file stream has been created.\n"
     ]
    }
   ],
   "source": [
    "#include <fstream>\n",
    "#include <iostream>\n",
    "#include <string>\n",
    "\n",
    "std::ifstream my_file(\"files/1.board\");\n",
    "if (my_file) {\n",
    "    std::cout << \"The file stream has been created.\\n\";\n",
    "}"
   ]
  },
  {
   "cell_type": "markdown",
   "metadata": {},
   "source": [
    "## Reading Data from the Stream\n",
    "Use `getline` to read the lines of the input stream."
   ]
  },
  {
   "cell_type": "code",
   "execution_count": 22,
   "metadata": {},
   "outputs": [
    {
     "name": "stdout",
     "output_type": "stream",
     "text": [
      "The file stream has been created.\n",
      "0,1,0,0,0,0,\n",
      "0,1,0,0,0,0,\n",
      "0,1,0,0,0,0,\n",
      "0,1,0,0,0,0,\n",
      "0,0,0,0,1,0,\n"
     ]
    }
   ],
   "source": [
    "std::ifstream my_file(\"files/1.board\");\n",
    "if (my_file) {\n",
    "    std::cout << \"The file stream has been created.\\n\";\n",
    "    std::string line;\n",
    "    while (getline(my_file, line)) {\n",
    "        std::cout << line << \"\\n\";\n",
    "    }\n",
    "}"
   ]
  },
  {
   "cell_type": "markdown",
   "metadata": {},
   "source": [
    "## Recap\n",
    "To read a file, follow these four steps:\n",
    "\n",
    "1. `#include <fstream>`\n",
    "2. Create a `std::ifstream` object using the path to your file\n",
    "3. Evaluate the `std::ifstream` object as a `bool` to ensure that the stream creation did not fail.\n",
    "4. Use a `while` loop with `getline` to write file lines to a string."
   ]
  },
  {
   "cell_type": "markdown",
   "metadata": {},
   "source": [
    "# Processing Strings\n",
    "There are many ways to process strings and store data. Here we will focus on [`istringstream` from the `<sstream>` header file](http://www.cplusplus.com/reference/sstream/istringstream/).\n",
    "\n",
    "## Streaming `int`s from a `string` with `istringstream`\n",
    "In C++ strings can be streamed into temporary variables, similarly to how files can be streamed into strings. Streaming a sring allows us to work with each character individually.\n",
    "\n",
    "One way to stream a string is to use an input string stream object `istringstream` from the `<sstream>` header.\n",
    "\n",
    "Once an `istringstream` object has been created, parts of the string can be streamed and stored using the extraction operator `>>`. The extraction operator will read until whitespace is reached or until the stream fails."
   ]
  },
  {
   "cell_type": "code",
   "execution_count": 23,
   "metadata": {},
   "outputs": [
    {
     "name": "stdout",
     "output_type": "stream",
     "text": [
      "123, a, 34, z\n"
     ]
    }
   ],
   "source": [
    "#include <iostream>\n",
    "#include <sstream>\n",
    "#include <string>\n",
    "\n",
    "using std::istringstream;\n",
    "using std::string;\n",
    "using std::cout;\n",
    "\n",
    "string a(\"123 a 34 z\");\n",
    "\n",
    "istringstream my_stream(a);\n",
    "\n",
    "int n1, n2;\n",
    "char ch1, ch2;\n",
    "my_stream >> n1 >> ch1 >> n2 >> ch2;\n",
    "\n",
    "cout << n1 << \", \" << ch1 << \", \" << n2 << \", \" << ch2 <<\"\\n\";"
   ]
  },
  {
   "cell_type": "markdown",
   "metadata": {},
   "source": [
    "The `istringstream` object can also be used as a boolean to determine if the last extraction operation failed. This happens at the end of the string, for example."
   ]
  },
  {
   "cell_type": "code",
   "execution_count": 24,
   "metadata": {},
   "outputs": [
    {
     "name": "stdout",
     "output_type": "stream",
     "text": [
      "1\n",
      "2\n",
      "3\n",
      "4\n",
      "5\n",
      "We reached the end of the string. \n"
     ]
    }
   ],
   "source": [
    "string b(\"1 2 3 4 5\");\n",
    "istringstream my_stream(b);\n",
    "int n;\n",
    "\n",
    "while(my_stream) {\n",
    "    my_stream >> n;\n",
    "    if (my_stream) {\n",
    "        cout << n << \"\\n\";\n",
    "    } else {\n",
    "        cout << \"We reached the end of the string. \\n\";\n",
    "    }\n",
    "}"
   ]
  },
  {
   "cell_type": "markdown",
   "metadata": {},
   "source": [
    "The extraction operator `>>` writes the stream to the variable on the right of the operator and returns the `istringstream` object. This means the entire expression `my_stream >> n` is an `istringstream` object and can be used as a boolean.\n",
    "\n",
    "Using this, we can refactor the loop above this way:"
   ]
  },
  {
   "cell_type": "code",
   "execution_count": 25,
   "metadata": {},
   "outputs": [
    {
     "name": "stdout",
     "output_type": "stream",
     "text": [
      "1\n",
      "2\n",
      "3\n",
      "4\n",
      "5\n",
      "We reached the end of the string.\n"
     ]
    }
   ],
   "source": [
    "string c(\"1 2 3 4 5\");\n",
    "istringstream my_stream(c);\n",
    "\n",
    "int n;\n",
    "\n",
    "while (my_stream >> n) {\n",
    "    cout << n << \"\\n\";\n",
    "}\n",
    "\n",
    "cout << \"We reached the end of the string.\\n\";"
   ]
  },
  {
   "cell_type": "markdown",
   "metadata": {},
   "source": [
    "## Strings with Mixed Types"
   ]
  },
  {
   "cell_type": "code",
   "execution_count": 26,
   "metadata": {},
   "outputs": [
    {
     "name": "stdout",
     "output_type": "stream",
     "text": [
      "1,\n",
      "2,\n",
      "The end.\n"
     ]
    }
   ],
   "source": [
    "string d(\"1, 2, 3\");\n",
    "\n",
    "istringstream my_stream(d);\n",
    "\n",
    "char c;\n",
    "int n;\n",
    "\n",
    "while (my_stream >> n >> c) {\n",
    "    cout << n << c << \"\\n\";\n",
    "}\n",
    "cout << \"The end.\\n\";"
   ]
  },
  {
   "cell_type": "markdown",
   "metadata": {},
   "source": [
    "Notice that the `3` was not printed. The expression\n",
    "```cpp\n",
    "my_stream >> n >> c\n",
    "```\n",
    "tried to stream an `int` followed by a `char`. Since there was no `char` after the `3`, the stream failed and the `while` loop exited."
   ]
  },
  {
   "cell_type": "markdown",
   "metadata": {},
   "source": [
    "# Pass by Reference\n",
    "So far we've used only **pass by value**, meaning when a function is called on some data, a copy of that data is made, and the function operates on a copy of the data instead of the original data.\n",
    "\n",
    "A reference is just an alternative name for the same variable. To pass by reference, simply add an ampersand `&` before the variable in the function declaration."
   ]
  },
  {
   "cell_type": "code",
   "execution_count": 27,
   "metadata": {},
   "outputs": [],
   "source": [
    "int MultipleByTwo(int &i) {\n",
    "    i = 2 * i;\n",
    "    return i;\n",
    "}"
   ]
  },
  {
   "cell_type": "code",
   "execution_count": 28,
   "metadata": {},
   "outputs": [
    {
     "name": "stdout",
     "output_type": "stream",
     "text": [
      "a: 5\n",
      "b: 10\n",
      "a: 10\n"
     ]
    }
   ],
   "source": [
    "int a = 5;\n",
    "cout << \"a: \" << a << \"\\n\";\n",
    "int b = MultipleByTwo(a);\n",
    "cout << \"b: \" << b << \"\\n\";\n",
    "cout << \"a: \" << a << \"\\n\";"
   ]
  },
  {
   "cell_type": "markdown",
   "metadata": {},
   "source": [
    "## References\n",
    "So far:\n",
    "* pass-by-reference for functions\n",
    "* range-based `for` loop that uses references to modify a vector\n",
    "\n",
    "A reference is another name given to an existing variable."
   ]
  },
  {
   "cell_type": "code",
   "execution_count": 29,
   "metadata": {},
   "outputs": [
    {
     "name": "stdout",
     "output_type": "stream",
     "text": [
      "1, 1\n",
      "5, 5\n",
      "10, 10\n"
     ]
    }
   ],
   "source": [
    "#include <iostream>\n",
    "using std::cout;\n",
    "\n",
    "int a = 1;\n",
    "int& b = a;\n",
    "\n",
    "cout << a << \", \" << b << \"\\n\";\n",
    "\n",
    "a = 5;\n",
    "cout << a << \", \" << b << \"\\n\";\n",
    "\n",
    "b = 10;\n",
    "cout << a << \", \" << b << \"\\n\";"
   ]
  },
  {
   "cell_type": "markdown",
   "metadata": {},
   "source": [
    "# Pointers\n",
    "A C++ Pointer is just a variable that stores the memory address of an object in your program.\n",
    "\n",
    "C++ programs can be written without using pointers. But using pointers give a better control over how the programs use memory. It can be far more efficient to perform an operation with a pointer to an object than performing the same operation using the object itself.\n",
    "\n",
    "## Accessing a Memory Address\n",
    "Each variable in a program stores its contents in the computer's memory. Each chunk of the memory has an address number. \n",
    "\n",
    "* The memory address can be accessed using an ampersand in front of the variable."
   ]
  },
  {
   "cell_type": "code",
   "execution_count": 30,
   "metadata": {},
   "outputs": [
    {
     "name": "stdout",
     "output_type": "stream",
     "text": [
      "The address of i is: 0x112619900\n",
      "The address of k is: 0x112619900\n",
      "The address of j is: 0x112619904\n"
     ]
    }
   ],
   "source": [
    "#include <iostream>\n",
    "using std::cout;\n",
    "\n",
    "int i = 5;\n",
    "int& k = i;\n",
    "int j = 6;\n",
    "\n",
    "\n",
    "cout << \"The address of i is: \" << &i << \"\\n\";\n",
    "cout << \"The address of k is: \" << &k << \"\\n\";\n",
    "cout << \"The address of j is: \" << &j << \"\\n\";"
   ]
  },
  {
   "cell_type": "markdown",
   "metadata": {},
   "source": [
    "**Note:** The memory addresses of `i` and `j` (`i == k`) are very close to each other in memory: The difference is `4` bytes, which is the size of an integer."
   ]
  },
  {
   "cell_type": "markdown",
   "metadata": {},
   "source": [
    "## `*`, `&`, reference vs. pointer\n",
    "The overloading of the ampersand symbol `&` and the `*` symbol contribute a lot to the confusion around pointers. Sure does for me!\n",
    "\n",
    "**The symbols `&` and `*` have a different meaning, depending on which side of the equation they appear.**\n",
    "* `&`\n",
    "  * Left side of an equation (e.g. when declaring a variable):\n",
    "    * The variable is declared as a reference.  \n",
    "  * Right side of an equation or before a previously defined variable:\n",
    "    * Used to return a memory address.\n",
    "* `*`\n",
    "  * Left side of an equation:\n",
    "    * Used to declare a pointer.\n",
    "  * Right side of an equation or in front of an already-defined variable:\n",
    "    * Returns the object being pointed to.\n",
    "    * This is called a _dereferencing operator_."
   ]
  },
  {
   "cell_type": "code",
   "execution_count": 31,
   "metadata": {},
   "outputs": [
    {
     "name": "stdout",
     "output_type": "stream",
     "text": [
      "10, 10, 0x112619ca0, 0x112619ca0\n",
      "10\n"
     ]
    },
    {
     "data": {
      "text/plain": [
       "@0x111dd0ed0"
      ]
     },
     "execution_count": 31,
     "metadata": {},
     "output_type": "execute_result"
    }
   ],
   "source": [
    "int var = 10;\n",
    "\n",
    "// & left side of equation: variable ref is declared\n",
    "// as a reference!\n",
    "int& ref = var;\n",
    "\n",
    "// Same goes for declaring a function definition, pass by reference\n",
    "// is implemented and used like this:\n",
    "\n",
    "// void PassByReferenceFcn(int &i) {...}\n",
    "// PassByReferenceFcn(var)\n",
    "\n",
    "// Declare a pointer and initialize it to the address of var\n",
    "int* pointer_to_var = &var;\n",
    "cout << var << \", \" << ref << \", \" << &var << \", \" << pointer_to_var << \"\\n\";\n",
    "cout << *pointer_to_var << \"\\n\";\n",
    "\n",
    "// When declaring a function that takes a pointer, and using it:\n",
    "\n",
    "// void PassPointerToFcn(int *p) {...}\n",
    "// PassPointerToFcn(&var)"
   ]
  },
  {
   "cell_type": "code",
   "execution_count": 32,
   "metadata": {},
   "outputs": [
    {
     "name": "stdout",
     "output_type": "stream",
     "text": [
      "The value of i is: 1\n",
      "The value of i is now: 2\n",
      "The value of i is now: 3\n",
      "The value of i is now: 4\n",
      "The value of i is now: 5\n"
     ]
    }
   ],
   "source": [
    "void AddOne(int* j)\n",
    "{\n",
    "    // Dereference the pointer and increment the int being pointed to.\n",
    "    (*j)++;\n",
    "}\n",
    "\n",
    "\n",
    "int i = 1;\n",
    "cout << \"The value of i is: \" << i << \"\\n\";\n",
    "\n",
    "// Declare a pointer to i:\n",
    "int* pi = &i;\n",
    "AddOne(pi);\n",
    "cout << \"The value of i is now: \" << i << \"\\n\";\n",
    "// Or pass the reference directly into the function\n",
    "AddOne(&i);\n",
    "cout << \"The value of i is now: \" << i << \"\\n\";\n",
    "// Let's repeat this for fun\n",
    "AddOne(pi);\n",
    "cout << \"The value of i is now: \" << i << \"\\n\";\n",
    "AddOne(&i);\n",
    "cout << \"The value of i is now: \" << i << \"\\n\";"
   ]
  },
  {
   "cell_type": "markdown",
   "metadata": {},
   "source": [
    "## Dangling pointers\n",
    "Be careful when using pointers with functions. \n",
    "\n",
    "If a pointer is passed to a function and then assigned to a variable in the function that goes out of scope after the function finishes executing, then the pointer will have undefined behavior at that point. The memory it is pointing to might be overwritten by other parts of the program.\n",
    "\n",
    "A few different ways to explain the same concept:\n",
    "\n",
    "A dangling pointer is a pointer that points to invalid data or to data which is not valid anymore.\n",
    "A dangling pointer is a (non-NULL) pointer which points to unallocated (already freed) memory area.\n",
    "A pointer which still exists, even though the object it pointed to no longer exists\n",
    "Links that I found helpful:\n",
    "\n",
    "https://developerinsider.co/what-is-dangling-pointer-with-cause-and-how-to-avoid-it/\n",
    "https://dzone.com/articles/dangling-pointer-in-c\n",
    "https://stackoverflow.com/questions/17997228/what-is-a-dangling-pointer\n",
    "\n",
    "Example:"
   ]
  },
  {
   "cell_type": "code",
   "execution_count": 33,
   "metadata": {},
   "outputs": [
    {
     "name": "stderr",
     "output_type": "stream",
     "text": [
      "\u001b[1minput_line_52:3:13: \u001b[0m\u001b[0;1;35mwarning: \u001b[0m\u001b[1maddress of stack memory associated with local variable 'x' returned [-Wreturn-stack-address]\u001b[0m\n",
      "    return &x;\n",
      "\u001b[0;1;32m            ^\n",
      "\u001b[0m"
     ]
    },
    {
     "name": "stdout",
     "output_type": "stream",
     "text": [
      "0\n"
     ]
    }
   ],
   "source": [
    "#include <iostream>\n",
    "int *fcn() {\n",
    "    int x = 25;\n",
    "    return &x;\n",
    "}\n",
    "int *ptr = fcn();\n",
    "std::cout << *ptr << std::endl;"
   ]
  },
  {
   "cell_type": "markdown",
   "metadata": {},
   "source": [
    "In the example above, the object being pointed to goes out of scope once the function `fcn` finishes executing. The memory address being pointed to by `ptr` might be used for something else!\n",
    "\n",
    "The next example is safe, because the pointer being returned points to a reference - a variable that exists outside of the function and will not go out of scope in the function:"
   ]
  },
  {
   "cell_type": "code",
   "execution_count": 34,
   "metadata": {},
   "outputs": [
    {
     "name": "stdout",
     "output_type": "stream",
     "text": [
      "The value of i is: 1\n",
      "memory address i: 0x112662650\n",
      "memory address j: 0x112662650\n",
      "memory address my_pointer: 0x112662650\n",
      "0x112662650\n",
      "0x112662648\n",
      "The value of i is now: 2\n",
      "The value of the int pointed to by my_pointer is: 2\n"
     ]
    }
   ],
   "source": [
    "int* AddOne(int& j) \n",
    "{\n",
    "    // Increment the referenced int and return the\n",
    "    // address of j.\n",
    "    cout << \"memory address j: \" << &j << \"\\n\";\n",
    "    j++;\n",
    "    return &j;\n",
    "}\n",
    "\n",
    "\n",
    "\n",
    "int i = 1;\n",
    "cout << \"The value of i is: \" << i << \"\\n\";\n",
    "\n",
    "// Declare a pointer and initialize to the value\n",
    "// returned by AddOne:\n",
    "cout << \"memory address i: \" << &i << std::endl;\n",
    "int* my_pointer = AddOne(i);\n",
    "cout << \"memory address my_pointer: \" << my_pointer << std::endl;\n",
    "cout << my_pointer << std::endl;\n",
    "cout << &my_pointer << std::endl;\n",
    "cout << \"The value of i is now: \" << i << \"\\n\";\n",
    "cout << \"The value of the int pointed to by my_pointer is: \" << *my_pointer << \"\\n\";\n"
   ]
  },
  {
   "cell_type": "markdown",
   "metadata": {},
   "source": [
    "## Bjarne on pointers\n",
    "The basic machine model of C is: The memory, all the data sequences of objects, you can refer to them by pointers which are machine addresses with a type.\n",
    "\n",
    "A pointer is a machine address, and so is a reference. You associate the type of a pointer with the pointer at compile time, so that you know that you're pointing to an integer/string/etc.\n",
    "\n",
    "The memory model of C (which is adopted by C++), is that if you want the integer next to the integers you're pointing to, you can either say plus. one or minus one and navigate through the memory.\n",
    "\n",
    "**Summary:** A pointer is a machine address with a type associated with it at compile time."
   ]
  },
  {
   "cell_type": "markdown",
   "metadata": {},
   "source": [
    "## References vs. Pointers\n",
    "* References & pointers can have similar use cases in C++.\n",
    "* Both references & pointers can be used in pass-by-reference to a function.\n",
    "* They both provide an alternative way to access an existing variable:\n",
    "  * Pointers through the variable's address\n",
    "  * References through another name for that variable\n",
    "  \n",
    "Differences and use cases:\n",
    "\n",
    "| References | Pointers|\n",
    "|:----------|:-------------|\n",
    "| Must be initialized when declared.| Can be declared without being initialized. |\n",
    "| A reference will always point to data that was intentionally assigned to it. | The pointer could be pointing to an arbitrary address in memory. The data associated with that address could be meaningless, leading to undefined behavior and difficult-to-find bugs. |\n",
    "| Can not be null. A reference should always point to meaningful data in the program. | Can be null. If a pointer is not initialized immediately, it is best practice to initialize it to `nullptr` (a special type which indicates that the pointer is null). |\n",
    "| When used in a function for pass-by-reference, the reference can be used the same way as a variable of the same type would be. | When used in a function for pass-by-reference, the pointer must be dereferenced in order to access the underlying object. |\n",
    "| Bjarne: \"A reference cannot be made to refer to a different object. It refers only to one thing, and that's it.\" | |\n",
    "\n",
    "References are generally easier and safer than pointers and should be used in place of pointers when possible.\n",
    "\n",
    "There are times when it is not possible to use references, e.g. when dealing with object initialization. Scenario:\n",
    "* We'd like to store a reference to another object, and the other object is not yet availale.\n",
    "* We can't use a reference, because a reference can only be initialized once the other object is created. It cannot be null.\n",
    "* We need to use a pointer to store the reference to an object that's not created yet.\n",
    "\n",
    "    "
   ]
  },
  {
   "cell_type": "code",
   "execution_count": 35,
   "metadata": {},
   "outputs": [
    {
     "name": "stdout",
     "output_type": "stream",
     "text": [
      "5, 10\n",
      "5\n",
      "10\n"
     ]
    }
   ],
   "source": [
    "int a = 5;\n",
    "int b = 10;\n",
    "int& ref_a = a;\n",
    "\n",
    "\n",
    "cout << a << \", \" << b << \"\\n\";\n",
    "cout << ref_a << \"\\n\";\n",
    "\n",
    "ref_a = b;\n",
    "b = 12;\n",
    "cout << ref_a << \"\\n\";"
   ]
  },
  {
   "cell_type": "markdown",
   "metadata": {},
   "source": [
    "# Classes and Object-Oriented Programming\n",
    "OOP is a coding style that collects related data and functions together to form a single data structure. This allows that collectoin of attributes and methods to be used repeatedly in a program without code repetition.\n",
    "\n",
    "Terminology:\n",
    "* The defined data structure is called an _object_\n",
    "* The data is called _object attributes_\n",
    "* The functions are called _object methods_\n",
    "* The attributes and methods that make up an object are defined in a _class_\n",
    "* Each object in the program is an _instance_ of that class"
   ]
  },
  {
   "cell_type": "code",
   "execution_count": 36,
   "metadata": {},
   "outputs": [],
   "source": [
    "class Animal {\n",
    "    protected:\n",
    "        string species;\n",
    "        string name;\n",
    "    \n",
    "    public:\n",
    "        // Setting the class attributes species and name.\n",
    "        // Use the initializer list\n",
    "        Animal(string animal_species, string animal_name) \n",
    "            : species(animal_species), name(animal_name) {}\n",
    "    \n",
    "        void PrintAnimalData() {\n",
    "            cout << \"The animals species is \" << species << \".\\n\";\n",
    "            cout << \"The \" << species << \"s name is \" << name << \".\\n\";\n",
    "        }\n",
    "};"
   ]
  },
  {
   "cell_type": "code",
   "execution_count": 37,
   "metadata": {},
   "outputs": [],
   "source": [
    "class Dog : public Animal {\n",
    "        // Class/object attributes\n",
    "        string favorite_toy;\n",
    "        string loves;\n",
    "        int treats_eaten = 0;\n",
    "    \n",
    "    public:\n",
    "        Dog(string dog_name) : Animal(\"dog\", dog_name) {}\n",
    "\n",
    "        void PrintDogData() {\n",
    "            PrintAnimalData();\n",
    "            \n",
    "            if (!favorite_toy.empty()) {\n",
    "                cout << name << \" loves \" << favorite_toy << \".\\n\";\n",
    "            }\n",
    "            cout << name << \" ate \" << treats_eaten << \" treats.\\n\";\n",
    "            cout << \"\\n\";\n",
    "        }\n",
    "\n",
    "        void GiveTreat(int number_treats=1) {\n",
    "            treats_eaten += number_treats;\n",
    "            cout << name << \" ate \" << treats_eaten << \" treats.\\n\";\n",
    "            if (treats_eaten >= 5) {\n",
    "                cout << \"Pffffffft...\\n\";\n",
    "                cout << \"Ew! \" << name << \" stop farting!\\n\";\n",
    "            }\n",
    "        }\n",
    "\n",
    "        void SetFavoriteToy(string dog_favorite_toy) {\n",
    "            favorite_toy = dog_favorite_toy;\n",
    "        }  \n",
    "};"
   ]
  },
  {
   "cell_type": "code",
   "execution_count": 38,
   "metadata": {},
   "outputs": [
    {
     "name": "stdout",
     "output_type": "stream",
     "text": [
      "The animals species is dog.\n",
      "The dogs name is Sam.\n",
      "Sam ate 0 treats.\n",
      "\n",
      "The animals species is dog.\n",
      "The dogs name is Sam.\n",
      "Sam loves balls.\n",
      "Sam ate 0 treats.\n",
      "\n",
      "Sam ate 1 treats.\n",
      "Sam ate 2 treats.\n",
      "Sam ate 5 treats.\n",
      "Pffffffft...\n",
      "Ew! Sam stop farting!\n"
     ]
    }
   ],
   "source": [
    "Dog sam = Dog(\"Sam\");\n",
    "sam.PrintDogData();\n",
    "sam.SetFavoriteToy(\"balls\");\n",
    "sam.PrintDogData();\n",
    "sam.GiveTreat();\n",
    "sam.GiveTreat();\n",
    "sam.GiveTreat(3);"
   ]
  },
  {
   "cell_type": "markdown",
   "metadata": {},
   "source": [
    "## Putting the Class Definitions into Separate Files\n",
    "When programs are large, it is useful to put class definitions and function declarations into a separate file. This does also help prevent problems with trying to use class objects before the class is defined.\n",
    "\n",
    "When class methods are defined outside of the class, the scope resolution operator `::` has to be used, e.g.\n",
    "\n",
    "```cpp\n",
    "void Dog::GiveTreat(int number_treats=1) {...}\n",
    "```\n",
    "\n",
    "Terminology:\n",
    "* scope resolution operator `::`\n",
    "* [initializer list](https://en.cppreference.com/w/cpp/language/constructor)\n",
    "  * When using the initializer list, the class members are initialized before the body of the constructor (which is now empty). If a class attribute is a reference, it must be initialized using an initializer list\n",
    "  ```cpp\n",
    "    Animal(string animal_species, string animal_name) \n",
    "            : species(animal_species), name(animal_name) {}\n",
    "  ```\n",
    "* `private` variables: variables that don't need to be visible outside of the class. They can not be accessed outside of the class, which [prevents them from being accidentally changed](https://github.com/isocpp/CppCoreGuidelines/blob/master/CppCoreGuidelines.md#Rc-private). "
   ]
  },
  {
   "cell_type": "markdown",
   "metadata": {},
   "source": [
    "Let's create a new Animal subclass: The Cat.\n",
    "\n",
    "`Cat.h`\n",
    "\n",
    "Not included in code here because it causes an interpreter error, but otherwise needs to wrap the code in the header:\n",
    "\n",
    "```cpp\n",
    "#ifndef CAT_H\n",
    "#define CAT_H\n",
    "\n",
    "<CODE HERE>\n",
    "\n",
    "#endif CAT_H\n",
    "```"
   ]
  },
  {
   "cell_type": "code",
   "execution_count": 39,
   "metadata": {},
   "outputs": [],
   "source": [
    "#include <string>\n",
    "using std::string;\n",
    "using std::cout;\n",
    "\n",
    "class Cat : Animal {\n",
    "    private:\n",
    "        string favorite_toy;\n",
    "        string hated_thing;\n",
    "        int lives = 9;\n",
    "    public:\n",
    "        Cat(string cat_name) : Animal(\"cat\", cat_name) {}\n",
    "        \n",
    "        void PrintCatData();\n",
    "        void SetFavoriteToy(string);\n",
    "        void SetHatedThing(string);\n",
    "        void Die(string);\n",
    "        void DoHatedThing();\n",
    "    \n",
    "}"
   ]
  },
  {
   "cell_type": "markdown",
   "metadata": {},
   "source": [
    "`Cat.cpp`"
   ]
  },
  {
   "cell_type": "code",
   "execution_count": 40,
   "metadata": {},
   "outputs": [],
   "source": [
    "void Cat::PrintCatData() {\n",
    "    PrintAnimalData();\n",
    "            \n",
    "    if (!favorite_toy.empty()) {\n",
    "        cout << name << \" loves \" << favorite_toy << \".\\n\";\n",
    "    }\n",
    "    if (!hated_thing.empty()) {\n",
    "        cout << name << \" hates \" << hated_thing << \".\\n\";\n",
    "    }\n",
    "    cout << name << \" has \" << lives << \" lives left.\\n\";\n",
    "    cout << \"\\n\";\n",
    "}"
   ]
  },
  {
   "cell_type": "code",
   "execution_count": 41,
   "metadata": {},
   "outputs": [],
   "source": [
    "void Cat::SetFavoriteToy(string cat_favorite_toy) {\n",
    "    favorite_toy = cat_favorite_toy;\n",
    "}"
   ]
  },
  {
   "cell_type": "code",
   "execution_count": 42,
   "metadata": {},
   "outputs": [],
   "source": [
    "void Cat::SetHatedThing(string cat_hated_thing) {\n",
    "    hated_thing = cat_hated_thing;\n",
    "}"
   ]
  },
  {
   "cell_type": "code",
   "execution_count": 43,
   "metadata": {},
   "outputs": [],
   "source": [
    "void Cat::Die(string cause=\"a mysterious cause\") {\n",
    "    cout << \"Oh no, \" << name << \" died due to \" << cause << \"!\\n\";\n",
    "    lives--;\n",
    "    if (lives > 0) {\n",
    "        cout << name << \" has \" << lives << \" lives left.\\n\";\n",
    "    } else {\n",
    "        cout << \"Uh oh. \" << name << \" is out of lives. <Soul leaves body and goes to cat heaven>...\\n\";\n",
    "    }\n",
    "    \n",
    "}"
   ]
  },
  {
   "cell_type": "code",
   "execution_count": 44,
   "metadata": {},
   "outputs": [],
   "source": [
    "void Cat::DoHatedThing() {\n",
    "    cout << \"Do \" << hated_thing << \".\\n\";\n",
    "    cout << \"Meow! <scratch>...\\n\";\n",
    "    cout << \"Oww! You #*$@*!\\n\";\n",
    "}"
   ]
  },
  {
   "cell_type": "code",
   "execution_count": 45,
   "metadata": {},
   "outputs": [
    {
     "name": "stdout",
     "output_type": "stream",
     "text": [
      "The animals species is cat.\n",
      "The cats name is Lucifer.\n",
      "Lucifer has 9 lives left.\n",
      "\n",
      "The animals species is cat.\n",
      "The cats name is Lucifer.\n",
      "Lucifer loves yarn balls.\n",
      "Lucifer hates belly rubs.\n",
      "Lucifer has 9 lives left.\n",
      "\n",
      "Do belly rubs.\n",
      "Meow! <scratch>...\n",
      "Oww! You #*$@*!\n",
      "Oh no, Lucifer died due to a mysterious cause!\n",
      "Lucifer has 8 lives left.\n",
      "Oh no, Lucifer died due to falling from the roof!\n",
      "Lucifer has 7 lives left.\n",
      "Oh no, Lucifer died due to being in a car accident!\n",
      "Lucifer has 6 lives left.\n",
      "Oh no, Lucifer died due to eating rat poison on the streets!\n",
      "Lucifer has 5 lives left.\n",
      "Oh no, Lucifer died due to losing a cat fight!\n",
      "Lucifer has 4 lives left.\n",
      "Oh no, Lucifer died due to too much curiosity!\n",
      "Lucifer has 3 lives left.\n",
      "Oh no, Lucifer died due to falling from a tree!\n",
      "Lucifer has 2 lives left.\n",
      "Oh no, Lucifer died due to eating too much chocolate!\n",
      "Lucifer has 1 lives left.\n",
      "Oh no, Lucifer died due to chewing on the wrong plant!\n",
      "Uh oh. Lucifer is out of lives. <Soul leaves body and goes to cat heaven>...\n"
     ]
    }
   ],
   "source": [
    "Cat lucifer = Cat(\"Lucifer\");\n",
    "lucifer.PrintCatData();\n",
    "lucifer.SetFavoriteToy(\"yarn balls\");\n",
    "lucifer.SetHatedThing(\"belly rubs\");\n",
    "lucifer.PrintCatData();\n",
    "lucifer.DoHatedThing();\n",
    "lucifer.Die();\n",
    "lucifer.Die(\"falling from the roof\");\n",
    "lucifer.Die(\"being in a car accident\");\n",
    "lucifer.Die(\"eating rat poison on the streets\");\n",
    "lucifer.Die(\"losing a cat fight\");\n",
    "lucifer.Die(\"too much curiosity\");\n",
    "lucifer.Die(\"falling from a tree\");\n",
    "lucifer.Die(\"eating too much chocolate\");\n",
    "lucifer.Die(\"chewing on the wrong plant\");"
   ]
  },
  {
   "cell_type": "markdown",
   "metadata": {},
   "source": [
    "## `new` keyword and `->` operator\n",
    "The `new` operator allocates memory on the heap for the new Cat. \n",
    "* Heap memory must be manually managed (deallocated) to avoid memory leaks.\n",
    "\n",
    "The arrow operator `->` is used to simultaneously\n",
    "* dereference a pointer to an object\n",
    "* access an attribute or method\n",
    "\n",
    "In this code `dp` is a pointer to a Dog object, and the following two are equivalent:\n",
    "```cpp\n",
    "// Simultaneously dereference the pointer and access GiveTreat()\n",
    "dp->GiveTreat();\n",
    "\n",
    "// Dereference the pointer using *, then access GiveTreat() with \n",
    "// traditional dot notation.\n",
    "(*dp).GiveTreat();\n",
    "```"
   ]
  },
  {
   "cell_type": "code",
   "execution_count": 46,
   "metadata": {},
   "outputs": [
    {
     "name": "stdout",
     "output_type": "stream",
     "text": [
      "Dug ate 1 treats.\n",
      "Alpha ate 1 treats.\n",
      "Beta ate 1 treats.\n",
      "Gamma ate 1 treats.\n",
      "Omega ate 1 treats.\n",
      "The animals species is dog.\n",
      "The dogs name is Dug.\n",
      "Dug ate 1 treats.\n",
      "\n",
      "The animals species is dog.\n",
      "The dogs name is Alpha.\n",
      "Alpha ate 1 treats.\n",
      "\n",
      "The animals species is dog.\n",
      "The dogs name is Beta.\n",
      "Beta ate 1 treats.\n",
      "\n",
      "The animals species is dog.\n",
      "The dogs name is Gamma.\n",
      "Gamma ate 1 treats.\n",
      "\n",
      "The animals species is dog.\n",
      "The dogs name is Omega.\n",
      "Omega ate 1 treats.\n",
      "\n"
     ]
    }
   ],
   "source": [
    "// Create an empty vector of pointers to Dogs and a null\n",
    "// pointer to a dog.\n",
    "vector<Dog*> dog_vect;\n",
    "Dog* dp = nullptr;\n",
    "\n",
    "// The vector of names for the dogs from the movie \"Up\":\n",
    "vector<string> names {\"Dug\", \"Alpha\", \"Beta\", \"Gamma\", \"Omega\"};\n",
    "\n",
    "// Create dogs and push the pointers to each dog into the vector.\n",
    "for (string name : names) {\n",
    "    dp = new Dog(name);\n",
    "    dog_vect.push_back(dp);\n",
    "}\n",
    "\n",
    "// Give each dog a treat\n",
    "for (Dog* dog_pt : dog_vect) {\n",
    "    dog_pt->GiveTreat();\n",
    "}\n",
    "\n",
    "// Print data about each dog\n",
    "for (Dog* dog_pt : dog_vect) {\n",
    "    dog_pt->PrintDogData();\n",
    "}"
   ]
  },
  {
   "cell_type": "markdown",
   "metadata": {},
   "source": [
    "## This Pointer\n",
    "When working with classes it is often helpful to be able to refer to the current class instance or object.\n",
    "\n",
    "So far, our implementations implicitly refer to the current object's instance attributes (e.g. `name` in the current `Dog` object `sam`).\n",
    "\n",
    "It is possible to make this explicit in C++ by using the `this` pointer, which points to the current class instance. Using `this` adds more clarity to the code and enhances readability."
   ]
  },
  {
   "cell_type": "code",
   "execution_count": 47,
   "metadata": {},
   "outputs": [],
   "source": [
    "class Sable : public Animal {\n",
    "        // Class/object attributes\n",
    "        string loved_thing = \"hunting and gathering\";\n",
    "    \n",
    "    public:\n",
    "        Sable(string sable_name) : Animal(\"sable\", sable_name) {}\n",
    "\n",
    "        void PrintSableData() {\n",
    "            PrintAnimalData();\n",
    "            \n",
    "            cout << this->name << \" loves \" << this->loved_thing << \".\\n\";\n",
    "            cout << \"\\n\";\n",
    "        }\n",
    "};"
   ]
  },
  {
   "cell_type": "code",
   "execution_count": 48,
   "metadata": {},
   "outputs": [
    {
     "name": "stdout",
     "output_type": "stream",
     "text": [
      "The animals species is sable.\n",
      "The sables name is Cutie.\n",
      "Cutie loves hunting and gathering.\n",
      "\n"
     ]
    }
   ],
   "source": [
    "Sable* cutie = new Sable(\"Cutie\");\n",
    "cutie->PrintSableData();"
   ]
  },
  {
   "cell_type": "code",
   "execution_count": null,
   "metadata": {},
   "outputs": [],
   "source": []
  }
 ],
 "metadata": {
  "kernelspec": {
   "display_name": "C++17",
   "language": "C++17",
   "name": "xcpp17"
  },
  "language_info": {
   "codemirror_mode": "text/x-c++src",
   "file_extension": ".cpp",
   "mimetype": "text/x-c++src",
   "name": "c++",
   "version": "17"
  }
 },
 "nbformat": 4,
 "nbformat_minor": 4
}
