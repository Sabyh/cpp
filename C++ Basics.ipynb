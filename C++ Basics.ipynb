{
 "cells": [
  {
   "cell_type": "markdown",
   "metadata": {},
   "source": [
    "# C++ Basics\n",
    "### Table of Contents\n",
    "\n",
    "* [Data Types and Data Structures](#topic_1)\n",
    "  * [Primitive Variable Types](#subtopic_1_1)\n",
    "  * [Vectors](#subtopic_1_2)\n",
    "    * [1D Vectors]\n",
    "    * [1D Vector Access]\n",
    "    * [Getting a Vector's length]\n",
    "    * [2D Vectors]\n",
    "  * [Auto]\n",
    "* [Functions]\n",
    "  * [Void Return Type]\n",
    "* [File Input Streams]\n",
    "  * [Creating an Input Stream Object]\n",
    "  * [Reading Data from the Stream]\n",
    "  * [Recap]\n",
    "* [Processing Strings]\n",
    "  * [Streaming `int`s from a `string` with `istringstream`]\n",
    "  * [Strings with Mixed Types]"
   ]
  },
  {
   "cell_type": "markdown",
   "metadata": {},
   "source": [
    "# Data Types and Data Structures <a class=\"anchor\" id=\"topic_1\"></a>"
   ]
  },
  {
   "cell_type": "markdown",
   "metadata": {},
   "source": [
    "## Primitive Variable Types <a class=\"anchor\" id=\"subtopic_1_1\"></a>\n",
    "In C++, once a variable has been declared, it can not be redeclared in the same scope.\n",
    "\n",
    "Common types are:\n",
    "* int\n",
    "* string\n",
    "* boolean"
   ]
  },
  {
   "cell_type": "code",
   "execution_count": 1,
   "metadata": {},
   "outputs": [
    {
     "name": "stdout",
     "output_type": "stream",
     "text": [
      "9\n",
      "Hello World!\n"
     ]
    }
   ],
   "source": [
    "#include <iostream>\n",
    "#include <string>\n",
    "using std::cout;\n",
    "\n",
    "// Declaring and initializing an int variable\n",
    "int a = 9;\n",
    "\n",
    "// Declaring a string variable\n",
    "std::string b;\n",
    "\n",
    "// Initializing b\n",
    "b = \"Hello World!\";\n",
    "\n",
    "cout << a << \"\\n\";\n",
    "cout << b << \"\\n\";\n"
   ]
  },
  {
   "cell_type": "markdown",
   "metadata": {},
   "source": [
    "## Vectors <a class=\"anchor\" id=\"subtopic_1_2\"></a>\n",
    "A vector is a linear sequence of contiguously allocated memory. The elements in the vector have to be of the same type."
   ]
  },
  {
   "cell_type": "markdown",
   "metadata": {},
   "source": [
    "### 1D Vectors"
   ]
  },
  {
   "cell_type": "code",
   "execution_count": 2,
   "metadata": {},
   "outputs": [
    {
     "name": "stdout",
     "output_type": "stream",
     "text": [
      "0 1 2 \n",
      "6 \n"
     ]
    }
   ],
   "source": [
    "#include <iostream>\n",
    "#include <vector>\n",
    "using std::vector;\n",
    "using std::cout;\n",
    "\n",
    "vector<int> v_1{0, 1, 2};\n",
    "vector<int> v_2;\n",
    "v_2 = {6};\n",
    "\n",
    "// Print out the values of v_1\n",
    "for (int i : v_1)\n",
    "    cout << i << \" \";\n",
    "cout << '\\n';\n",
    "\n",
    "// Print out the values of v_2\n",
    "for (int i : v_2)\n",
    "    cout << i << \" \";\n",
    "cout << '\\n';"
   ]
  },
  {
   "cell_type": "markdown",
   "metadata": {},
   "source": [
    "### 1D Vector Access"
   ]
  },
  {
   "cell_type": "code",
   "execution_count": 3,
   "metadata": {},
   "outputs": [
    {
     "name": "stdout",
     "output_type": "stream",
     "text": [
      "0 1\n"
     ]
    }
   ],
   "source": [
    "vector<int> a = {0, 1, 2, 3, 4};\n",
    "cout << a[0] << \" \" << a[1] << \"\\n\"; "
   ]
  },
  {
   "cell_type": "markdown",
   "metadata": {},
   "source": [
    "**Note about out-of-bounds access:** If you try to access the elements of a using an out-of-bound index, there is no error or exception thrown."
   ]
  },
  {
   "cell_type": "code",
   "execution_count": 4,
   "metadata": {},
   "outputs": [
    {
     "name": "stdout",
     "output_type": "stream",
     "text": [
      "0 0\n"
     ]
    }
   ],
   "source": [
    "cout << a[1000] << \" \" << a[348] << \"\\n\";"
   ]
  },
  {
   "cell_type": "markdown",
   "metadata": {},
   "source": [
    "In this case, the behavior is undefined. We'll learn later how to access vector elements that don't fail silently with out-of-range indices."
   ]
  },
  {
   "cell_type": "markdown",
   "metadata": {},
   "source": [
    "### Getting a Vector's length\n",
    "To get the Vector's length, use the `.size()` method."
   ]
  },
  {
   "cell_type": "code",
   "execution_count": 5,
   "metadata": {},
   "outputs": [
    {
     "name": "stdout",
     "output_type": "stream",
     "text": [
      "5\n"
     ]
    }
   ],
   "source": [
    "cout << a.size() << \"\\n\";"
   ]
  },
  {
   "cell_type": "markdown",
   "metadata": {},
   "source": [
    "### 2D Vectors"
   ]
  },
  {
   "cell_type": "code",
   "execution_count": 6,
   "metadata": {},
   "outputs": [
    {
     "name": "stdout",
     "output_type": "stream",
     "text": [
      "1 2 \n",
      "3 4 \n",
      "\n"
     ]
    }
   ],
   "source": [
    "vector<vector<int>> v_3 {{1, 2}, {3, 4}};\n",
    "\n",
    "// Print out the values of v_1\n",
    "for (vector v : v_3) {\n",
    "    for (int i : v) {\n",
    "        cout << i << \" \";\n",
    "    }\n",
    "    cout << '\\n';\n",
    "}\n",
    "cout << '\\n';"
   ]
  },
  {
   "cell_type": "markdown",
   "metadata": {},
   "source": [
    "The loop that's used above to loop over the elements of the 2D vector is a [range-based for loop](https://en.cppreference.com/w/cpp/language/range-for)."
   ]
  },
  {
   "cell_type": "markdown",
   "metadata": {},
   "source": [
    "### Vector push_back\n",
    "To add elements to vectors, use the `vector` method `push_back`."
   ]
  },
  {
   "cell_type": "code",
   "execution_count": 21,
   "metadata": {},
   "outputs": [
    {
     "name": "stdout",
     "output_type": "stream",
     "text": [
      "1 2 3 \n",
      "1 2 3 5 \n"
     ]
    }
   ],
   "source": [
    "vector v_4 {1, 2, 3};\n",
    "\n",
    "for (int i=0; i < v_4.size(); i++) {\n",
    "    cout << v_4[i] << \" \";\n",
    "}\n",
    "cout << \"\\n\";\n",
    "\n",
    "v_4.push_back(5);\n",
    "\n",
    "for (int i=0; i < v_4.size(); i++) {\n",
    "    cout << v_4[i] << \" \";\n",
    "}\n",
    "cout << \"\\n\";"
   ]
  },
  {
   "cell_type": "markdown",
   "metadata": {},
   "source": [
    "## Auto\n",
    "The `auto` keyword infers the type of the variable automatically. The compiler determines the type based on the value being assigned. "
   ]
  },
  {
   "cell_type": "code",
   "execution_count": 8,
   "metadata": {},
   "outputs": [],
   "source": [
    "auto i = 5;\n",
    "auto v_4 = {1, 2, 3};"
   ]
  },
  {
   "cell_type": "markdown",
   "metadata": {},
   "source": [
    "It is more clear for the reader if variable types are declared. It is also useful to declare the variable type if you want to be explicit about the number precision being used."
   ]
  },
  {
   "cell_type": "code",
   "execution_count": 9,
   "metadata": {},
   "outputs": [
    {
     "name": "stdout",
     "output_type": "stream",
     "text": [
      "7 8 9 10 \n"
     ]
    }
   ],
   "source": [
    "auto v_4 = {7, 8, 9, 10};\n",
    "for (auto i : v_4)\n",
    "    cout << i << \" \";\n",
    "cout << \"\\n\";"
   ]
  },
  {
   "cell_type": "markdown",
   "metadata": {},
   "source": [
    "# Functions\n",
    "The basic syntax to create functions in C++ is:\n",
    "```cpp\n",
    "return_type FunctionName(parameter_list) {\n",
    "  // Body of function here.\n",
    "}\n",
    "```"
   ]
  },
  {
   "cell_type": "code",
   "execution_count": 10,
   "metadata": {},
   "outputs": [
    {
     "name": "stdout",
     "output_type": "stream",
     "text": [
      "10\n"
     ]
    }
   ],
   "source": [
    "int Add(int a, int b) {\n",
    "    return a + b;\n",
    "}\n",
    "\n",
    "int n1 = 3, n2 = 7;\n",
    "cout << Add(n1, n2) << \"\\n\";"
   ]
  },
  {
   "cell_type": "code",
   "execution_count": 11,
   "metadata": {},
   "outputs": [
    {
     "name": "stdout",
     "output_type": "stream",
     "text": [
      "6\n"
     ]
    }
   ],
   "source": [
    "int Sum(vector<int> v) {\n",
    "    int sum = 0;\n",
    "    for (int num : v) {\n",
    "        sum += num;\n",
    "    }\n",
    "    return sum;\n",
    "}\n",
    "\n",
    "vector<int> v {1, 2, 3};\n",
    "cout << Sum(v) << \"\\n\";"
   ]
  },
  {
   "cell_type": "markdown",
   "metadata": {},
   "source": [
    "## Void Return Type\n",
    "If a function doesn't return a value, the void type can be used for the return type. "
   ]
  },
  {
   "cell_type": "code",
   "execution_count": 12,
   "metadata": {},
   "outputs": [],
   "source": [
    "#include <string>\n",
    "using std::string;"
   ]
  },
  {
   "cell_type": "code",
   "execution_count": 13,
   "metadata": {},
   "outputs": [
    {
     "name": "stdout",
     "output_type": "stream",
     "text": [
      "Hello Kat\n"
     ]
    }
   ],
   "source": [
    "void PrintStrings(string a, string b) {\n",
    "    cout << a << \" \" << b << \"\\n\";\n",
    "}\n",
    "\n",
    "string s1 = \"Hello\";\n",
    "string s2 = \"Kat\";\n",
    "\n",
    "PrintStrings(s1, s2);"
   ]
  },
  {
   "cell_type": "markdown",
   "metadata": {},
   "source": [
    "# File Input Streams\n",
    "## Creating an Input Stream Object\n",
    "\n",
    "The `std::ifstream` object is used to handle input file streams. \n",
    "\n",
    "```cpp\n",
    "#include <fstream>\n",
    "// declare a new input stream object and initialize it using the file path `path`\n",
    "std::ifstream my_file;\n",
    "my_file.open(path);\n",
    "```\n",
    "\n",
    "The declaration and initialization can also be done in a single line:\n",
    "```cpp\n",
    "std::ifstream my_file(path);\n",
    "```\n",
    "\n",
    "The `ifstream` object can be used as a boolean to check if the stream has been created successfully. "
   ]
  },
  {
   "cell_type": "code",
   "execution_count": 14,
   "metadata": {},
   "outputs": [
    {
     "name": "stdout",
     "output_type": "stream",
     "text": [
      "The file stream has been created.\n"
     ]
    }
   ],
   "source": [
    "#include <fstream>\n",
    "#include <iostream>\n",
    "#include <string>\n",
    "\n",
    "std::ifstream my_file(\"files/1.board\");\n",
    "if (my_file) {\n",
    "    std::cout << \"The file stream has been created.\\n\";\n",
    "}"
   ]
  },
  {
   "cell_type": "markdown",
   "metadata": {},
   "source": [
    "## Reading Data from the Stream\n",
    "Use `getline` to read the lines of the input stream."
   ]
  },
  {
   "cell_type": "code",
   "execution_count": 15,
   "metadata": {},
   "outputs": [
    {
     "name": "stdout",
     "output_type": "stream",
     "text": [
      "The file stream has been created.\n",
      "0,1,0,0,0,0,\n",
      "0,1,0,0,0,0,\n",
      "0,1,0,0,0,0,\n",
      "0,1,0,0,0,0,\n",
      "0,0,0,0,1,0,\n"
     ]
    }
   ],
   "source": [
    "std::ifstream my_file(\"files/1.board\");\n",
    "if (my_file) {\n",
    "    std::cout << \"The file stream has been created.\\n\";\n",
    "    std::string line;\n",
    "    while (getline(my_file, line)) {\n",
    "        std::cout << line << \"\\n\";\n",
    "    }\n",
    "}"
   ]
  },
  {
   "cell_type": "markdown",
   "metadata": {},
   "source": [
    "## Recap\n",
    "To read a file, follow these four steps:\n",
    "\n",
    "1. `#include <fstream>`\n",
    "2. Create a `std::ifstream` object using the path to your file\n",
    "3. Evaluate the `std::ifstream` object as a `bool` to ensure that the stream creation did not fail.\n",
    "4. Use a `while` loop with `getline` to write file lines to a string."
   ]
  },
  {
   "cell_type": "markdown",
   "metadata": {},
   "source": [
    "# Processing Strings\n",
    "There are many ways to process strings and store data. Here we will focus on [`istringstream` from the `<sstream>` header file](http://www.cplusplus.com/reference/sstream/istringstream/).\n",
    "\n",
    "## Streaming `int`s from a `string` with `istringstream`\n",
    "In C++ strings can be streamed into temporary variables, similarly to how files can be streamed into strings. Streaming a sring allows us to work with each character individually.\n",
    "\n",
    "One way to stream a string is to use an input string stream object `istringstream` from the `<sstream>` header.\n",
    "\n",
    "Once an `istringstream` object has been created, parts of the string can be streamed and stored using the extraction operator `>>`. The extraction operator will read until whitespace is reached or until the stream fails."
   ]
  },
  {
   "cell_type": "code",
   "execution_count": 16,
   "metadata": {},
   "outputs": [
    {
     "name": "stdout",
     "output_type": "stream",
     "text": [
      "123, a, 34, z\n"
     ]
    }
   ],
   "source": [
    "#include <iostream>\n",
    "#include <sstream>\n",
    "#include <string>\n",
    "\n",
    "using std::istringstream;\n",
    "using std::string;\n",
    "using std::cout;\n",
    "\n",
    "string a(\"123 a 34 z\");\n",
    "\n",
    "istringstream my_stream(a);\n",
    "\n",
    "int n1, n2;\n",
    "char ch1, ch2;\n",
    "my_stream >> n1 >> ch1 >> n2 >> ch2;\n",
    "\n",
    "cout << n1 << \", \" << ch1 << \", \" << n2 << \", \" << ch2 <<\"\\n\";"
   ]
  },
  {
   "cell_type": "markdown",
   "metadata": {},
   "source": [
    "The `istringstream` object can also be used as a boolean to determine if the last extraction operation failed. This happens at the end of the string, for example."
   ]
  },
  {
   "cell_type": "code",
   "execution_count": 17,
   "metadata": {},
   "outputs": [
    {
     "name": "stdout",
     "output_type": "stream",
     "text": [
      "1\n",
      "2\n",
      "3\n",
      "4\n",
      "5\n",
      "We reached the end of the string. \n"
     ]
    }
   ],
   "source": [
    "string b(\"1 2 3 4 5\");\n",
    "istringstream my_stream(b);\n",
    "int n;\n",
    "\n",
    "while(my_stream) {\n",
    "    my_stream >> n;\n",
    "    if (my_stream) {\n",
    "        cout << n << \"\\n\";\n",
    "    } else {\n",
    "        cout << \"We reached the end of the string. \\n\";\n",
    "    }\n",
    "}"
   ]
  },
  {
   "cell_type": "markdown",
   "metadata": {},
   "source": [
    "The extraction operator `>>` writes the stream to the variable on the right of the operator and returns the `istringstream` object. This means the entire expression `my_stream >> n` is an `istringstream` object and can be used as a boolean.\n",
    "\n",
    "Using this, we can refactor the loop above this way:"
   ]
  },
  {
   "cell_type": "code",
   "execution_count": 18,
   "metadata": {},
   "outputs": [
    {
     "name": "stdout",
     "output_type": "stream",
     "text": [
      "1\n",
      "2\n",
      "3\n",
      "4\n",
      "5\n",
      "We reached the end of the string.\n"
     ]
    }
   ],
   "source": [
    "string c(\"1 2 3 4 5\");\n",
    "istringstream my_stream(c);\n",
    "\n",
    "int n;\n",
    "\n",
    "while (my_stream >> n) {\n",
    "    cout << n << \"\\n\";\n",
    "}\n",
    "\n",
    "cout << \"We reached the end of the string.\\n\";"
   ]
  },
  {
   "cell_type": "markdown",
   "metadata": {},
   "source": [
    "## Strings with Mixed Types"
   ]
  },
  {
   "cell_type": "code",
   "execution_count": 19,
   "metadata": {},
   "outputs": [
    {
     "name": "stdout",
     "output_type": "stream",
     "text": [
      "1,\n",
      "2,\n",
      "The end.\n"
     ]
    }
   ],
   "source": [
    "string d(\"1, 2, 3\");\n",
    "\n",
    "istringstream my_stream(d);\n",
    "\n",
    "char c;\n",
    "int n;\n",
    "\n",
    "while (my_stream >> n >> c) {\n",
    "    cout << n << c << \"\\n\";\n",
    "}\n",
    "cout << \"The end.\\n\";"
   ]
  },
  {
   "cell_type": "markdown",
   "metadata": {},
   "source": [
    "Notice that the `3` was not printed. The expression\n",
    "```cpp\n",
    "my_stream >> n >> c\n",
    "```\n",
    "tried to stream an `int` followed by a `char`. Since there was no `char` after the `3`, the stream failed and the `while` loop exited."
   ]
  },
  {
   "cell_type": "code",
   "execution_count": null,
   "metadata": {},
   "outputs": [],
   "source": []
  }
 ],
 "metadata": {
  "kernelspec": {
   "display_name": "C++17",
   "language": "C++17",
   "name": "xcpp17"
  },
  "language_info": {
   "codemirror_mode": "text/x-c++src",
   "file_extension": ".cpp",
   "mimetype": "text/x-c++src",
   "name": "c++",
   "version": "17"
  }
 },
 "nbformat": 4,
 "nbformat_minor": 4
}
