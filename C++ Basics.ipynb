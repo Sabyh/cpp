{
 "cells": [
  {
   "cell_type": "markdown",
   "metadata": {},
   "source": [
    "# Data Types and Data Structures"
   ]
  },
  {
   "cell_type": "markdown",
   "metadata": {},
   "source": [
    "## Primitive Variable Types\n",
    "In C++, once a variable has been declared, it can not be redeclared in the same scope.\n",
    "\n",
    "Common types are:\n",
    "* int\n",
    "* string\n",
    "* boolean"
   ]
  },
  {
   "cell_type": "code",
   "execution_count": 1,
   "metadata": {},
   "outputs": [
    {
     "name": "stdout",
     "output_type": "stream",
     "text": [
      "9\n",
      "Hello World!\n"
     ]
    }
   ],
   "source": [
    "#include <iostream>\n",
    "#include <string>\n",
    "using std::cout;\n",
    "\n",
    "// Declaring and initializing an int variable\n",
    "int a = 9;\n",
    "\n",
    "// Declaring a string variable\n",
    "std::string b;\n",
    "\n",
    "// Initializing b\n",
    "b = \"Hello World!\";\n",
    "\n",
    "cout << a << \"\\n\";\n",
    "cout << b << \"\\n\";\n"
   ]
  },
  {
   "cell_type": "markdown",
   "metadata": {},
   "source": [
    "## Vectors\n",
    "A vector is a linear sequence of contiguously allocated memory. The elements in the vector have to be of the same type."
   ]
  },
  {
   "cell_type": "markdown",
   "metadata": {},
   "source": [
    "### 1D Vectors"
   ]
  },
  {
   "cell_type": "code",
   "execution_count": 2,
   "metadata": {},
   "outputs": [
    {
     "name": "stdout",
     "output_type": "stream",
     "text": [
      "0 1 2 \n",
      "6 \n"
     ]
    }
   ],
   "source": [
    "#include <iostream>\n",
    "#include <vector>\n",
    "using std::vector;\n",
    "using std::cout;\n",
    "\n",
    "vector<int> v_1{0, 1, 2};\n",
    "vector<int> v_2;\n",
    "v_2 = {6};\n",
    "\n",
    "// Print out the values of v_1\n",
    "for (int i : v_1)\n",
    "    cout << i << \" \";\n",
    "cout << '\\n';\n",
    "\n",
    "// Print out the values of v_2\n",
    "for (int i : v_2)\n",
    "    cout << i << \" \";\n",
    "cout << '\\n';"
   ]
  },
  {
   "cell_type": "markdown",
   "metadata": {},
   "source": [
    "### 1D Vector Access"
   ]
  },
  {
   "cell_type": "code",
   "execution_count": 3,
   "metadata": {},
   "outputs": [
    {
     "name": "stdout",
     "output_type": "stream",
     "text": [
      "0 1\n"
     ]
    }
   ],
   "source": [
    "vector<int> a = {0, 1, 2, 3, 4};\n",
    "cout << a[0] << \" \" << a[1] << \"\\n\"; "
   ]
  },
  {
   "cell_type": "markdown",
   "metadata": {},
   "source": [
    "**Note about out-of-bounds access:** If you try to access the elements of a using an out-of-bound index, there is no error or exception thrown."
   ]
  },
  {
   "cell_type": "code",
   "execution_count": 4,
   "metadata": {},
   "outputs": [
    {
     "name": "stdout",
     "output_type": "stream",
     "text": [
      "0 5\n"
     ]
    }
   ],
   "source": [
    "cout << a[1000] << \" \" << a[348] << \"\\n\";"
   ]
  },
  {
   "cell_type": "markdown",
   "metadata": {},
   "source": [
    "In this case, the behavior is undefined. We'll learn later how to access vector elements that don't fail silently with out-of-range indices."
   ]
  },
  {
   "cell_type": "markdown",
   "metadata": {},
   "source": [
    "### Getting a Vector's length\n",
    "To get the Vector's length, use the `.size()` method."
   ]
  },
  {
   "cell_type": "code",
   "execution_count": 5,
   "metadata": {},
   "outputs": [
    {
     "name": "stdout",
     "output_type": "stream",
     "text": [
      "5\n"
     ]
    }
   ],
   "source": [
    "cout << a.size() << \"\\n\";"
   ]
  },
  {
   "cell_type": "markdown",
   "metadata": {},
   "source": [
    "### 2D Vectors"
   ]
  },
  {
   "cell_type": "code",
   "execution_count": 6,
   "metadata": {},
   "outputs": [
    {
     "name": "stdout",
     "output_type": "stream",
     "text": [
      "1 2 \n",
      "3 4 \n",
      "\n"
     ]
    }
   ],
   "source": [
    "vector<vector<int>> v_3 {{1, 2}, {3, 4}};\n",
    "\n",
    "// Print out the values of v_1\n",
    "for (vector v : v_3) {\n",
    "    for (int i : v) {\n",
    "        cout << i << \" \";\n",
    "    }\n",
    "    cout << '\\n';\n",
    "}\n",
    "cout << '\\n';"
   ]
  },
  {
   "cell_type": "markdown",
   "metadata": {},
   "source": [
    "The loop that's used above to loop over the elements of the 2D vector is a [range-based for loop](https://en.cppreference.com/w/cpp/language/range-for)."
   ]
  },
  {
   "cell_type": "markdown",
   "metadata": {},
   "source": [
    "## Auto\n",
    "The `auto` keyword infers the type of the variable automatically. The compiler determines the type based on the value being assigned. "
   ]
  },
  {
   "cell_type": "code",
   "execution_count": 7,
   "metadata": {},
   "outputs": [],
   "source": [
    "auto i = 5;\n",
    "auto v_4 = {1, 2, 3};"
   ]
  },
  {
   "cell_type": "markdown",
   "metadata": {},
   "source": [
    "It is more clear for the reader if variable types are declared. It is also useful to declare the variable type if you want to be explicit about the number precision being used."
   ]
  },
  {
   "cell_type": "code",
   "execution_count": 8,
   "metadata": {},
   "outputs": [
    {
     "name": "stdout",
     "output_type": "stream",
     "text": [
      "7 8 9 10 \n"
     ]
    }
   ],
   "source": [
    "auto v_4 = {7, 8, 9, 10};\n",
    "for (auto i : v_4)\n",
    "    cout << i << \" \";\n",
    "cout << \"\\n\";"
   ]
  },
  {
   "cell_type": "markdown",
   "metadata": {},
   "source": [
    "# Functions\n",
    "The basic syntax to create functions in C++ is:\n",
    "```cpp\n",
    "return_type FunctionName(parameter_list) {\n",
    "  // Body of function here.\n",
    "}\n",
    "```"
   ]
  },
  {
   "cell_type": "code",
   "execution_count": 9,
   "metadata": {},
   "outputs": [
    {
     "name": "stdout",
     "output_type": "stream",
     "text": [
      "10\n"
     ]
    }
   ],
   "source": [
    "int Add(int a, int b) {\n",
    "    return a + b;\n",
    "}\n",
    "\n",
    "int n1 = 3, n2 = 7;\n",
    "cout << Add(n1, n2) << \"\\n\";"
   ]
  },
  {
   "cell_type": "code",
   "execution_count": 10,
   "metadata": {},
   "outputs": [
    {
     "name": "stdout",
     "output_type": "stream",
     "text": [
      "6\n"
     ]
    }
   ],
   "source": [
    "int Sum(vector<int> v) {\n",
    "    int sum = 0;\n",
    "    for (int num : v) {\n",
    "        sum += num;\n",
    "    }\n",
    "    return sum;\n",
    "}\n",
    "\n",
    "vector<int> v {1, 2, 3};\n",
    "cout << Sum(v) << \"\\n\";"
   ]
  },
  {
   "cell_type": "markdown",
   "metadata": {},
   "source": [
    "## Void Return Type\n",
    "If a function doesn't return a value, the void type can be used for the return type. "
   ]
  },
  {
   "cell_type": "code",
   "execution_count": 11,
   "metadata": {},
   "outputs": [],
   "source": [
    "#include <string>\n",
    "using std::string;"
   ]
  },
  {
   "cell_type": "code",
   "execution_count": 12,
   "metadata": {},
   "outputs": [
    {
     "name": "stdout",
     "output_type": "stream",
     "text": [
      "Hello Kat\n"
     ]
    }
   ],
   "source": [
    "void PrintStrings(string a, string b) {\n",
    "    cout << a << \" \" << b << \"\\n\";\n",
    "}\n",
    "\n",
    "string s1 = \"Hello\";\n",
    "string s2 = \"Kat\";\n",
    "\n",
    "PrintStrings(s1, s2);"
   ]
  },
  {
   "cell_type": "markdown",
   "metadata": {},
   "source": [
    "# File Input Streams\n",
    "## Creating an Input Stream Object\n",
    "\n",
    "The `std::ifstream` object is used to handle input file streams. \n",
    "\n",
    "```cpp\n",
    "#include <fstream>\n",
    "// declare a new input stream object and initialize it using the file path `path`\n",
    "std::ifstream my_file;\n",
    "my_file.open(path);\n",
    "```\n",
    "\n",
    "The declaration and initialization can also be done in a single line:\n",
    "```cpp\n",
    "std::ifstream my_file(path);\n",
    "```\n",
    "\n",
    "The `ifstream` object can be used as a boolean to check if the stream has been created successfully. "
   ]
  },
  {
   "cell_type": "code",
   "execution_count": 16,
   "metadata": {},
   "outputs": [
    {
     "name": "stdout",
     "output_type": "stream",
     "text": [
      "The file stream has been created.\n"
     ]
    }
   ],
   "source": [
    "#include <fstream>\n",
    "#include <iostream>\n",
    "#include <string>\n",
    "\n",
    "std::ifstream my_file(\"files/1.board\");\n",
    "if (my_file) {\n",
    "    std::cout << \"The file stream has been created.\\n\";\n",
    "}"
   ]
  },
  {
   "cell_type": "markdown",
   "metadata": {},
   "source": [
    "## Reading Data from the Stream\n",
    "Use `getline` to read the lines of the input stream."
   ]
  },
  {
   "cell_type": "code",
   "execution_count": 18,
   "metadata": {},
   "outputs": [
    {
     "name": "stdout",
     "output_type": "stream",
     "text": [
      "The file stream has been created.\n",
      "0,1,0,0,0,0,\n",
      "0,1,0,0,0,0,\n",
      "0,1,0,0,0,0,\n",
      "0,1,0,0,0,0,\n",
      "0,0,0,0,1,0,\n"
     ]
    }
   ],
   "source": [
    "std::ifstream my_file(\"files/1.board\");\n",
    "if (my_file) {\n",
    "    std::cout << \"The file stream has been created.\\n\";\n",
    "    std::string line;\n",
    "    while (getline(my_file, line)) {\n",
    "        std::cout << line << \"\\n\";\n",
    "    }\n",
    "}"
   ]
  },
  {
   "cell_type": "markdown",
   "metadata": {},
   "source": [
    "## Recap\n",
    "To read a file, follow these four steps:\n",
    "\n",
    "1. `#include <fstream>`\n",
    "2. Create a `std::ifstream` object using the path to your file\n",
    "3. Evaluate the `std::ifstream` object as a `bool` to ensure that the stream creation did not fail.\n",
    "4. Use a `while` loop with `getline` to write file lines to a string."
   ]
  },
  {
   "cell_type": "code",
   "execution_count": null,
   "metadata": {},
   "outputs": [],
   "source": []
  }
 ],
 "metadata": {
  "kernelspec": {
   "display_name": "C++17",
   "language": "C++17",
   "name": "xcpp17"
  },
  "language_info": {
   "codemirror_mode": "text/x-c++src",
   "file_extension": ".cpp",
   "mimetype": "text/x-c++src",
   "name": "c++",
   "version": "17"
  }
 },
 "nbformat": 4,
 "nbformat_minor": 4
}
