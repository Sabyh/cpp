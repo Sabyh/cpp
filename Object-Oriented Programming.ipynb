{
 "cells": [
  {
   "cell_type": "markdown",
   "metadata": {},
   "source": [
    "# Object-Oriented Programming\n",
    "\n",
    "## Overview\n",
    "* Classes\n",
    "  * What differentiates classes from structs?\n",
    "* Encapsulation\n",
    "* Abstraction\n",
    "* Inheritance\n",
    "* Polymorphism\n",
    "  * Overriding\n",
    "  * Overloading\n",
    "* Generic programming\n",
    "  * Templates\n",
    "  \n",
    "## Project Overview\n",
    "I'll develop a process manager for Linux: A version of a program called Htop. The program will read and publish data about all of the processes on my system. I'll read the data from files, store it into objects, manipulate the objects, and output data to the terminal.\n",
    "\n",
    "The process monitor will run on Linux and will allow me to see processes on the system, with their corresponding process ids (PIDs), CPU usage, and memory usage.\n",
    "\n",
    "Similar programs for differend operating systems:\n",
    "* Unix\n",
    "  * [top](https://en.wikipedia.org/wiki/Top_(software)): task manager program that displays information about CPU and memory utilization\n",
    "  * [htop](https://en.wikipedia.org/wiki/Htop): interactive system-monitor, process-viewer and process-manager\n",
    "* Microsoft Windows\n",
    "  * [Process Explorer](https://en.wikipedia.org/wiki/Process_Explorer): freeware task manager and system monitor for Microsoft Windows\n",
    "  * [Process Monitor](https://en.wikipedia.org/wiki/Process_Monitor): free tool that monitors and displays in real-time all file system activity on a Microsoft Windows or Unix-like operating system\n",
    "* OSx\n",
    "  * [Activity Monitor](https://support.apple.com/guide/activity-monitor/welcome/mac): system monitor and task manager\n",
    "\n",
    "Concepts learned and practice:\n",
    "* Develop classes to read and store data.\n",
    "* Establish abstract and encapsulated interfaces for objects to interact with each other.\n",
    "* Some of the classes are related, which provides the opportunity to establish inheritance hierarchies and polymorphic class methods.\n",
    "* Build generic templates to work with multiple types of data structures."
   ]
  },
  {
   "cell_type": "markdown",
   "metadata": {},
   "source": [
    "## Bjarne on the creation of C++ and classes\n",
    "Bjarne was trying to build a system (a Unix cluster). For that he needed to manipulate hardware, implement memory managers, process schedulers, networking interfaces. He needed to abstract up, where the communication between systems follows a certain protocol.\n",
    "\n",
    "Bjarne looked at what languages were available at the time. C was a good candidate for dealing with low level stuff. It wasn't as popular as it became later, but the support was great since Bjarne was on the same corridor as Brian Kernighan and Dennis Richie.\n",
    "\n",
    "Simula, the language that could handle the top stuff was similar and could handle the abstraction, except for it was way too slow - many tens of times too slow. As a result, Bjarne took the class concept from Simula and put it into C."
   ]
  },
  {
   "cell_type": "markdown",
   "metadata": {},
   "source": [
    "## Classes\n",
    "Classes evolved from a related type called structures/structs."
   ]
  },
  {
   "cell_type": "markdown",
   "metadata": {},
   "source": [
    "## Polymorphism\n",
    "Polymorphism can be implemented in several different ways. These two methods that are frequently used:\n",
    "* Overriding\n",
    "* Overloading"
   ]
  },
  {
   "cell_type": "code",
   "execution_count": null,
   "metadata": {},
   "outputs": [],
   "source": []
  }
 ],
 "metadata": {
  "kernelspec": {
   "display_name": "C++17",
   "language": "C++17",
   "name": "xcpp17"
  },
  "language_info": {
   "codemirror_mode": "text/x-c++src",
   "file_extension": ".cpp",
   "mimetype": "text/x-c++src",
   "name": "c++",
   "version": "17"
  }
 },
 "nbformat": 4,
 "nbformat_minor": 4
}
