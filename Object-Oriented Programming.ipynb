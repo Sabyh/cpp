{
 "cells": [
  {
   "cell_type": "markdown",
   "metadata": {},
   "source": [
    "# Object-Oriented Programming\n",
    "\n",
    "## Overview\n",
    "* Classes\n",
    "  * What differentiates classes from structs?\n",
    "* Encapsulation\n",
    "* Abstraction\n",
    "* Inheritance\n",
    "* Polymorphism\n",
    "  * Overriding\n",
    "  * Overloading\n",
    "* Generic programming\n",
    "  * Templates\n",
    "  \n",
    "## Project Overview\n",
    "I'll develop a process manager for Linux: A version of a program called Htop. The program will read and publish data about all of the processes on my system. I'll read the data from files, store it into objects, manipulate the objects, and output data to the terminal.\n",
    "\n",
    "The process monitor will run on Linux and will allow me to see processes on the system, with their corresponding process ids (PIDs), CPU usage, and memory usage.\n",
    "\n",
    "Similar programs for differend operating systems:\n",
    "* Unix\n",
    "  * [top](https://en.wikipedia.org/wiki/Top_(software)): task manager program that displays information about CPU and memory utilization\n",
    "  * [htop](https://en.wikipedia.org/wiki/Htop): interactive system-monitor, process-viewer and process-manager\n",
    "* Microsoft Windows\n",
    "  * [Process Explorer](https://en.wikipedia.org/wiki/Process_Explorer): freeware task manager and system monitor for Microsoft Windows\n",
    "  * [Process Monitor](https://en.wikipedia.org/wiki/Process_Monitor): free tool that monitors and displays in real-time all file system activity on a Microsoft Windows or Unix-like operating system\n",
    "* OSx\n",
    "  * [Activity Monitor](https://support.apple.com/guide/activity-monitor/welcome/mac): system monitor and task manager\n",
    "\n",
    "Concepts learned and practice:\n",
    "* Develop classes to read and store data.\n",
    "* Establish abstract and encapsulated interfaces for objects to interact with each other.\n",
    "* Some of the classes are related, which provides the opportunity to establish inheritance hierarchies and polymorphic class methods.\n",
    "* Build generic templates to work with multiple types of data structures."
   ]
  },
  {
   "cell_type": "markdown",
   "metadata": {},
   "source": [
    "## Bjarne on the creation of C++ and classes\n",
    "Bjarne was trying to build a system (a Unix cluster). For that he needed to manipulate hardware, implement memory managers, process schedulers, networking interfaces. He needed to abstract up, where the communication between systems follows a certain protocol.\n",
    "\n",
    "Bjarne looked at what languages were available at the time. C was a good candidate for dealing with low level stuff. It wasn't as popular as it became later, but the support was great since Bjarne was on the same corridor as Brian Kernighan and Dennis Richie.\n",
    "\n",
    "Simula, the language that could handle the top stuff was similar and could handle the abstraction, except for it was way too slow - many tens of times too slow. As a result, Bjarne took the class concept from Simula and put it into C."
   ]
  },
  {
   "cell_type": "markdown",
   "metadata": {},
   "source": [
    "## Classes\n",
    "Classes evolved from a related type called structures/structs."
   ]
  },
  {
   "cell_type": "markdown",
   "metadata": {},
   "source": [
    "## Polymorphism\n",
    "Polymorphism can be implemented in several different ways. These two methods that are frequently used:\n",
    "* Overriding\n",
    "* Overloading"
   ]
  },
  {
   "cell_type": "markdown",
   "metadata": {},
   "source": [
    "# Classes & OOP\n",
    "Built-in C++ types: ints, floats, chars.\n",
    "Classes allow engineers to build user-defined types. Classes might be connected to each other through relationships like composition or inheritance. One can instantiate an object of the class. \n",
    "\n",
    "## Bjarne on Classes in C++\n",
    "If I'm interested to work with math, I'd like to have complex numbers, vectors with mathematical operations, matrices, band diagonal matrices, triangular matrices, etc. "
   ]
  },
  {
   "cell_type": "markdown",
   "metadata": {},
   "source": [
    "## Structures\n",
    "\n",
    "### Types\n",
    "Every C++ variable is defined with a [type](http://www.cplusplus.com/doc/tutorial/variables/).\n",
    "\n",
    "```cpp\n",
    "int value;\n",
    "Rectangle rectangle;\n",
    "Sphere earth;\n",
    "```\n",
    "\n",
    "### Fundamental Types\n",
    "C++ includes [fundamental types](https://en.cppreference.com/w/cpp/language/types) (also called [primitives](https://www.geeksforgeeks.org/c-data-types/)).\n",
    "\n",
    "The Standard Library includes additional types such as `std:;size_t` and `std::string`.\n",
    "\n",
    "### User-Defined Types\n",
    "Structures are a user-defined type that allows aggregating different other types of data together.\n",
    "\n",
    "Example: `Rectangle`\n",
    "```cpp\n",
    "struct Rectangle {\n",
    "    float length;\n",
    "    float width;\n",
    "};\n",
    "```"
   ]
  },
  {
   "cell_type": "code",
   "execution_count": 1,
   "metadata": {},
   "outputs": [
    {
     "name": "stdout",
     "output_type": "stream",
     "text": [
      "16/4/1985\n"
     ]
    }
   ],
   "source": [
    "#include <iostream>\n",
    "\n",
    "struct Date {\n",
    "    int day;\n",
    "    int month;\n",
    "    int year;\n",
    "};\n",
    "\n",
    "Date date;\n",
    "// Initialize the date to April 16, 1985\n",
    "date.day = 16;\n",
    "date.month = 4;\n",
    "date.year = 1985;\n",
    "\n",
    "std::cout << date.day << \"/\" << date.month << \"/\" << date.year << \"\\n\";"
   ]
  },
  {
   "cell_type": "markdown",
   "metadata": {},
   "source": [
    "## Member Initialization\n",
    "We want to avoid instantiating an object with undefined members. \n",
    "```cpp\n",
    "struct Date {\n",
    "    int day{1};\n",
    "    int month{1};\n",
    "    int year{2000};\n",
    "};\n",
    "```"
   ]
  },
  {
   "cell_type": "markdown",
   "metadata": {},
   "source": [
    "## Access Modifiers / Specifiers\n",
    "Access modifiers are keywords that allow us to specify whether the members of a struct are public or private. \n",
    "\n",
    "By default: members of a struct are public."
   ]
  },
  {
   "cell_type": "code",
   "execution_count": 3,
   "metadata": {},
   "outputs": [
    {
     "name": "stdout",
     "output_type": "stream",
     "text": [
      "16/4/1985\n"
     ]
    }
   ],
   "source": [
    "struct Date {\n",
    "  public:\n",
    "    int Day() {return day;}\n",
    "    void Day(int d) {day = d;}\n",
    "    \n",
    "    int month{1};\n",
    "    int year{2000};\n",
    "  private:\n",
    "    int day{1};\n",
    "};\n",
    "\n",
    "Date date;\n",
    "// Initialize the date to April 16, 1985\n",
    "date.Day(16);\n",
    "date.month = 4;\n",
    "date.year = 1985;\n",
    "\n",
    "std::cout << date.Day() << \"/\" << date.month << \"/\" << date.year << \"\\n\";"
   ]
  },
  {
   "cell_type": "markdown",
   "metadata": {},
   "source": [
    "### Private, public, protected\n",
    "Private members of a class are accessible only from within other member functions of the same class (or from their \"friends\").\n",
    "\n",
    "`protected`: members are accessible from other member functions of the same class (or from their \"friends\"), and from members of their derived classes.\n",
    "\n",
    "### Accessors & Mutators\n",
    "```cpp\n",
    "struct Date {\n",
    " public:\n",
    "  int Day() { return day; }\n",
    "  void Day(int day) { this.day = day; }\n",
    "  int Month() { return month; }\n",
    "  void Month(int month) { this.month = month; }\n",
    "  int Year() { return year; }\n",
    "  void Year(int year) { this.year = year; }\n",
    "\n",
    " private:\n",
    "  int day{1};\n",
    "  int month{1};\n",
    "  int year{0};\n",
    "};\n",
    "```\n",
    "\n",
    "### Avoid trivial getters & setters\n",
    "Sometimes accessors are not necessary or even advisable.\n",
    "\n",
    "This class could be made into a struct, with no logic or \"invariants\", just passive data.\n",
    "```cpp\n",
    "class Point {\n",
    "    int x;\n",
    "    int y;\n",
    "public:\n",
    "    Point(int xx, int yy) : x{xx}, y{yy} { }\n",
    "    int get_x() const { return x; }  // const here promises not to modify the object\n",
    "    void set_x(int xx) { x = xx; }\n",
    "    int get_y() const { return y; }  // const here promises not to modify the object\n",
    "    void set_y(int yy) { y = yy; }\n",
    "    // no behavioral member functions\n",
    "};\n",
    "```\n",
    "\n",
    "Replace the above class with this struct:\n",
    "```cpp\n",
    "struct Point {   // Good: concise\n",
    "    int x {0};   // public member variable with a default initializer of 0\n",
    "    int y {0};   // public member variable with a default initializer of 0\n",
    "};\n",
    "```"
   ]
  },
  {
   "cell_type": "markdown",
   "metadata": {},
   "source": [
    "## Classes\n",
    "\n",
    "Structs are great when you have publicly available data where all the data members can vary independently of each other.\n",
    "\n",
    "As soon as you have invariants, or private member variables, [classes are a better choice](http://isocpp.github.io/CppCoreGuidelines/CppCoreGuidelines#c2-use-class-if-the-class-has-an-invariant-use-struct-if-the-data-members-can-vary-independently). \n",
    "\n",
    "Invariants are logical conditions that member variables must adhere to.\n",
    "\n",
    "By default, all members of a `class` default to private (as compared to the members of a `struct` that default to public).\n",
    "\n",
    "```cpp\n",
    "class Date {\n",
    " public:\n",
    "  int Day() { return day; }\n",
    "  void Day(int d) {\n",
    "    if (d >= 1 && d <= 31) day_ = d;\n",
    "  }\n",
    "\n",
    " private:\n",
    "  int day_{1};\n",
    "  int month_{1};\n",
    "  int year_{0};\n",
    "};\n",
    "```"
   ]
  },
  {
   "cell_type": "markdown",
   "metadata": {},
   "source": [
    "## Encapsulation and Abstraction\n",
    "Encapsulation:\n",
    "* Bundle related properties together in a single class\n",
    "* Sometimes we protect those properties from unauthorized or accidental modifications\n",
    "\n",
    "Abstraction:\n",
    "* Users of our class only need to be familiar with the interface we provide\n",
    "\n",
    "Encapsulation groups related data together into a class, while abstraction hides the details of how we work with this data."
   ]
  },
  {
   "cell_type": "markdown",
   "metadata": {},
   "source": [
    "## Constructors\n",
    "In order to instantiate objects in C++, we build & use constructors. These are member functions of a class which construct objects of that class.\n",
    "\n",
    "All classes come with a [default constructor](http://isocpp.github.io/CppCoreGuidelines/CppCoreGuidelines#cctor-constructors-assignments-and-destructors) which takes no arguments.\n",
    "\n",
    "Best practice:\n",
    "* The constructor should initialize the data members of the class.\n",
    "* Keep it simple - you want to ensure that the constructor does not fail."
   ]
  },
  {
   "cell_type": "markdown",
   "metadata": {},
   "source": [
    "## Scope Resolution\n",
    "Scope resolution allows us to tell the compiler & future programmers that a particular identifier, e.g. a function name or variable name, is associated with a particular scope.\n",
    "\n",
    "Declare the Date constructor within the class definition and define it outside of the class definition.\n",
    "\n",
    "```cpp\n",
    "Date::Date(int d, int m, int y) {\n",
    "    Day(d);\n",
    "    Month(m);\n",
    "    Year(y);\n",
    "}\n",
    "```\n",
    "\n",
    "Scope resolution connects the constructor to the class. \n",
    "\n",
    "C++ allows different [identifiers](https://en.cppreference.com/w/cpp/language/identifiers) to have the same name, as long as they have different scope. \n",
    "The [scope resolution operator](https://www.ibm.com/support/knowledgecenter/en/ssw_ibm_i_74/rzarg/cplr175.htm) `::` is used to specify which namespace or class to search in order to resolve an identifier.\n",
    "\n",
    "Examples:\n",
    "```cpp\n",
    "Person::move(); // Call the move the function that is a member of the Person class.\n",
    "std::map m; // Initialize the map container from the C++ Standard Library.\n",
    "```\n",
    "\n",
    "Each class provides its own scope. By using the scope resolution operator, we can separate the class _declaration_ from the class _definition_.\n",
    "\n",
    "### Namespaces\n",
    "[Namespaces](https://en.cppreference.com/w/cpp/language/namespace) allow programmers to group logically related variables & functions together and avoid conflicts between two variables that have the same name in different parts of a program.\n",
    "\n",
    "```cpp\n",
    "namespace English {\n",
    "void Hello() { std::cout << \"Hello, World!\\n\"; }\n",
    "}  // namespace English\n",
    "\n",
    "namespace Spanish {\n",
    "void Hello() { std::cout << \"Hola, Mundo!\\n\"; }\n",
    "}  // namespace Spanish\n",
    "\n",
    "int main() {\n",
    "  English::Hello();\n",
    "  Spanish::Hello();\n",
    "}\n",
    "```\n",
    "\n",
    "### `std` Namespace\n",
    "`std` is the namespace used by the [C++ Standard Library](https://en.wikipedia.org/wiki/C%2B%2B_Standard_Library).\n",
    "\n",
    "Classes like `std::vector` and functions like `std::sort` are defined within the `std` namespace."
   ]
  },
  {
   "cell_type": "markdown",
   "metadata": {},
   "source": [
    "## Initializer Lists\n",
    "[Initializer lists](https://en.cppreference.com/w/cpp/language/constructor) allow us to initialize the value of member variables before an object is even created (before the class constructor runs).\n",
    "\n",
    "```cpp\n",
    "Date::Date(int d, int m, int y) : year(y) {\n",
    "  Day(d);\n",
    "  Month(m);\n",
    "}\n",
    "```\n",
    "Assigning `day` and `month` from within the constructor allows us to apply the invariants set in the mutator.\n",
    "\n",
    "In general, [prefer initialization to assignment in constructors](http://isocpp.github.io/CppCoreGuidelines/CppCoreGuidelines#c49-prefer-initialization-to-assignment-in-constructors). Initialization sets the value as soon as the object exists, whereas assignment sets the value only after the object comes into being. This means that assignment creates an opportunity to accidentally use a variable before its value is set.\n",
    "\n",
    "Initialization lists ensure that member variables are initialized _before_ the object is created. This is why class member variables can be declared `const`, but only if the member variable is initialized through an initialization list. Trying to initialize a `const` class member within the body of the constructor will not work.\n",
    "\n",
    "### Using initiali"
   ]
  },
  {
   "cell_type": "markdown",
   "metadata": {},
   "source": [
    "\n",
    "## Initializing Constant Members"
   ]
  },
  {
   "cell_type": "markdown",
   "metadata": {},
   "source": [
    "## Encapsulation"
   ]
  },
  {
   "cell_type": "markdown",
   "metadata": {},
   "source": [
    "## Accessor Functions"
   ]
  },
  {
   "cell_type": "markdown",
   "metadata": {},
   "source": [
    "## Mutator Functions"
   ]
  },
  {
   "cell_type": "markdown",
   "metadata": {},
   "source": [
    "## Bjarne on Abstraction"
   ]
  },
  {
   "cell_type": "markdown",
   "metadata": {},
   "source": [
    "## Bjarne on Solving Problems"
   ]
  }
 ],
 "metadata": {
  "kernelspec": {
   "display_name": "C++17",
   "language": "C++17",
   "name": "xcpp17"
  },
  "language_info": {
   "codemirror_mode": "text/x-c++src",
   "file_extension": ".cpp",
   "mimetype": "text/x-c++src",
   "name": "c++",
   "version": "17"
  }
 },
 "nbformat": 4,
 "nbformat_minor": 4
}
