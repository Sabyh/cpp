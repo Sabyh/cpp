{
 "cells": [
  {
   "cell_type": "markdown",
   "metadata": {},
   "source": [
    "# Introduction\n",
    "\n",
    "Andreas Haya - professor of engineering at a German university, with a PhD from the Heidelberg University.\n",
    "\n",
    "During his time in the automotive industry, he has created a number of interesting projects, such as an autonomous braking system based on computer vision with Bosch, and more recently an autonomous parking system during his time as a project manager with Volkswagen. \n",
    "\n",
    "He has created a few other courses for Udacity such as the camera course in the sensor fusion ND, and the concurrency course in this degree. \n",
    "\n",
    "Memory management gets you to the heart of C++. "
   ]
  },
  {
   "cell_type": "markdown",
   "metadata": {},
   "source": [
    "## Course Overview\n",
    "\n",
    "So far: \n",
    "\n",
    "We've learned how to create variables, specify the type (e.g. int), give it a name, and use it in the code. This also works for doubles and characters, and own data types in the form of classes or structs.\n",
    "\n",
    "Learned about pointers and references. These are commonly perceived as difficult topic, because creating pointers using the keyword `new` means they have to be deleted later on, otherwise there might be trouble. \n",
    "\n",
    "When you create variables without `new`, they will live on the stack, which is a special place in memory about which we will talk a lot in this course. \n",
    "\n",
    "If you create a variable using `new`, it will be allocated on the heap instead, which is yet another area of program memory. \n",
    "\n",
    "It is important to know both about stack and heap. Memory management on the stack is pretty straightforward. It's easy to use, but the bad news is that the size of the stack is limited to a few megabytes only. That's not enough for many programs. \n",
    "\n",
    "The heap on the other side can grow much larger, depending on your system architecture. Is it 32-bit, 64-bit? However, it has to be managed very carefully by the programmer so as to avoid performance problems or even worse. \n",
    "\n",
    "When people talk about memory management, they are most often referring to the heap. But it is the combination of stack and heap in C++, where the true potential waits. \n",
    "\n",
    "The concept of smart pointers really benefits of this combination.\n",
    "\n",
    "Memory management in modern C++ is much more than smart pointers. We will talk here about computer architecture, memory types, the process memory model, automatic memory allocation, and different ways of passing data to functions. We will discuss dynamic memory allocation which happens on the heap using `new` entity but also `malloc` and `free`, which are a legacy from the old ANSI C which is still around, but in understanding the aged concepts we'll be better able to leverage the power of the modern counterparts in C++11 and beyond. \n",
    "\n",
    "We'll look at a variety of memory management problems such as memory leaks, dangling pointers, and several more before we move on to copy and move semantics, a concept called RAII, and finally smart pointers. \n",
    "\n",
    "The final project involves creating a memory management chat bot. \n",
    "\n",
    "## Course Outline\n",
    "### 1. Overview of Memory Types\n",
    "* Memory Addresses and Hexadecimal Numbers\n",
    "* Using the Debugger to Analyze Memory\n",
    "* Types of Computer Memory\n",
    "* Cache Memory\n",
    "* Virtual Memory\n",
    "\n",
    "### 2. Variables and Memory\n",
    "* The Process Memory Model\n",
    "* Automatic Memory Allocation (The Stack)\n",
    "* Call-By-Value vs. Call-By-Reference\n",
    "\n",
    "### 3. Dynamic Memory Allocation (The Heap)\n",
    "* Heap Memory\n",
    "* Using malloc and free\n",
    "* Using new and delete\n",
    "* Typical Memory Management Problems\n",
    "\n",
    "### 4. Resource Copying Policies\n",
    "* Copy Semantics\n",
    "* Lvalues and rvalues\n",
    "* Move Semantics\n",
    "\n",
    "### 5. Smart Pointers\n",
    "* Resource Acquisition Is Initialization (RAII)\n",
    "* Smart pointers\n",
    "* Transferring ownership\n",
    "\n",
    "### 6. Project: Memory Management Chatbot"
   ]
  },
  {
   "cell_type": "markdown",
   "metadata": {},
   "source": [
    "## Bjarne on Memory Management\n",
    "\n",
    "### What is memory management?\n",
    "There's something that came in at the first week of designing C++, the idea that you have an operation that initializes and an operation that cleans up when you're finished. That's how you can have things in the scope. Because once there is a variable, a constructor will start up when you first come to it. And when you're finished at the end of the scope, the destructor will be coordinated to clean up all of this. \n",
    "\n",
    "There are people who say that's the real secret to C++. There was a competition, people trying to find what are your favorite C++ features, and everybody agreed with a guy called Roger Orr: The end curly brace. Because that's where all the magic happens, that's where all the destructors fire and clean up the messes. And that means you can actually have these messes: you can grab lots of resources, take locks, open files, and all will be cleaned up at the end. "
   ]
  }
 ],
 "metadata": {
  "kernelspec": {
   "display_name": "C++17",
   "language": "C++17",
   "name": "xcpp17"
  },
  "language_info": {
   "codemirror_mode": "text/x-c++src",
   "file_extension": ".cpp",
   "mimetype": "text/x-c++src",
   "name": "c++",
   "version": "17"
  }
 },
 "nbformat": 4,
 "nbformat_minor": 4
}
